{
 "cells": [
  {
   "cell_type": "markdown",
   "id": "737bcef4-3597-4560-903b-93dd927c20fa",
   "metadata": {},
   "source": [
    "## Variáveis e Operadores"
   ]
  },
  {
   "cell_type": "code",
   "execution_count": 1,
   "id": "8ce3fcab-51cc-47ea-9453-64d1215aabb8",
   "metadata": {},
   "outputs": [
    {
     "name": "stdin",
     "output_type": "stream",
     "text": [
      "Digite o primeiro número:  68\n",
      "Digite o segundo número:  90\n"
     ]
    },
    {
     "name": "stdout",
     "output_type": "stream",
     "text": [
      "Soma: 158\n",
      "Subtração: -22\n",
      "Multiplicação: 6120\n",
      "Divisão: 0.7555555555555555\n"
     ]
    }
   ],
   "source": [
    "num1 = int(input(\"Digite o primeiro número: \"))\n",
    "num2 = int(input(\"Digite o segundo número: \"))\n",
    "\n",
    "print(\"Soma:\", num1 + num2)\n",
    "\n",
    "print(\"Subtração:\", num1 - num2)\n",
    "\n",
    "print(\"Multiplicação:\", num1 * num2)\n",
    "\n",
    "print(\"Divisão:\", num1 / num2)"
   ]
  },
  {
   "cell_type": "code",
   "execution_count": 2,
   "id": "76fc4ca5-13df-428e-acc7-8d7bad8c265b",
   "metadata": {},
   "outputs": [
    {
     "name": "stdin",
     "output_type": "stream",
     "text": [
      "Digite o raio do círculo:  7.8\n"
     ]
    },
    {
     "name": "stdout",
     "output_type": "stream",
     "text": [
      "A área do círculo é: 191.134497044403\n"
     ]
    }
   ],
   "source": [
    "import math\n",
    "\n",
    "raio = float(input(\"Digite o raio do círculo: \"))\n",
    "\n",
    "area = math.pi * raio ** 2\n",
    "\n",
    "print(\"A área do círculo é:\", area)"
   ]
  },
  {
   "cell_type": "markdown",
   "id": "56413256-edfd-497e-8b1e-b6fbae66bad6",
   "metadata": {},
   "source": [
    "## Estruturas de seleção e repetição"
   ]
  },
  {
   "cell_type": "code",
   "execution_count": 3,
   "id": "d7587272-4621-4863-80c1-20265d018ef2",
   "metadata": {},
   "outputs": [
    {
     "name": "stdin",
     "output_type": "stream",
     "text": [
      "Digite a sua idade:  4\n"
     ]
    },
    {
     "name": "stdout",
     "output_type": "stream",
     "text": [
      "Você é menor de idade.\n"
     ]
    }
   ],
   "source": [
    "idade = int(input(\"Digite a sua idade: \"))\n",
    "\n",
    "if idade < 18:\n",
    "    print(\"Você é menor de idade.\")\n",
    "else:\n",
    "    print(\"Você é maior de idade.\")"
   ]
  },
  {
   "cell_type": "code",
   "execution_count": 4,
   "id": "b929d493-1f41-40cc-8b32-83ca745316f0",
   "metadata": {},
   "outputs": [
    {
     "name": "stdin",
     "output_type": "stream",
     "text": [
      "Adivinhe o número secreto (entre 1 e 10):  3\n"
     ]
    },
    {
     "name": "stdout",
     "output_type": "stream",
     "text": [
      "O número secreto é maior. Tente novamente!\n"
     ]
    },
    {
     "name": "stdin",
     "output_type": "stream",
     "text": [
      "Adivinhe o número secreto (entre 1 e 10):  7\n"
     ]
    },
    {
     "name": "stdout",
     "output_type": "stream",
     "text": [
      "O número secreto é maior. Tente novamente!\n"
     ]
    },
    {
     "name": "stdin",
     "output_type": "stream",
     "text": [
      "Adivinhe o número secreto (entre 1 e 10):  9\n"
     ]
    },
    {
     "name": "stdout",
     "output_type": "stream",
     "text": [
      "O número secreto é menor. Tente novamente!\n"
     ]
    },
    {
     "name": "stdin",
     "output_type": "stream",
     "text": [
      "Adivinhe o número secreto (entre 1 e 10):  8\n"
     ]
    },
    {
     "name": "stdout",
     "output_type": "stream",
     "text": [
      "Parabéns! Você acertou o número secreto!\n"
     ]
    }
   ],
   "source": [
    "import random\n",
    "# escolhi de 0 a 10 porque fica mais fácil de achar =)\n",
    "numero_secreto = random.randint(1, 10)\n",
    "\n",
    "while True:\n",
    "    palpite = int(input(\"Adivinhe o número secreto (entre 1 e 10): \"))\n",
    "\n",
    "    if palpite < numero_secreto:\n",
    "        print(\"O número secreto é maior. Tente novamente!\")\n",
    "    elif palpite > numero_secreto:\n",
    "        print(\"O número secreto é menor. Tente novamente!\")\n",
    "    else:\n",
    "        print(\"Parabéns! Você acertou o número secreto!\")\n",
    "        break"
   ]
  },
  {
   "cell_type": "markdown",
   "id": "208ace9d-10da-480d-8992-5f039327f967",
   "metadata": {},
   "source": [
    "## Coleções"
   ]
  },
  {
   "cell_type": "code",
   "execution_count": 5,
   "id": "80ed391c-133e-470d-947d-1c3e5eb1a51b",
   "metadata": {},
   "outputs": [
    {
     "name": "stdin",
     "output_type": "stream",
     "text": [
      "Digite um número inteiro:  145\n",
      "Digite um número inteiro:  354\n",
      "Digite um número inteiro:  4\n",
      "Digite um número inteiro:  58\n",
      "Digite um número inteiro:  9\n"
     ]
    },
    {
     "name": "stdout",
     "output_type": "stream",
     "text": [
      "Elementos da lista: [145, 354, 4, 58, 9]\n"
     ]
    }
   ],
   "source": [
    "lista = []\n",
    "\n",
    "for i in range(5):\n",
    "    numero = int(input(\"Digite um número inteiro: \"))\n",
    "    lista.append(numero)\n",
    "\n",
    "print(\"Elementos da lista:\", lista)"
   ]
  },
  {
   "cell_type": "code",
   "execution_count": 7,
   "id": "37dcd8d6-2c9f-43b3-b4d6-26896235030a",
   "metadata": {},
   "outputs": [
    {
     "name": "stdin",
     "output_type": "stream",
     "text": [
      "Digite o nome de um animal:  tigre\n"
     ]
    },
    {
     "name": "stdout",
     "output_type": "stream",
     "text": [
      "O animal está presente na lista!\n"
     ]
    }
   ],
   "source": [
    "animais = (\"cachorro\", \"gato\", \"elefante\", \"tartaruga\", \"tigre\")\n",
    "\n",
    "animal = input(\"Digite o nome de um animal: \")\n",
    "\n",
    "if animal in animais:\n",
    "    print(\"O animal está presente na lista!\")\n",
    "else:\n",
    "    print(\"O animal não está presente na lista.\")"
   ]
  },
  {
   "cell_type": "markdown",
   "id": "f253be30-a89e-483b-981f-a72be597f4ed",
   "metadata": {},
   "source": [
    "## Reutilização de código"
   ]
  },
  {
   "cell_type": "code",
   "execution_count": 8,
   "id": "2f991013-2f56-44b8-87c7-fedbbe2443c5",
   "metadata": {},
   "outputs": [
    {
     "name": "stdin",
     "output_type": "stream",
     "text": [
      "Digite o seu nome:  Alice\n"
     ]
    },
    {
     "name": "stdout",
     "output_type": "stream",
     "text": [
      "Olá, Alice! Seja bem-vindo(a)!\n"
     ]
    }
   ],
   "source": [
    "def saudacao():\r\n",
    "    nome = input(\"Digite o seu nome: \")\r\n",
    "    print(f\"Olá, {nome}! Seja bem-vindo(a)!\")\r",
    "\r\n",
    "# exemplo de uso da função\r\n",
    "saudacao()"
   ]
  },
  {
   "cell_type": "code",
   "execution_count": 9,
   "id": "a20cfa6a-5835-4899-85ab-4a3997586191",
   "metadata": {},
   "outputs": [
    {
     "name": "stdout",
     "output_type": "stream",
     "text": [
      "True\n",
      "False\n"
     ]
    }
   ],
   "source": [
    "def verifica_primo(numero):\n",
    "    if numero < 2:\n",
    "        return False\n",
    "    for i in range(2, int(numero ** 0.5) + 1):\n",
    "        if numero % i == 0:\n",
    "            return False\n",
    "    return True\n",
    "\n",
    "# utilizando a função como módulo\n",
    "print(verifica_primo(7))\n",
    "print(verifica_primo(8))"
   ]
  }
 ],
 "metadata": {
  "kernelspec": {
   "display_name": "Python 3 (ipykernel)",
   "language": "python",
   "name": "python3"
  },
  "language_info": {
   "codemirror_mode": {
    "name": "ipython",
    "version": 3
   },
   "file_extension": ".py",
   "mimetype": "text/x-python",
   "name": "python",
   "nbconvert_exporter": "python",
   "pygments_lexer": "ipython3",
   "version": "3.10.4"
  }
 },
 "nbformat": 4,
 "nbformat_minor": 5
}
