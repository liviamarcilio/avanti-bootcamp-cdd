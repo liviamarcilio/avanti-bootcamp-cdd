{
 "cells": [
  {
   "cell_type": "markdown",
   "id": "c1900fbd-05f8-4d02-8cd3-0c9949ea2dc7",
   "metadata": {},
   "source": [
    "# Dataset penguis"
   ]
  },
  {
   "cell_type": "markdown",
   "id": "1da11f3c-382a-4146-b27f-dcc1a4989142",
   "metadata": {},
   "source": [
    "## Carregar bibliotecas"
   ]
  },
  {
   "cell_type": "code",
   "execution_count": 10,
   "id": "5d6c68ae-157f-4d45-aac0-84823d66fbce",
   "metadata": {},
   "outputs": [],
   "source": [
    "import pandas as pd\n",
    "import seaborn as sns\n",
    "import statistics"
   ]
  },
  {
   "cell_type": "code",
   "execution_count": 20,
   "id": "17462210-c672-4803-8b93-78968113fa69",
   "metadata": {},
   "outputs": [
    {
     "data": {
      "text/html": [
       "<div>\n",
       "<style scoped>\n",
       "    .dataframe tbody tr th:only-of-type {\n",
       "        vertical-align: middle;\n",
       "    }\n",
       "\n",
       "    .dataframe tbody tr th {\n",
       "        vertical-align: top;\n",
       "    }\n",
       "\n",
       "    .dataframe thead th {\n",
       "        text-align: right;\n",
       "    }\n",
       "</style>\n",
       "<table border=\"1\" class=\"dataframe\">\n",
       "  <thead>\n",
       "    <tr style=\"text-align: right;\">\n",
       "      <th></th>\n",
       "      <th>species</th>\n",
       "      <th>island</th>\n",
       "      <th>bill_length_mm</th>\n",
       "      <th>bill_depth_mm</th>\n",
       "      <th>flipper_length_mm</th>\n",
       "      <th>body_mass_g</th>\n",
       "      <th>sex</th>\n",
       "    </tr>\n",
       "  </thead>\n",
       "  <tbody>\n",
       "    <tr>\n",
       "      <th>0</th>\n",
       "      <td>Adelie</td>\n",
       "      <td>Torgersen</td>\n",
       "      <td>39.1</td>\n",
       "      <td>18.7</td>\n",
       "      <td>181.0</td>\n",
       "      <td>3750.0</td>\n",
       "      <td>Male</td>\n",
       "    </tr>\n",
       "    <tr>\n",
       "      <th>1</th>\n",
       "      <td>Adelie</td>\n",
       "      <td>Torgersen</td>\n",
       "      <td>39.5</td>\n",
       "      <td>17.4</td>\n",
       "      <td>186.0</td>\n",
       "      <td>3800.0</td>\n",
       "      <td>Female</td>\n",
       "    </tr>\n",
       "    <tr>\n",
       "      <th>2</th>\n",
       "      <td>Adelie</td>\n",
       "      <td>Torgersen</td>\n",
       "      <td>40.3</td>\n",
       "      <td>18.0</td>\n",
       "      <td>195.0</td>\n",
       "      <td>3250.0</td>\n",
       "      <td>Female</td>\n",
       "    </tr>\n",
       "    <tr>\n",
       "      <th>3</th>\n",
       "      <td>Adelie</td>\n",
       "      <td>Torgersen</td>\n",
       "      <td>NaN</td>\n",
       "      <td>NaN</td>\n",
       "      <td>NaN</td>\n",
       "      <td>NaN</td>\n",
       "      <td>NaN</td>\n",
       "    </tr>\n",
       "    <tr>\n",
       "      <th>4</th>\n",
       "      <td>Adelie</td>\n",
       "      <td>Torgersen</td>\n",
       "      <td>36.7</td>\n",
       "      <td>19.3</td>\n",
       "      <td>193.0</td>\n",
       "      <td>3450.0</td>\n",
       "      <td>Female</td>\n",
       "    </tr>\n",
       "    <tr>\n",
       "      <th>...</th>\n",
       "      <td>...</td>\n",
       "      <td>...</td>\n",
       "      <td>...</td>\n",
       "      <td>...</td>\n",
       "      <td>...</td>\n",
       "      <td>...</td>\n",
       "      <td>...</td>\n",
       "    </tr>\n",
       "    <tr>\n",
       "      <th>339</th>\n",
       "      <td>Gentoo</td>\n",
       "      <td>Biscoe</td>\n",
       "      <td>NaN</td>\n",
       "      <td>NaN</td>\n",
       "      <td>NaN</td>\n",
       "      <td>NaN</td>\n",
       "      <td>NaN</td>\n",
       "    </tr>\n",
       "    <tr>\n",
       "      <th>340</th>\n",
       "      <td>Gentoo</td>\n",
       "      <td>Biscoe</td>\n",
       "      <td>46.8</td>\n",
       "      <td>14.3</td>\n",
       "      <td>215.0</td>\n",
       "      <td>4850.0</td>\n",
       "      <td>Female</td>\n",
       "    </tr>\n",
       "    <tr>\n",
       "      <th>341</th>\n",
       "      <td>Gentoo</td>\n",
       "      <td>Biscoe</td>\n",
       "      <td>50.4</td>\n",
       "      <td>15.7</td>\n",
       "      <td>222.0</td>\n",
       "      <td>5750.0</td>\n",
       "      <td>Male</td>\n",
       "    </tr>\n",
       "    <tr>\n",
       "      <th>342</th>\n",
       "      <td>Gentoo</td>\n",
       "      <td>Biscoe</td>\n",
       "      <td>45.2</td>\n",
       "      <td>14.8</td>\n",
       "      <td>212.0</td>\n",
       "      <td>5200.0</td>\n",
       "      <td>Female</td>\n",
       "    </tr>\n",
       "    <tr>\n",
       "      <th>343</th>\n",
       "      <td>Gentoo</td>\n",
       "      <td>Biscoe</td>\n",
       "      <td>49.9</td>\n",
       "      <td>16.1</td>\n",
       "      <td>213.0</td>\n",
       "      <td>5400.0</td>\n",
       "      <td>Male</td>\n",
       "    </tr>\n",
       "  </tbody>\n",
       "</table>\n",
       "<p>344 rows × 7 columns</p>\n",
       "</div>"
      ],
      "text/plain": [
       "    species     island  bill_length_mm  bill_depth_mm  flipper_length_mm  \\\n",
       "0    Adelie  Torgersen            39.1           18.7              181.0   \n",
       "1    Adelie  Torgersen            39.5           17.4              186.0   \n",
       "2    Adelie  Torgersen            40.3           18.0              195.0   \n",
       "3    Adelie  Torgersen             NaN            NaN                NaN   \n",
       "4    Adelie  Torgersen            36.7           19.3              193.0   \n",
       "..      ...        ...             ...            ...                ...   \n",
       "339  Gentoo     Biscoe             NaN            NaN                NaN   \n",
       "340  Gentoo     Biscoe            46.8           14.3              215.0   \n",
       "341  Gentoo     Biscoe            50.4           15.7              222.0   \n",
       "342  Gentoo     Biscoe            45.2           14.8              212.0   \n",
       "343  Gentoo     Biscoe            49.9           16.1              213.0   \n",
       "\n",
       "     body_mass_g     sex  \n",
       "0         3750.0    Male  \n",
       "1         3800.0  Female  \n",
       "2         3250.0  Female  \n",
       "3            NaN     NaN  \n",
       "4         3450.0  Female  \n",
       "..           ...     ...  \n",
       "339          NaN     NaN  \n",
       "340       4850.0  Female  \n",
       "341       5750.0    Male  \n",
       "342       5200.0  Female  \n",
       "343       5400.0    Male  \n",
       "\n",
       "[344 rows x 7 columns]"
      ]
     },
     "execution_count": 20,
     "metadata": {},
     "output_type": "execute_result"
    }
   ],
   "source": [
    "# Carregar conjunto de dados\n",
    "\n",
    "df = sns.load_dataset('penguins')\n",
    "df"
   ]
  },
  {
   "cell_type": "code",
   "execution_count": 13,
   "id": "a2487642-ac64-4d6c-a459-54d0c7439a68",
   "metadata": {},
   "outputs": [
    {
     "name": "stdout",
     "output_type": "stream",
     "text": [
      "[{'species': 'Adelie', 'island': 'Torgersen', 'bill_length_mm': 39.1, 'bill_depth_mm': 18.7, 'flipper_length_mm': 181.0, 'body_mass_g': 3750.0, 'sex': 'Male'}, {'species': 'Adelie', 'island': 'Torgersen', 'bill_length_mm': 39.5, 'bill_depth_mm': 17.4, 'flipper_length_mm': 186.0, 'body_mass_g': 3800.0, 'sex': 'Female'}, {'species': 'Adelie', 'island': 'Torgersen', 'bill_length_mm': 40.3, 'bill_depth_mm': 18.0, 'flipper_length_mm': 195.0, 'body_mass_g': 3250.0, 'sex': 'Female'}, {'species': 'Adelie', 'island': 'Torgersen', 'bill_length_mm': nan, 'bill_depth_mm': nan, 'flipper_length_mm': nan, 'body_mass_g': nan, 'sex': nan}, {'species': 'Adelie', 'island': 'Torgersen', 'bill_length_mm': 36.7, 'bill_depth_mm': 19.3, 'flipper_length_mm': 193.0, 'body_mass_g': 3450.0, 'sex': 'Female'}, {'species': 'Adelie', 'island': 'Torgersen', 'bill_length_mm': 39.3, 'bill_depth_mm': 20.6, 'flipper_length_mm': 190.0, 'body_mass_g': 3650.0, 'sex': 'Male'}, {'species': 'Adelie', 'island': 'Torgersen', 'bill_length_mm': 38.9, 'bill_depth_mm': 17.8, 'flipper_length_mm': 181.0, 'body_mass_g': 3625.0, 'sex': 'Female'}, {'species': 'Adelie', 'island': 'Torgersen', 'bill_length_mm': 39.2, 'bill_depth_mm': 19.6, 'flipper_length_mm': 195.0, 'body_mass_g': 4675.0, 'sex': 'Male'}, {'species': 'Adelie', 'island': 'Torgersen', 'bill_length_mm': 34.1, 'bill_depth_mm': 18.1, 'flipper_length_mm': 193.0, 'body_mass_g': 3475.0, 'sex': nan}, {'species': 'Adelie', 'island': 'Torgersen', 'bill_length_mm': 42.0, 'bill_depth_mm': 20.2, 'flipper_length_mm': 190.0, 'body_mass_g': 4250.0, 'sex': nan}, {'species': 'Adelie', 'island': 'Torgersen', 'bill_length_mm': 37.8, 'bill_depth_mm': 17.1, 'flipper_length_mm': 186.0, 'body_mass_g': 3300.0, 'sex': nan}, {'species': 'Adelie', 'island': 'Torgersen', 'bill_length_mm': 37.8, 'bill_depth_mm': 17.3, 'flipper_length_mm': 180.0, 'body_mass_g': 3700.0, 'sex': nan}, {'species': 'Adelie', 'island': 'Torgersen', 'bill_length_mm': 41.1, 'bill_depth_mm': 17.6, 'flipper_length_mm': 182.0, 'body_mass_g': 3200.0, 'sex': 'Female'}, {'species': 'Adelie', 'island': 'Torgersen', 'bill_length_mm': 38.6, 'bill_depth_mm': 21.2, 'flipper_length_mm': 191.0, 'body_mass_g': 3800.0, 'sex': 'Male'}, {'species': 'Adelie', 'island': 'Torgersen', 'bill_length_mm': 34.6, 'bill_depth_mm': 21.1, 'flipper_length_mm': 198.0, 'body_mass_g': 4400.0, 'sex': 'Male'}, {'species': 'Adelie', 'island': 'Torgersen', 'bill_length_mm': 36.6, 'bill_depth_mm': 17.8, 'flipper_length_mm': 185.0, 'body_mass_g': 3700.0, 'sex': 'Female'}, {'species': 'Adelie', 'island': 'Torgersen', 'bill_length_mm': 38.7, 'bill_depth_mm': 19.0, 'flipper_length_mm': 195.0, 'body_mass_g': 3450.0, 'sex': 'Female'}, {'species': 'Adelie', 'island': 'Torgersen', 'bill_length_mm': 42.5, 'bill_depth_mm': 20.7, 'flipper_length_mm': 197.0, 'body_mass_g': 4500.0, 'sex': 'Male'}, {'species': 'Adelie', 'island': 'Torgersen', 'bill_length_mm': 34.4, 'bill_depth_mm': 18.4, 'flipper_length_mm': 184.0, 'body_mass_g': 3325.0, 'sex': 'Female'}, {'species': 'Adelie', 'island': 'Torgersen', 'bill_length_mm': 46.0, 'bill_depth_mm': 21.5, 'flipper_length_mm': 194.0, 'body_mass_g': 4200.0, 'sex': 'Male'}, {'species': 'Adelie', 'island': 'Biscoe', 'bill_length_mm': 37.8, 'bill_depth_mm': 18.3, 'flipper_length_mm': 174.0, 'body_mass_g': 3400.0, 'sex': 'Female'}, {'species': 'Adelie', 'island': 'Biscoe', 'bill_length_mm': 37.7, 'bill_depth_mm': 18.7, 'flipper_length_mm': 180.0, 'body_mass_g': 3600.0, 'sex': 'Male'}, {'species': 'Adelie', 'island': 'Biscoe', 'bill_length_mm': 35.9, 'bill_depth_mm': 19.2, 'flipper_length_mm': 189.0, 'body_mass_g': 3800.0, 'sex': 'Female'}, {'species': 'Adelie', 'island': 'Biscoe', 'bill_length_mm': 38.2, 'bill_depth_mm': 18.1, 'flipper_length_mm': 185.0, 'body_mass_g': 3950.0, 'sex': 'Male'}, {'species': 'Adelie', 'island': 'Biscoe', 'bill_length_mm': 38.8, 'bill_depth_mm': 17.2, 'flipper_length_mm': 180.0, 'body_mass_g': 3800.0, 'sex': 'Male'}, {'species': 'Adelie', 'island': 'Biscoe', 'bill_length_mm': 35.3, 'bill_depth_mm': 18.9, 'flipper_length_mm': 187.0, 'body_mass_g': 3800.0, 'sex': 'Female'}, {'species': 'Adelie', 'island': 'Biscoe', 'bill_length_mm': 40.6, 'bill_depth_mm': 18.6, 'flipper_length_mm': 183.0, 'body_mass_g': 3550.0, 'sex': 'Male'}, {'species': 'Adelie', 'island': 'Biscoe', 'bill_length_mm': 40.5, 'bill_depth_mm': 17.9, 'flipper_length_mm': 187.0, 'body_mass_g': 3200.0, 'sex': 'Female'}, {'species': 'Adelie', 'island': 'Biscoe', 'bill_length_mm': 37.9, 'bill_depth_mm': 18.6, 'flipper_length_mm': 172.0, 'body_mass_g': 3150.0, 'sex': 'Female'}, {'species': 'Adelie', 'island': 'Biscoe', 'bill_length_mm': 40.5, 'bill_depth_mm': 18.9, 'flipper_length_mm': 180.0, 'body_mass_g': 3950.0, 'sex': 'Male'}, {'species': 'Adelie', 'island': 'Dream', 'bill_length_mm': 39.5, 'bill_depth_mm': 16.7, 'flipper_length_mm': 178.0, 'body_mass_g': 3250.0, 'sex': 'Female'}, {'species': 'Adelie', 'island': 'Dream', 'bill_length_mm': 37.2, 'bill_depth_mm': 18.1, 'flipper_length_mm': 178.0, 'body_mass_g': 3900.0, 'sex': 'Male'}, {'species': 'Adelie', 'island': 'Dream', 'bill_length_mm': 39.5, 'bill_depth_mm': 17.8, 'flipper_length_mm': 188.0, 'body_mass_g': 3300.0, 'sex': 'Female'}, {'species': 'Adelie', 'island': 'Dream', 'bill_length_mm': 40.9, 'bill_depth_mm': 18.9, 'flipper_length_mm': 184.0, 'body_mass_g': 3900.0, 'sex': 'Male'}, {'species': 'Adelie', 'island': 'Dream', 'bill_length_mm': 36.4, 'bill_depth_mm': 17.0, 'flipper_length_mm': 195.0, 'body_mass_g': 3325.0, 'sex': 'Female'}, {'species': 'Adelie', 'island': 'Dream', 'bill_length_mm': 39.2, 'bill_depth_mm': 21.1, 'flipper_length_mm': 196.0, 'body_mass_g': 4150.0, 'sex': 'Male'}, {'species': 'Adelie', 'island': 'Dream', 'bill_length_mm': 38.8, 'bill_depth_mm': 20.0, 'flipper_length_mm': 190.0, 'body_mass_g': 3950.0, 'sex': 'Male'}, {'species': 'Adelie', 'island': 'Dream', 'bill_length_mm': 42.2, 'bill_depth_mm': 18.5, 'flipper_length_mm': 180.0, 'body_mass_g': 3550.0, 'sex': 'Female'}, {'species': 'Adelie', 'island': 'Dream', 'bill_length_mm': 37.6, 'bill_depth_mm': 19.3, 'flipper_length_mm': 181.0, 'body_mass_g': 3300.0, 'sex': 'Female'}, {'species': 'Adelie', 'island': 'Dream', 'bill_length_mm': 39.8, 'bill_depth_mm': 19.1, 'flipper_length_mm': 184.0, 'body_mass_g': 4650.0, 'sex': 'Male'}, {'species': 'Adelie', 'island': 'Dream', 'bill_length_mm': 36.5, 'bill_depth_mm': 18.0, 'flipper_length_mm': 182.0, 'body_mass_g': 3150.0, 'sex': 'Female'}, {'species': 'Adelie', 'island': 'Dream', 'bill_length_mm': 40.8, 'bill_depth_mm': 18.4, 'flipper_length_mm': 195.0, 'body_mass_g': 3900.0, 'sex': 'Male'}, {'species': 'Adelie', 'island': 'Dream', 'bill_length_mm': 36.0, 'bill_depth_mm': 18.5, 'flipper_length_mm': 186.0, 'body_mass_g': 3100.0, 'sex': 'Female'}, {'species': 'Adelie', 'island': 'Dream', 'bill_length_mm': 44.1, 'bill_depth_mm': 19.7, 'flipper_length_mm': 196.0, 'body_mass_g': 4400.0, 'sex': 'Male'}, {'species': 'Adelie', 'island': 'Dream', 'bill_length_mm': 37.0, 'bill_depth_mm': 16.9, 'flipper_length_mm': 185.0, 'body_mass_g': 3000.0, 'sex': 'Female'}, {'species': 'Adelie', 'island': 'Dream', 'bill_length_mm': 39.6, 'bill_depth_mm': 18.8, 'flipper_length_mm': 190.0, 'body_mass_g': 4600.0, 'sex': 'Male'}, {'species': 'Adelie', 'island': 'Dream', 'bill_length_mm': 41.1, 'bill_depth_mm': 19.0, 'flipper_length_mm': 182.0, 'body_mass_g': 3425.0, 'sex': 'Male'}, {'species': 'Adelie', 'island': 'Dream', 'bill_length_mm': 37.5, 'bill_depth_mm': 18.9, 'flipper_length_mm': 179.0, 'body_mass_g': 2975.0, 'sex': nan}, {'species': 'Adelie', 'island': 'Dream', 'bill_length_mm': 36.0, 'bill_depth_mm': 17.9, 'flipper_length_mm': 190.0, 'body_mass_g': 3450.0, 'sex': 'Female'}, {'species': 'Adelie', 'island': 'Dream', 'bill_length_mm': 42.3, 'bill_depth_mm': 21.2, 'flipper_length_mm': 191.0, 'body_mass_g': 4150.0, 'sex': 'Male'}, {'species': 'Adelie', 'island': 'Biscoe', 'bill_length_mm': 39.6, 'bill_depth_mm': 17.7, 'flipper_length_mm': 186.0, 'body_mass_g': 3500.0, 'sex': 'Female'}, {'species': 'Adelie', 'island': 'Biscoe', 'bill_length_mm': 40.1, 'bill_depth_mm': 18.9, 'flipper_length_mm': 188.0, 'body_mass_g': 4300.0, 'sex': 'Male'}, {'species': 'Adelie', 'island': 'Biscoe', 'bill_length_mm': 35.0, 'bill_depth_mm': 17.9, 'flipper_length_mm': 190.0, 'body_mass_g': 3450.0, 'sex': 'Female'}, {'species': 'Adelie', 'island': 'Biscoe', 'bill_length_mm': 42.0, 'bill_depth_mm': 19.5, 'flipper_length_mm': 200.0, 'body_mass_g': 4050.0, 'sex': 'Male'}, {'species': 'Adelie', 'island': 'Biscoe', 'bill_length_mm': 34.5, 'bill_depth_mm': 18.1, 'flipper_length_mm': 187.0, 'body_mass_g': 2900.0, 'sex': 'Female'}, {'species': 'Adelie', 'island': 'Biscoe', 'bill_length_mm': 41.4, 'bill_depth_mm': 18.6, 'flipper_length_mm': 191.0, 'body_mass_g': 3700.0, 'sex': 'Male'}, {'species': 'Adelie', 'island': 'Biscoe', 'bill_length_mm': 39.0, 'bill_depth_mm': 17.5, 'flipper_length_mm': 186.0, 'body_mass_g': 3550.0, 'sex': 'Female'}, {'species': 'Adelie', 'island': 'Biscoe', 'bill_length_mm': 40.6, 'bill_depth_mm': 18.8, 'flipper_length_mm': 193.0, 'body_mass_g': 3800.0, 'sex': 'Male'}, {'species': 'Adelie', 'island': 'Biscoe', 'bill_length_mm': 36.5, 'bill_depth_mm': 16.6, 'flipper_length_mm': 181.0, 'body_mass_g': 2850.0, 'sex': 'Female'}, {'species': 'Adelie', 'island': 'Biscoe', 'bill_length_mm': 37.6, 'bill_depth_mm': 19.1, 'flipper_length_mm': 194.0, 'body_mass_g': 3750.0, 'sex': 'Male'}, {'species': 'Adelie', 'island': 'Biscoe', 'bill_length_mm': 35.7, 'bill_depth_mm': 16.9, 'flipper_length_mm': 185.0, 'body_mass_g': 3150.0, 'sex': 'Female'}, {'species': 'Adelie', 'island': 'Biscoe', 'bill_length_mm': 41.3, 'bill_depth_mm': 21.1, 'flipper_length_mm': 195.0, 'body_mass_g': 4400.0, 'sex': 'Male'}, {'species': 'Adelie', 'island': 'Biscoe', 'bill_length_mm': 37.6, 'bill_depth_mm': 17.0, 'flipper_length_mm': 185.0, 'body_mass_g': 3600.0, 'sex': 'Female'}, {'species': 'Adelie', 'island': 'Biscoe', 'bill_length_mm': 41.1, 'bill_depth_mm': 18.2, 'flipper_length_mm': 192.0, 'body_mass_g': 4050.0, 'sex': 'Male'}, {'species': 'Adelie', 'island': 'Biscoe', 'bill_length_mm': 36.4, 'bill_depth_mm': 17.1, 'flipper_length_mm': 184.0, 'body_mass_g': 2850.0, 'sex': 'Female'}, {'species': 'Adelie', 'island': 'Biscoe', 'bill_length_mm': 41.6, 'bill_depth_mm': 18.0, 'flipper_length_mm': 192.0, 'body_mass_g': 3950.0, 'sex': 'Male'}, {'species': 'Adelie', 'island': 'Biscoe', 'bill_length_mm': 35.5, 'bill_depth_mm': 16.2, 'flipper_length_mm': 195.0, 'body_mass_g': 3350.0, 'sex': 'Female'}, {'species': 'Adelie', 'island': 'Biscoe', 'bill_length_mm': 41.1, 'bill_depth_mm': 19.1, 'flipper_length_mm': 188.0, 'body_mass_g': 4100.0, 'sex': 'Male'}, {'species': 'Adelie', 'island': 'Torgersen', 'bill_length_mm': 35.9, 'bill_depth_mm': 16.6, 'flipper_length_mm': 190.0, 'body_mass_g': 3050.0, 'sex': 'Female'}, {'species': 'Adelie', 'island': 'Torgersen', 'bill_length_mm': 41.8, 'bill_depth_mm': 19.4, 'flipper_length_mm': 198.0, 'body_mass_g': 4450.0, 'sex': 'Male'}, {'species': 'Adelie', 'island': 'Torgersen', 'bill_length_mm': 33.5, 'bill_depth_mm': 19.0, 'flipper_length_mm': 190.0, 'body_mass_g': 3600.0, 'sex': 'Female'}, {'species': 'Adelie', 'island': 'Torgersen', 'bill_length_mm': 39.7, 'bill_depth_mm': 18.4, 'flipper_length_mm': 190.0, 'body_mass_g': 3900.0, 'sex': 'Male'}, {'species': 'Adelie', 'island': 'Torgersen', 'bill_length_mm': 39.6, 'bill_depth_mm': 17.2, 'flipper_length_mm': 196.0, 'body_mass_g': 3550.0, 'sex': 'Female'}, {'species': 'Adelie', 'island': 'Torgersen', 'bill_length_mm': 45.8, 'bill_depth_mm': 18.9, 'flipper_length_mm': 197.0, 'body_mass_g': 4150.0, 'sex': 'Male'}, {'species': 'Adelie', 'island': 'Torgersen', 'bill_length_mm': 35.5, 'bill_depth_mm': 17.5, 'flipper_length_mm': 190.0, 'body_mass_g': 3700.0, 'sex': 'Female'}, {'species': 'Adelie', 'island': 'Torgersen', 'bill_length_mm': 42.8, 'bill_depth_mm': 18.5, 'flipper_length_mm': 195.0, 'body_mass_g': 4250.0, 'sex': 'Male'}, {'species': 'Adelie', 'island': 'Torgersen', 'bill_length_mm': 40.9, 'bill_depth_mm': 16.8, 'flipper_length_mm': 191.0, 'body_mass_g': 3700.0, 'sex': 'Female'}, {'species': 'Adelie', 'island': 'Torgersen', 'bill_length_mm': 37.2, 'bill_depth_mm': 19.4, 'flipper_length_mm': 184.0, 'body_mass_g': 3900.0, 'sex': 'Male'}, {'species': 'Adelie', 'island': 'Torgersen', 'bill_length_mm': 36.2, 'bill_depth_mm': 16.1, 'flipper_length_mm': 187.0, 'body_mass_g': 3550.0, 'sex': 'Female'}, {'species': 'Adelie', 'island': 'Torgersen', 'bill_length_mm': 42.1, 'bill_depth_mm': 19.1, 'flipper_length_mm': 195.0, 'body_mass_g': 4000.0, 'sex': 'Male'}, {'species': 'Adelie', 'island': 'Torgersen', 'bill_length_mm': 34.6, 'bill_depth_mm': 17.2, 'flipper_length_mm': 189.0, 'body_mass_g': 3200.0, 'sex': 'Female'}, {'species': 'Adelie', 'island': 'Torgersen', 'bill_length_mm': 42.9, 'bill_depth_mm': 17.6, 'flipper_length_mm': 196.0, 'body_mass_g': 4700.0, 'sex': 'Male'}, {'species': 'Adelie', 'island': 'Torgersen', 'bill_length_mm': 36.7, 'bill_depth_mm': 18.8, 'flipper_length_mm': 187.0, 'body_mass_g': 3800.0, 'sex': 'Female'}, {'species': 'Adelie', 'island': 'Torgersen', 'bill_length_mm': 35.1, 'bill_depth_mm': 19.4, 'flipper_length_mm': 193.0, 'body_mass_g': 4200.0, 'sex': 'Male'}, {'species': 'Adelie', 'island': 'Dream', 'bill_length_mm': 37.3, 'bill_depth_mm': 17.8, 'flipper_length_mm': 191.0, 'body_mass_g': 3350.0, 'sex': 'Female'}, {'species': 'Adelie', 'island': 'Dream', 'bill_length_mm': 41.3, 'bill_depth_mm': 20.3, 'flipper_length_mm': 194.0, 'body_mass_g': 3550.0, 'sex': 'Male'}, {'species': 'Adelie', 'island': 'Dream', 'bill_length_mm': 36.3, 'bill_depth_mm': 19.5, 'flipper_length_mm': 190.0, 'body_mass_g': 3800.0, 'sex': 'Male'}, {'species': 'Adelie', 'island': 'Dream', 'bill_length_mm': 36.9, 'bill_depth_mm': 18.6, 'flipper_length_mm': 189.0, 'body_mass_g': 3500.0, 'sex': 'Female'}, {'species': 'Adelie', 'island': 'Dream', 'bill_length_mm': 38.3, 'bill_depth_mm': 19.2, 'flipper_length_mm': 189.0, 'body_mass_g': 3950.0, 'sex': 'Male'}, {'species': 'Adelie', 'island': 'Dream', 'bill_length_mm': 38.9, 'bill_depth_mm': 18.8, 'flipper_length_mm': 190.0, 'body_mass_g': 3600.0, 'sex': 'Female'}, {'species': 'Adelie', 'island': 'Dream', 'bill_length_mm': 35.7, 'bill_depth_mm': 18.0, 'flipper_length_mm': 202.0, 'body_mass_g': 3550.0, 'sex': 'Female'}, {'species': 'Adelie', 'island': 'Dream', 'bill_length_mm': 41.1, 'bill_depth_mm': 18.1, 'flipper_length_mm': 205.0, 'body_mass_g': 4300.0, 'sex': 'Male'}, {'species': 'Adelie', 'island': 'Dream', 'bill_length_mm': 34.0, 'bill_depth_mm': 17.1, 'flipper_length_mm': 185.0, 'body_mass_g': 3400.0, 'sex': 'Female'}, {'species': 'Adelie', 'island': 'Dream', 'bill_length_mm': 39.6, 'bill_depth_mm': 18.1, 'flipper_length_mm': 186.0, 'body_mass_g': 4450.0, 'sex': 'Male'}, {'species': 'Adelie', 'island': 'Dream', 'bill_length_mm': 36.2, 'bill_depth_mm': 17.3, 'flipper_length_mm': 187.0, 'body_mass_g': 3300.0, 'sex': 'Female'}, {'species': 'Adelie', 'island': 'Dream', 'bill_length_mm': 40.8, 'bill_depth_mm': 18.9, 'flipper_length_mm': 208.0, 'body_mass_g': 4300.0, 'sex': 'Male'}, {'species': 'Adelie', 'island': 'Dream', 'bill_length_mm': 38.1, 'bill_depth_mm': 18.6, 'flipper_length_mm': 190.0, 'body_mass_g': 3700.0, 'sex': 'Female'}, {'species': 'Adelie', 'island': 'Dream', 'bill_length_mm': 40.3, 'bill_depth_mm': 18.5, 'flipper_length_mm': 196.0, 'body_mass_g': 4350.0, 'sex': 'Male'}, {'species': 'Adelie', 'island': 'Dream', 'bill_length_mm': 33.1, 'bill_depth_mm': 16.1, 'flipper_length_mm': 178.0, 'body_mass_g': 2900.0, 'sex': 'Female'}, {'species': 'Adelie', 'island': 'Dream', 'bill_length_mm': 43.2, 'bill_depth_mm': 18.5, 'flipper_length_mm': 192.0, 'body_mass_g': 4100.0, 'sex': 'Male'}, {'species': 'Adelie', 'island': 'Biscoe', 'bill_length_mm': 35.0, 'bill_depth_mm': 17.9, 'flipper_length_mm': 192.0, 'body_mass_g': 3725.0, 'sex': 'Female'}, {'species': 'Adelie', 'island': 'Biscoe', 'bill_length_mm': 41.0, 'bill_depth_mm': 20.0, 'flipper_length_mm': 203.0, 'body_mass_g': 4725.0, 'sex': 'Male'}, {'species': 'Adelie', 'island': 'Biscoe', 'bill_length_mm': 37.7, 'bill_depth_mm': 16.0, 'flipper_length_mm': 183.0, 'body_mass_g': 3075.0, 'sex': 'Female'}, {'species': 'Adelie', 'island': 'Biscoe', 'bill_length_mm': 37.8, 'bill_depth_mm': 20.0, 'flipper_length_mm': 190.0, 'body_mass_g': 4250.0, 'sex': 'Male'}, {'species': 'Adelie', 'island': 'Biscoe', 'bill_length_mm': 37.9, 'bill_depth_mm': 18.6, 'flipper_length_mm': 193.0, 'body_mass_g': 2925.0, 'sex': 'Female'}, {'species': 'Adelie', 'island': 'Biscoe', 'bill_length_mm': 39.7, 'bill_depth_mm': 18.9, 'flipper_length_mm': 184.0, 'body_mass_g': 3550.0, 'sex': 'Male'}, {'species': 'Adelie', 'island': 'Biscoe', 'bill_length_mm': 38.6, 'bill_depth_mm': 17.2, 'flipper_length_mm': 199.0, 'body_mass_g': 3750.0, 'sex': 'Female'}, {'species': 'Adelie', 'island': 'Biscoe', 'bill_length_mm': 38.2, 'bill_depth_mm': 20.0, 'flipper_length_mm': 190.0, 'body_mass_g': 3900.0, 'sex': 'Male'}, {'species': 'Adelie', 'island': 'Biscoe', 'bill_length_mm': 38.1, 'bill_depth_mm': 17.0, 'flipper_length_mm': 181.0, 'body_mass_g': 3175.0, 'sex': 'Female'}, {'species': 'Adelie', 'island': 'Biscoe', 'bill_length_mm': 43.2, 'bill_depth_mm': 19.0, 'flipper_length_mm': 197.0, 'body_mass_g': 4775.0, 'sex': 'Male'}, {'species': 'Adelie', 'island': 'Biscoe', 'bill_length_mm': 38.1, 'bill_depth_mm': 16.5, 'flipper_length_mm': 198.0, 'body_mass_g': 3825.0, 'sex': 'Female'}, {'species': 'Adelie', 'island': 'Biscoe', 'bill_length_mm': 45.6, 'bill_depth_mm': 20.3, 'flipper_length_mm': 191.0, 'body_mass_g': 4600.0, 'sex': 'Male'}, {'species': 'Adelie', 'island': 'Biscoe', 'bill_length_mm': 39.7, 'bill_depth_mm': 17.7, 'flipper_length_mm': 193.0, 'body_mass_g': 3200.0, 'sex': 'Female'}, {'species': 'Adelie', 'island': 'Biscoe', 'bill_length_mm': 42.2, 'bill_depth_mm': 19.5, 'flipper_length_mm': 197.0, 'body_mass_g': 4275.0, 'sex': 'Male'}, {'species': 'Adelie', 'island': 'Biscoe', 'bill_length_mm': 39.6, 'bill_depth_mm': 20.7, 'flipper_length_mm': 191.0, 'body_mass_g': 3900.0, 'sex': 'Female'}, {'species': 'Adelie', 'island': 'Biscoe', 'bill_length_mm': 42.7, 'bill_depth_mm': 18.3, 'flipper_length_mm': 196.0, 'body_mass_g': 4075.0, 'sex': 'Male'}, {'species': 'Adelie', 'island': 'Torgersen', 'bill_length_mm': 38.6, 'bill_depth_mm': 17.0, 'flipper_length_mm': 188.0, 'body_mass_g': 2900.0, 'sex': 'Female'}, {'species': 'Adelie', 'island': 'Torgersen', 'bill_length_mm': 37.3, 'bill_depth_mm': 20.5, 'flipper_length_mm': 199.0, 'body_mass_g': 3775.0, 'sex': 'Male'}, {'species': 'Adelie', 'island': 'Torgersen', 'bill_length_mm': 35.7, 'bill_depth_mm': 17.0, 'flipper_length_mm': 189.0, 'body_mass_g': 3350.0, 'sex': 'Female'}, {'species': 'Adelie', 'island': 'Torgersen', 'bill_length_mm': 41.1, 'bill_depth_mm': 18.6, 'flipper_length_mm': 189.0, 'body_mass_g': 3325.0, 'sex': 'Male'}, {'species': 'Adelie', 'island': 'Torgersen', 'bill_length_mm': 36.2, 'bill_depth_mm': 17.2, 'flipper_length_mm': 187.0, 'body_mass_g': 3150.0, 'sex': 'Female'}, {'species': 'Adelie', 'island': 'Torgersen', 'bill_length_mm': 37.7, 'bill_depth_mm': 19.8, 'flipper_length_mm': 198.0, 'body_mass_g': 3500.0, 'sex': 'Male'}, {'species': 'Adelie', 'island': 'Torgersen', 'bill_length_mm': 40.2, 'bill_depth_mm': 17.0, 'flipper_length_mm': 176.0, 'body_mass_g': 3450.0, 'sex': 'Female'}, {'species': 'Adelie', 'island': 'Torgersen', 'bill_length_mm': 41.4, 'bill_depth_mm': 18.5, 'flipper_length_mm': 202.0, 'body_mass_g': 3875.0, 'sex': 'Male'}, {'species': 'Adelie', 'island': 'Torgersen', 'bill_length_mm': 35.2, 'bill_depth_mm': 15.9, 'flipper_length_mm': 186.0, 'body_mass_g': 3050.0, 'sex': 'Female'}, {'species': 'Adelie', 'island': 'Torgersen', 'bill_length_mm': 40.6, 'bill_depth_mm': 19.0, 'flipper_length_mm': 199.0, 'body_mass_g': 4000.0, 'sex': 'Male'}, {'species': 'Adelie', 'island': 'Torgersen', 'bill_length_mm': 38.8, 'bill_depth_mm': 17.6, 'flipper_length_mm': 191.0, 'body_mass_g': 3275.0, 'sex': 'Female'}, {'species': 'Adelie', 'island': 'Torgersen', 'bill_length_mm': 41.5, 'bill_depth_mm': 18.3, 'flipper_length_mm': 195.0, 'body_mass_g': 4300.0, 'sex': 'Male'}, {'species': 'Adelie', 'island': 'Torgersen', 'bill_length_mm': 39.0, 'bill_depth_mm': 17.1, 'flipper_length_mm': 191.0, 'body_mass_g': 3050.0, 'sex': 'Female'}, {'species': 'Adelie', 'island': 'Torgersen', 'bill_length_mm': 44.1, 'bill_depth_mm': 18.0, 'flipper_length_mm': 210.0, 'body_mass_g': 4000.0, 'sex': 'Male'}, {'species': 'Adelie', 'island': 'Torgersen', 'bill_length_mm': 38.5, 'bill_depth_mm': 17.9, 'flipper_length_mm': 190.0, 'body_mass_g': 3325.0, 'sex': 'Female'}, {'species': 'Adelie', 'island': 'Torgersen', 'bill_length_mm': 43.1, 'bill_depth_mm': 19.2, 'flipper_length_mm': 197.0, 'body_mass_g': 3500.0, 'sex': 'Male'}, {'species': 'Adelie', 'island': 'Dream', 'bill_length_mm': 36.8, 'bill_depth_mm': 18.5, 'flipper_length_mm': 193.0, 'body_mass_g': 3500.0, 'sex': 'Female'}, {'species': 'Adelie', 'island': 'Dream', 'bill_length_mm': 37.5, 'bill_depth_mm': 18.5, 'flipper_length_mm': 199.0, 'body_mass_g': 4475.0, 'sex': 'Male'}, {'species': 'Adelie', 'island': 'Dream', 'bill_length_mm': 38.1, 'bill_depth_mm': 17.6, 'flipper_length_mm': 187.0, 'body_mass_g': 3425.0, 'sex': 'Female'}, {'species': 'Adelie', 'island': 'Dream', 'bill_length_mm': 41.1, 'bill_depth_mm': 17.5, 'flipper_length_mm': 190.0, 'body_mass_g': 3900.0, 'sex': 'Male'}, {'species': 'Adelie', 'island': 'Dream', 'bill_length_mm': 35.6, 'bill_depth_mm': 17.5, 'flipper_length_mm': 191.0, 'body_mass_g': 3175.0, 'sex': 'Female'}, {'species': 'Adelie', 'island': 'Dream', 'bill_length_mm': 40.2, 'bill_depth_mm': 20.1, 'flipper_length_mm': 200.0, 'body_mass_g': 3975.0, 'sex': 'Male'}, {'species': 'Adelie', 'island': 'Dream', 'bill_length_mm': 37.0, 'bill_depth_mm': 16.5, 'flipper_length_mm': 185.0, 'body_mass_g': 3400.0, 'sex': 'Female'}, {'species': 'Adelie', 'island': 'Dream', 'bill_length_mm': 39.7, 'bill_depth_mm': 17.9, 'flipper_length_mm': 193.0, 'body_mass_g': 4250.0, 'sex': 'Male'}, {'species': 'Adelie', 'island': 'Dream', 'bill_length_mm': 40.2, 'bill_depth_mm': 17.1, 'flipper_length_mm': 193.0, 'body_mass_g': 3400.0, 'sex': 'Female'}, {'species': 'Adelie', 'island': 'Dream', 'bill_length_mm': 40.6, 'bill_depth_mm': 17.2, 'flipper_length_mm': 187.0, 'body_mass_g': 3475.0, 'sex': 'Male'}, {'species': 'Adelie', 'island': 'Dream', 'bill_length_mm': 32.1, 'bill_depth_mm': 15.5, 'flipper_length_mm': 188.0, 'body_mass_g': 3050.0, 'sex': 'Female'}, {'species': 'Adelie', 'island': 'Dream', 'bill_length_mm': 40.7, 'bill_depth_mm': 17.0, 'flipper_length_mm': 190.0, 'body_mass_g': 3725.0, 'sex': 'Male'}, {'species': 'Adelie', 'island': 'Dream', 'bill_length_mm': 37.3, 'bill_depth_mm': 16.8, 'flipper_length_mm': 192.0, 'body_mass_g': 3000.0, 'sex': 'Female'}, {'species': 'Adelie', 'island': 'Dream', 'bill_length_mm': 39.0, 'bill_depth_mm': 18.7, 'flipper_length_mm': 185.0, 'body_mass_g': 3650.0, 'sex': 'Male'}, {'species': 'Adelie', 'island': 'Dream', 'bill_length_mm': 39.2, 'bill_depth_mm': 18.6, 'flipper_length_mm': 190.0, 'body_mass_g': 4250.0, 'sex': 'Male'}, {'species': 'Adelie', 'island': 'Dream', 'bill_length_mm': 36.6, 'bill_depth_mm': 18.4, 'flipper_length_mm': 184.0, 'body_mass_g': 3475.0, 'sex': 'Female'}, {'species': 'Adelie', 'island': 'Dream', 'bill_length_mm': 36.0, 'bill_depth_mm': 17.8, 'flipper_length_mm': 195.0, 'body_mass_g': 3450.0, 'sex': 'Female'}, {'species': 'Adelie', 'island': 'Dream', 'bill_length_mm': 37.8, 'bill_depth_mm': 18.1, 'flipper_length_mm': 193.0, 'body_mass_g': 3750.0, 'sex': 'Male'}, {'species': 'Adelie', 'island': 'Dream', 'bill_length_mm': 36.0, 'bill_depth_mm': 17.1, 'flipper_length_mm': 187.0, 'body_mass_g': 3700.0, 'sex': 'Female'}, {'species': 'Adelie', 'island': 'Dream', 'bill_length_mm': 41.5, 'bill_depth_mm': 18.5, 'flipper_length_mm': 201.0, 'body_mass_g': 4000.0, 'sex': 'Male'}, {'species': 'Chinstrap', 'island': 'Dream', 'bill_length_mm': 46.5, 'bill_depth_mm': 17.9, 'flipper_length_mm': 192.0, 'body_mass_g': 3500.0, 'sex': 'Female'}, {'species': 'Chinstrap', 'island': 'Dream', 'bill_length_mm': 50.0, 'bill_depth_mm': 19.5, 'flipper_length_mm': 196.0, 'body_mass_g': 3900.0, 'sex': 'Male'}, {'species': 'Chinstrap', 'island': 'Dream', 'bill_length_mm': 51.3, 'bill_depth_mm': 19.2, 'flipper_length_mm': 193.0, 'body_mass_g': 3650.0, 'sex': 'Male'}, {'species': 'Chinstrap', 'island': 'Dream', 'bill_length_mm': 45.4, 'bill_depth_mm': 18.7, 'flipper_length_mm': 188.0, 'body_mass_g': 3525.0, 'sex': 'Female'}, {'species': 'Chinstrap', 'island': 'Dream', 'bill_length_mm': 52.7, 'bill_depth_mm': 19.8, 'flipper_length_mm': 197.0, 'body_mass_g': 3725.0, 'sex': 'Male'}, {'species': 'Chinstrap', 'island': 'Dream', 'bill_length_mm': 45.2, 'bill_depth_mm': 17.8, 'flipper_length_mm': 198.0, 'body_mass_g': 3950.0, 'sex': 'Female'}, {'species': 'Chinstrap', 'island': 'Dream', 'bill_length_mm': 46.1, 'bill_depth_mm': 18.2, 'flipper_length_mm': 178.0, 'body_mass_g': 3250.0, 'sex': 'Female'}, {'species': 'Chinstrap', 'island': 'Dream', 'bill_length_mm': 51.3, 'bill_depth_mm': 18.2, 'flipper_length_mm': 197.0, 'body_mass_g': 3750.0, 'sex': 'Male'}, {'species': 'Chinstrap', 'island': 'Dream', 'bill_length_mm': 46.0, 'bill_depth_mm': 18.9, 'flipper_length_mm': 195.0, 'body_mass_g': 4150.0, 'sex': 'Female'}, {'species': 'Chinstrap', 'island': 'Dream', 'bill_length_mm': 51.3, 'bill_depth_mm': 19.9, 'flipper_length_mm': 198.0, 'body_mass_g': 3700.0, 'sex': 'Male'}, {'species': 'Chinstrap', 'island': 'Dream', 'bill_length_mm': 46.6, 'bill_depth_mm': 17.8, 'flipper_length_mm': 193.0, 'body_mass_g': 3800.0, 'sex': 'Female'}, {'species': 'Chinstrap', 'island': 'Dream', 'bill_length_mm': 51.7, 'bill_depth_mm': 20.3, 'flipper_length_mm': 194.0, 'body_mass_g': 3775.0, 'sex': 'Male'}, {'species': 'Chinstrap', 'island': 'Dream', 'bill_length_mm': 47.0, 'bill_depth_mm': 17.3, 'flipper_length_mm': 185.0, 'body_mass_g': 3700.0, 'sex': 'Female'}, {'species': 'Chinstrap', 'island': 'Dream', 'bill_length_mm': 52.0, 'bill_depth_mm': 18.1, 'flipper_length_mm': 201.0, 'body_mass_g': 4050.0, 'sex': 'Male'}, {'species': 'Chinstrap', 'island': 'Dream', 'bill_length_mm': 45.9, 'bill_depth_mm': 17.1, 'flipper_length_mm': 190.0, 'body_mass_g': 3575.0, 'sex': 'Female'}, {'species': 'Chinstrap', 'island': 'Dream', 'bill_length_mm': 50.5, 'bill_depth_mm': 19.6, 'flipper_length_mm': 201.0, 'body_mass_g': 4050.0, 'sex': 'Male'}, {'species': 'Chinstrap', 'island': 'Dream', 'bill_length_mm': 50.3, 'bill_depth_mm': 20.0, 'flipper_length_mm': 197.0, 'body_mass_g': 3300.0, 'sex': 'Male'}, {'species': 'Chinstrap', 'island': 'Dream', 'bill_length_mm': 58.0, 'bill_depth_mm': 17.8, 'flipper_length_mm': 181.0, 'body_mass_g': 3700.0, 'sex': 'Female'}, {'species': 'Chinstrap', 'island': 'Dream', 'bill_length_mm': 46.4, 'bill_depth_mm': 18.6, 'flipper_length_mm': 190.0, 'body_mass_g': 3450.0, 'sex': 'Female'}, {'species': 'Chinstrap', 'island': 'Dream', 'bill_length_mm': 49.2, 'bill_depth_mm': 18.2, 'flipper_length_mm': 195.0, 'body_mass_g': 4400.0, 'sex': 'Male'}, {'species': 'Chinstrap', 'island': 'Dream', 'bill_length_mm': 42.4, 'bill_depth_mm': 17.3, 'flipper_length_mm': 181.0, 'body_mass_g': 3600.0, 'sex': 'Female'}, {'species': 'Chinstrap', 'island': 'Dream', 'bill_length_mm': 48.5, 'bill_depth_mm': 17.5, 'flipper_length_mm': 191.0, 'body_mass_g': 3400.0, 'sex': 'Male'}, {'species': 'Chinstrap', 'island': 'Dream', 'bill_length_mm': 43.2, 'bill_depth_mm': 16.6, 'flipper_length_mm': 187.0, 'body_mass_g': 2900.0, 'sex': 'Female'}, {'species': 'Chinstrap', 'island': 'Dream', 'bill_length_mm': 50.6, 'bill_depth_mm': 19.4, 'flipper_length_mm': 193.0, 'body_mass_g': 3800.0, 'sex': 'Male'}, {'species': 'Chinstrap', 'island': 'Dream', 'bill_length_mm': 46.7, 'bill_depth_mm': 17.9, 'flipper_length_mm': 195.0, 'body_mass_g': 3300.0, 'sex': 'Female'}, {'species': 'Chinstrap', 'island': 'Dream', 'bill_length_mm': 52.0, 'bill_depth_mm': 19.0, 'flipper_length_mm': 197.0, 'body_mass_g': 4150.0, 'sex': 'Male'}, {'species': 'Chinstrap', 'island': 'Dream', 'bill_length_mm': 50.5, 'bill_depth_mm': 18.4, 'flipper_length_mm': 200.0, 'body_mass_g': 3400.0, 'sex': 'Female'}, {'species': 'Chinstrap', 'island': 'Dream', 'bill_length_mm': 49.5, 'bill_depth_mm': 19.0, 'flipper_length_mm': 200.0, 'body_mass_g': 3800.0, 'sex': 'Male'}, {'species': 'Chinstrap', 'island': 'Dream', 'bill_length_mm': 46.4, 'bill_depth_mm': 17.8, 'flipper_length_mm': 191.0, 'body_mass_g': 3700.0, 'sex': 'Female'}, {'species': 'Chinstrap', 'island': 'Dream', 'bill_length_mm': 52.8, 'bill_depth_mm': 20.0, 'flipper_length_mm': 205.0, 'body_mass_g': 4550.0, 'sex': 'Male'}, {'species': 'Chinstrap', 'island': 'Dream', 'bill_length_mm': 40.9, 'bill_depth_mm': 16.6, 'flipper_length_mm': 187.0, 'body_mass_g': 3200.0, 'sex': 'Female'}, {'species': 'Chinstrap', 'island': 'Dream', 'bill_length_mm': 54.2, 'bill_depth_mm': 20.8, 'flipper_length_mm': 201.0, 'body_mass_g': 4300.0, 'sex': 'Male'}, {'species': 'Chinstrap', 'island': 'Dream', 'bill_length_mm': 42.5, 'bill_depth_mm': 16.7, 'flipper_length_mm': 187.0, 'body_mass_g': 3350.0, 'sex': 'Female'}, {'species': 'Chinstrap', 'island': 'Dream', 'bill_length_mm': 51.0, 'bill_depth_mm': 18.8, 'flipper_length_mm': 203.0, 'body_mass_g': 4100.0, 'sex': 'Male'}, {'species': 'Chinstrap', 'island': 'Dream', 'bill_length_mm': 49.7, 'bill_depth_mm': 18.6, 'flipper_length_mm': 195.0, 'body_mass_g': 3600.0, 'sex': 'Male'}, {'species': 'Chinstrap', 'island': 'Dream', 'bill_length_mm': 47.5, 'bill_depth_mm': 16.8, 'flipper_length_mm': 199.0, 'body_mass_g': 3900.0, 'sex': 'Female'}, {'species': 'Chinstrap', 'island': 'Dream', 'bill_length_mm': 47.6, 'bill_depth_mm': 18.3, 'flipper_length_mm': 195.0, 'body_mass_g': 3850.0, 'sex': 'Female'}, {'species': 'Chinstrap', 'island': 'Dream', 'bill_length_mm': 52.0, 'bill_depth_mm': 20.7, 'flipper_length_mm': 210.0, 'body_mass_g': 4800.0, 'sex': 'Male'}, {'species': 'Chinstrap', 'island': 'Dream', 'bill_length_mm': 46.9, 'bill_depth_mm': 16.6, 'flipper_length_mm': 192.0, 'body_mass_g': 2700.0, 'sex': 'Female'}, {'species': 'Chinstrap', 'island': 'Dream', 'bill_length_mm': 53.5, 'bill_depth_mm': 19.9, 'flipper_length_mm': 205.0, 'body_mass_g': 4500.0, 'sex': 'Male'}, {'species': 'Chinstrap', 'island': 'Dream', 'bill_length_mm': 49.0, 'bill_depth_mm': 19.5, 'flipper_length_mm': 210.0, 'body_mass_g': 3950.0, 'sex': 'Male'}, {'species': 'Chinstrap', 'island': 'Dream', 'bill_length_mm': 46.2, 'bill_depth_mm': 17.5, 'flipper_length_mm': 187.0, 'body_mass_g': 3650.0, 'sex': 'Female'}, {'species': 'Chinstrap', 'island': 'Dream', 'bill_length_mm': 50.9, 'bill_depth_mm': 19.1, 'flipper_length_mm': 196.0, 'body_mass_g': 3550.0, 'sex': 'Male'}, {'species': 'Chinstrap', 'island': 'Dream', 'bill_length_mm': 45.5, 'bill_depth_mm': 17.0, 'flipper_length_mm': 196.0, 'body_mass_g': 3500.0, 'sex': 'Female'}, {'species': 'Chinstrap', 'island': 'Dream', 'bill_length_mm': 50.9, 'bill_depth_mm': 17.9, 'flipper_length_mm': 196.0, 'body_mass_g': 3675.0, 'sex': 'Female'}, {'species': 'Chinstrap', 'island': 'Dream', 'bill_length_mm': 50.8, 'bill_depth_mm': 18.5, 'flipper_length_mm': 201.0, 'body_mass_g': 4450.0, 'sex': 'Male'}, {'species': 'Chinstrap', 'island': 'Dream', 'bill_length_mm': 50.1, 'bill_depth_mm': 17.9, 'flipper_length_mm': 190.0, 'body_mass_g': 3400.0, 'sex': 'Female'}, {'species': 'Chinstrap', 'island': 'Dream', 'bill_length_mm': 49.0, 'bill_depth_mm': 19.6, 'flipper_length_mm': 212.0, 'body_mass_g': 4300.0, 'sex': 'Male'}, {'species': 'Chinstrap', 'island': 'Dream', 'bill_length_mm': 51.5, 'bill_depth_mm': 18.7, 'flipper_length_mm': 187.0, 'body_mass_g': 3250.0, 'sex': 'Male'}, {'species': 'Chinstrap', 'island': 'Dream', 'bill_length_mm': 49.8, 'bill_depth_mm': 17.3, 'flipper_length_mm': 198.0, 'body_mass_g': 3675.0, 'sex': 'Female'}, {'species': 'Chinstrap', 'island': 'Dream', 'bill_length_mm': 48.1, 'bill_depth_mm': 16.4, 'flipper_length_mm': 199.0, 'body_mass_g': 3325.0, 'sex': 'Female'}, {'species': 'Chinstrap', 'island': 'Dream', 'bill_length_mm': 51.4, 'bill_depth_mm': 19.0, 'flipper_length_mm': 201.0, 'body_mass_g': 3950.0, 'sex': 'Male'}, {'species': 'Chinstrap', 'island': 'Dream', 'bill_length_mm': 45.7, 'bill_depth_mm': 17.3, 'flipper_length_mm': 193.0, 'body_mass_g': 3600.0, 'sex': 'Female'}, {'species': 'Chinstrap', 'island': 'Dream', 'bill_length_mm': 50.7, 'bill_depth_mm': 19.7, 'flipper_length_mm': 203.0, 'body_mass_g': 4050.0, 'sex': 'Male'}, {'species': 'Chinstrap', 'island': 'Dream', 'bill_length_mm': 42.5, 'bill_depth_mm': 17.3, 'flipper_length_mm': 187.0, 'body_mass_g': 3350.0, 'sex': 'Female'}, {'species': 'Chinstrap', 'island': 'Dream', 'bill_length_mm': 52.2, 'bill_depth_mm': 18.8, 'flipper_length_mm': 197.0, 'body_mass_g': 3450.0, 'sex': 'Male'}, {'species': 'Chinstrap', 'island': 'Dream', 'bill_length_mm': 45.2, 'bill_depth_mm': 16.6, 'flipper_length_mm': 191.0, 'body_mass_g': 3250.0, 'sex': 'Female'}, {'species': 'Chinstrap', 'island': 'Dream', 'bill_length_mm': 49.3, 'bill_depth_mm': 19.9, 'flipper_length_mm': 203.0, 'body_mass_g': 4050.0, 'sex': 'Male'}, {'species': 'Chinstrap', 'island': 'Dream', 'bill_length_mm': 50.2, 'bill_depth_mm': 18.8, 'flipper_length_mm': 202.0, 'body_mass_g': 3800.0, 'sex': 'Male'}, {'species': 'Chinstrap', 'island': 'Dream', 'bill_length_mm': 45.6, 'bill_depth_mm': 19.4, 'flipper_length_mm': 194.0, 'body_mass_g': 3525.0, 'sex': 'Female'}, {'species': 'Chinstrap', 'island': 'Dream', 'bill_length_mm': 51.9, 'bill_depth_mm': 19.5, 'flipper_length_mm': 206.0, 'body_mass_g': 3950.0, 'sex': 'Male'}, {'species': 'Chinstrap', 'island': 'Dream', 'bill_length_mm': 46.8, 'bill_depth_mm': 16.5, 'flipper_length_mm': 189.0, 'body_mass_g': 3650.0, 'sex': 'Female'}, {'species': 'Chinstrap', 'island': 'Dream', 'bill_length_mm': 45.7, 'bill_depth_mm': 17.0, 'flipper_length_mm': 195.0, 'body_mass_g': 3650.0, 'sex': 'Female'}, {'species': 'Chinstrap', 'island': 'Dream', 'bill_length_mm': 55.8, 'bill_depth_mm': 19.8, 'flipper_length_mm': 207.0, 'body_mass_g': 4000.0, 'sex': 'Male'}, {'species': 'Chinstrap', 'island': 'Dream', 'bill_length_mm': 43.5, 'bill_depth_mm': 18.1, 'flipper_length_mm': 202.0, 'body_mass_g': 3400.0, 'sex': 'Female'}, {'species': 'Chinstrap', 'island': 'Dream', 'bill_length_mm': 49.6, 'bill_depth_mm': 18.2, 'flipper_length_mm': 193.0, 'body_mass_g': 3775.0, 'sex': 'Male'}, {'species': 'Chinstrap', 'island': 'Dream', 'bill_length_mm': 50.8, 'bill_depth_mm': 19.0, 'flipper_length_mm': 210.0, 'body_mass_g': 4100.0, 'sex': 'Male'}, {'species': 'Chinstrap', 'island': 'Dream', 'bill_length_mm': 50.2, 'bill_depth_mm': 18.7, 'flipper_length_mm': 198.0, 'body_mass_g': 3775.0, 'sex': 'Female'}, {'species': 'Gentoo', 'island': 'Biscoe', 'bill_length_mm': 46.1, 'bill_depth_mm': 13.2, 'flipper_length_mm': 211.0, 'body_mass_g': 4500.0, 'sex': 'Female'}, {'species': 'Gentoo', 'island': 'Biscoe', 'bill_length_mm': 50.0, 'bill_depth_mm': 16.3, 'flipper_length_mm': 230.0, 'body_mass_g': 5700.0, 'sex': 'Male'}, {'species': 'Gentoo', 'island': 'Biscoe', 'bill_length_mm': 48.7, 'bill_depth_mm': 14.1, 'flipper_length_mm': 210.0, 'body_mass_g': 4450.0, 'sex': 'Female'}, {'species': 'Gentoo', 'island': 'Biscoe', 'bill_length_mm': 50.0, 'bill_depth_mm': 15.2, 'flipper_length_mm': 218.0, 'body_mass_g': 5700.0, 'sex': 'Male'}, {'species': 'Gentoo', 'island': 'Biscoe', 'bill_length_mm': 47.6, 'bill_depth_mm': 14.5, 'flipper_length_mm': 215.0, 'body_mass_g': 5400.0, 'sex': 'Male'}, {'species': 'Gentoo', 'island': 'Biscoe', 'bill_length_mm': 46.5, 'bill_depth_mm': 13.5, 'flipper_length_mm': 210.0, 'body_mass_g': 4550.0, 'sex': 'Female'}, {'species': 'Gentoo', 'island': 'Biscoe', 'bill_length_mm': 45.4, 'bill_depth_mm': 14.6, 'flipper_length_mm': 211.0, 'body_mass_g': 4800.0, 'sex': 'Female'}, {'species': 'Gentoo', 'island': 'Biscoe', 'bill_length_mm': 46.7, 'bill_depth_mm': 15.3, 'flipper_length_mm': 219.0, 'body_mass_g': 5200.0, 'sex': 'Male'}, {'species': 'Gentoo', 'island': 'Biscoe', 'bill_length_mm': 43.3, 'bill_depth_mm': 13.4, 'flipper_length_mm': 209.0, 'body_mass_g': 4400.0, 'sex': 'Female'}, {'species': 'Gentoo', 'island': 'Biscoe', 'bill_length_mm': 46.8, 'bill_depth_mm': 15.4, 'flipper_length_mm': 215.0, 'body_mass_g': 5150.0, 'sex': 'Male'}, {'species': 'Gentoo', 'island': 'Biscoe', 'bill_length_mm': 40.9, 'bill_depth_mm': 13.7, 'flipper_length_mm': 214.0, 'body_mass_g': 4650.0, 'sex': 'Female'}, {'species': 'Gentoo', 'island': 'Biscoe', 'bill_length_mm': 49.0, 'bill_depth_mm': 16.1, 'flipper_length_mm': 216.0, 'body_mass_g': 5550.0, 'sex': 'Male'}, {'species': 'Gentoo', 'island': 'Biscoe', 'bill_length_mm': 45.5, 'bill_depth_mm': 13.7, 'flipper_length_mm': 214.0, 'body_mass_g': 4650.0, 'sex': 'Female'}, {'species': 'Gentoo', 'island': 'Biscoe', 'bill_length_mm': 48.4, 'bill_depth_mm': 14.6, 'flipper_length_mm': 213.0, 'body_mass_g': 5850.0, 'sex': 'Male'}, {'species': 'Gentoo', 'island': 'Biscoe', 'bill_length_mm': 45.8, 'bill_depth_mm': 14.6, 'flipper_length_mm': 210.0, 'body_mass_g': 4200.0, 'sex': 'Female'}, {'species': 'Gentoo', 'island': 'Biscoe', 'bill_length_mm': 49.3, 'bill_depth_mm': 15.7, 'flipper_length_mm': 217.0, 'body_mass_g': 5850.0, 'sex': 'Male'}, {'species': 'Gentoo', 'island': 'Biscoe', 'bill_length_mm': 42.0, 'bill_depth_mm': 13.5, 'flipper_length_mm': 210.0, 'body_mass_g': 4150.0, 'sex': 'Female'}, {'species': 'Gentoo', 'island': 'Biscoe', 'bill_length_mm': 49.2, 'bill_depth_mm': 15.2, 'flipper_length_mm': 221.0, 'body_mass_g': 6300.0, 'sex': 'Male'}, {'species': 'Gentoo', 'island': 'Biscoe', 'bill_length_mm': 46.2, 'bill_depth_mm': 14.5, 'flipper_length_mm': 209.0, 'body_mass_g': 4800.0, 'sex': 'Female'}, {'species': 'Gentoo', 'island': 'Biscoe', 'bill_length_mm': 48.7, 'bill_depth_mm': 15.1, 'flipper_length_mm': 222.0, 'body_mass_g': 5350.0, 'sex': 'Male'}, {'species': 'Gentoo', 'island': 'Biscoe', 'bill_length_mm': 50.2, 'bill_depth_mm': 14.3, 'flipper_length_mm': 218.0, 'body_mass_g': 5700.0, 'sex': 'Male'}, {'species': 'Gentoo', 'island': 'Biscoe', 'bill_length_mm': 45.1, 'bill_depth_mm': 14.5, 'flipper_length_mm': 215.0, 'body_mass_g': 5000.0, 'sex': 'Female'}, {'species': 'Gentoo', 'island': 'Biscoe', 'bill_length_mm': 46.5, 'bill_depth_mm': 14.5, 'flipper_length_mm': 213.0, 'body_mass_g': 4400.0, 'sex': 'Female'}, {'species': 'Gentoo', 'island': 'Biscoe', 'bill_length_mm': 46.3, 'bill_depth_mm': 15.8, 'flipper_length_mm': 215.0, 'body_mass_g': 5050.0, 'sex': 'Male'}, {'species': 'Gentoo', 'island': 'Biscoe', 'bill_length_mm': 42.9, 'bill_depth_mm': 13.1, 'flipper_length_mm': 215.0, 'body_mass_g': 5000.0, 'sex': 'Female'}, {'species': 'Gentoo', 'island': 'Biscoe', 'bill_length_mm': 46.1, 'bill_depth_mm': 15.1, 'flipper_length_mm': 215.0, 'body_mass_g': 5100.0, 'sex': 'Male'}, {'species': 'Gentoo', 'island': 'Biscoe', 'bill_length_mm': 44.5, 'bill_depth_mm': 14.3, 'flipper_length_mm': 216.0, 'body_mass_g': 4100.0, 'sex': nan}, {'species': 'Gentoo', 'island': 'Biscoe', 'bill_length_mm': 47.8, 'bill_depth_mm': 15.0, 'flipper_length_mm': 215.0, 'body_mass_g': 5650.0, 'sex': 'Male'}, {'species': 'Gentoo', 'island': 'Biscoe', 'bill_length_mm': 48.2, 'bill_depth_mm': 14.3, 'flipper_length_mm': 210.0, 'body_mass_g': 4600.0, 'sex': 'Female'}, {'species': 'Gentoo', 'island': 'Biscoe', 'bill_length_mm': 50.0, 'bill_depth_mm': 15.3, 'flipper_length_mm': 220.0, 'body_mass_g': 5550.0, 'sex': 'Male'}, {'species': 'Gentoo', 'island': 'Biscoe', 'bill_length_mm': 47.3, 'bill_depth_mm': 15.3, 'flipper_length_mm': 222.0, 'body_mass_g': 5250.0, 'sex': 'Male'}, {'species': 'Gentoo', 'island': 'Biscoe', 'bill_length_mm': 42.8, 'bill_depth_mm': 14.2, 'flipper_length_mm': 209.0, 'body_mass_g': 4700.0, 'sex': 'Female'}, {'species': 'Gentoo', 'island': 'Biscoe', 'bill_length_mm': 45.1, 'bill_depth_mm': 14.5, 'flipper_length_mm': 207.0, 'body_mass_g': 5050.0, 'sex': 'Female'}, {'species': 'Gentoo', 'island': 'Biscoe', 'bill_length_mm': 59.6, 'bill_depth_mm': 17.0, 'flipper_length_mm': 230.0, 'body_mass_g': 6050.0, 'sex': 'Male'}, {'species': 'Gentoo', 'island': 'Biscoe', 'bill_length_mm': 49.1, 'bill_depth_mm': 14.8, 'flipper_length_mm': 220.0, 'body_mass_g': 5150.0, 'sex': 'Female'}, {'species': 'Gentoo', 'island': 'Biscoe', 'bill_length_mm': 48.4, 'bill_depth_mm': 16.3, 'flipper_length_mm': 220.0, 'body_mass_g': 5400.0, 'sex': 'Male'}, {'species': 'Gentoo', 'island': 'Biscoe', 'bill_length_mm': 42.6, 'bill_depth_mm': 13.7, 'flipper_length_mm': 213.0, 'body_mass_g': 4950.0, 'sex': 'Female'}, {'species': 'Gentoo', 'island': 'Biscoe', 'bill_length_mm': 44.4, 'bill_depth_mm': 17.3, 'flipper_length_mm': 219.0, 'body_mass_g': 5250.0, 'sex': 'Male'}, {'species': 'Gentoo', 'island': 'Biscoe', 'bill_length_mm': 44.0, 'bill_depth_mm': 13.6, 'flipper_length_mm': 208.0, 'body_mass_g': 4350.0, 'sex': 'Female'}, {'species': 'Gentoo', 'island': 'Biscoe', 'bill_length_mm': 48.7, 'bill_depth_mm': 15.7, 'flipper_length_mm': 208.0, 'body_mass_g': 5350.0, 'sex': 'Male'}, {'species': 'Gentoo', 'island': 'Biscoe', 'bill_length_mm': 42.7, 'bill_depth_mm': 13.7, 'flipper_length_mm': 208.0, 'body_mass_g': 3950.0, 'sex': 'Female'}, {'species': 'Gentoo', 'island': 'Biscoe', 'bill_length_mm': 49.6, 'bill_depth_mm': 16.0, 'flipper_length_mm': 225.0, 'body_mass_g': 5700.0, 'sex': 'Male'}, {'species': 'Gentoo', 'island': 'Biscoe', 'bill_length_mm': 45.3, 'bill_depth_mm': 13.7, 'flipper_length_mm': 210.0, 'body_mass_g': 4300.0, 'sex': 'Female'}, {'species': 'Gentoo', 'island': 'Biscoe', 'bill_length_mm': 49.6, 'bill_depth_mm': 15.0, 'flipper_length_mm': 216.0, 'body_mass_g': 4750.0, 'sex': 'Male'}, {'species': 'Gentoo', 'island': 'Biscoe', 'bill_length_mm': 50.5, 'bill_depth_mm': 15.9, 'flipper_length_mm': 222.0, 'body_mass_g': 5550.0, 'sex': 'Male'}, {'species': 'Gentoo', 'island': 'Biscoe', 'bill_length_mm': 43.6, 'bill_depth_mm': 13.9, 'flipper_length_mm': 217.0, 'body_mass_g': 4900.0, 'sex': 'Female'}, {'species': 'Gentoo', 'island': 'Biscoe', 'bill_length_mm': 45.5, 'bill_depth_mm': 13.9, 'flipper_length_mm': 210.0, 'body_mass_g': 4200.0, 'sex': 'Female'}, {'species': 'Gentoo', 'island': 'Biscoe', 'bill_length_mm': 50.5, 'bill_depth_mm': 15.9, 'flipper_length_mm': 225.0, 'body_mass_g': 5400.0, 'sex': 'Male'}, {'species': 'Gentoo', 'island': 'Biscoe', 'bill_length_mm': 44.9, 'bill_depth_mm': 13.3, 'flipper_length_mm': 213.0, 'body_mass_g': 5100.0, 'sex': 'Female'}, {'species': 'Gentoo', 'island': 'Biscoe', 'bill_length_mm': 45.2, 'bill_depth_mm': 15.8, 'flipper_length_mm': 215.0, 'body_mass_g': 5300.0, 'sex': 'Male'}, {'species': 'Gentoo', 'island': 'Biscoe', 'bill_length_mm': 46.6, 'bill_depth_mm': 14.2, 'flipper_length_mm': 210.0, 'body_mass_g': 4850.0, 'sex': 'Female'}, {'species': 'Gentoo', 'island': 'Biscoe', 'bill_length_mm': 48.5, 'bill_depth_mm': 14.1, 'flipper_length_mm': 220.0, 'body_mass_g': 5300.0, 'sex': 'Male'}, {'species': 'Gentoo', 'island': 'Biscoe', 'bill_length_mm': 45.1, 'bill_depth_mm': 14.4, 'flipper_length_mm': 210.0, 'body_mass_g': 4400.0, 'sex': 'Female'}, {'species': 'Gentoo', 'island': 'Biscoe', 'bill_length_mm': 50.1, 'bill_depth_mm': 15.0, 'flipper_length_mm': 225.0, 'body_mass_g': 5000.0, 'sex': 'Male'}, {'species': 'Gentoo', 'island': 'Biscoe', 'bill_length_mm': 46.5, 'bill_depth_mm': 14.4, 'flipper_length_mm': 217.0, 'body_mass_g': 4900.0, 'sex': 'Female'}, {'species': 'Gentoo', 'island': 'Biscoe', 'bill_length_mm': 45.0, 'bill_depth_mm': 15.4, 'flipper_length_mm': 220.0, 'body_mass_g': 5050.0, 'sex': 'Male'}, {'species': 'Gentoo', 'island': 'Biscoe', 'bill_length_mm': 43.8, 'bill_depth_mm': 13.9, 'flipper_length_mm': 208.0, 'body_mass_g': 4300.0, 'sex': 'Female'}, {'species': 'Gentoo', 'island': 'Biscoe', 'bill_length_mm': 45.5, 'bill_depth_mm': 15.0, 'flipper_length_mm': 220.0, 'body_mass_g': 5000.0, 'sex': 'Male'}, {'species': 'Gentoo', 'island': 'Biscoe', 'bill_length_mm': 43.2, 'bill_depth_mm': 14.5, 'flipper_length_mm': 208.0, 'body_mass_g': 4450.0, 'sex': 'Female'}, {'species': 'Gentoo', 'island': 'Biscoe', 'bill_length_mm': 50.4, 'bill_depth_mm': 15.3, 'flipper_length_mm': 224.0, 'body_mass_g': 5550.0, 'sex': 'Male'}, {'species': 'Gentoo', 'island': 'Biscoe', 'bill_length_mm': 45.3, 'bill_depth_mm': 13.8, 'flipper_length_mm': 208.0, 'body_mass_g': 4200.0, 'sex': 'Female'}, {'species': 'Gentoo', 'island': 'Biscoe', 'bill_length_mm': 46.2, 'bill_depth_mm': 14.9, 'flipper_length_mm': 221.0, 'body_mass_g': 5300.0, 'sex': 'Male'}, {'species': 'Gentoo', 'island': 'Biscoe', 'bill_length_mm': 45.7, 'bill_depth_mm': 13.9, 'flipper_length_mm': 214.0, 'body_mass_g': 4400.0, 'sex': 'Female'}, {'species': 'Gentoo', 'island': 'Biscoe', 'bill_length_mm': 54.3, 'bill_depth_mm': 15.7, 'flipper_length_mm': 231.0, 'body_mass_g': 5650.0, 'sex': 'Male'}, {'species': 'Gentoo', 'island': 'Biscoe', 'bill_length_mm': 45.8, 'bill_depth_mm': 14.2, 'flipper_length_mm': 219.0, 'body_mass_g': 4700.0, 'sex': 'Female'}, {'species': 'Gentoo', 'island': 'Biscoe', 'bill_length_mm': 49.8, 'bill_depth_mm': 16.8, 'flipper_length_mm': 230.0, 'body_mass_g': 5700.0, 'sex': 'Male'}, {'species': 'Gentoo', 'island': 'Biscoe', 'bill_length_mm': 46.2, 'bill_depth_mm': 14.4, 'flipper_length_mm': 214.0, 'body_mass_g': 4650.0, 'sex': nan}, {'species': 'Gentoo', 'island': 'Biscoe', 'bill_length_mm': 49.5, 'bill_depth_mm': 16.2, 'flipper_length_mm': 229.0, 'body_mass_g': 5800.0, 'sex': 'Male'}, {'species': 'Gentoo', 'island': 'Biscoe', 'bill_length_mm': 43.5, 'bill_depth_mm': 14.2, 'flipper_length_mm': 220.0, 'body_mass_g': 4700.0, 'sex': 'Female'}, {'species': 'Gentoo', 'island': 'Biscoe', 'bill_length_mm': 50.7, 'bill_depth_mm': 15.0, 'flipper_length_mm': 223.0, 'body_mass_g': 5550.0, 'sex': 'Male'}, {'species': 'Gentoo', 'island': 'Biscoe', 'bill_length_mm': 47.7, 'bill_depth_mm': 15.0, 'flipper_length_mm': 216.0, 'body_mass_g': 4750.0, 'sex': 'Female'}, {'species': 'Gentoo', 'island': 'Biscoe', 'bill_length_mm': 46.4, 'bill_depth_mm': 15.6, 'flipper_length_mm': 221.0, 'body_mass_g': 5000.0, 'sex': 'Male'}, {'species': 'Gentoo', 'island': 'Biscoe', 'bill_length_mm': 48.2, 'bill_depth_mm': 15.6, 'flipper_length_mm': 221.0, 'body_mass_g': 5100.0, 'sex': 'Male'}, {'species': 'Gentoo', 'island': 'Biscoe', 'bill_length_mm': 46.5, 'bill_depth_mm': 14.8, 'flipper_length_mm': 217.0, 'body_mass_g': 5200.0, 'sex': 'Female'}, {'species': 'Gentoo', 'island': 'Biscoe', 'bill_length_mm': 46.4, 'bill_depth_mm': 15.0, 'flipper_length_mm': 216.0, 'body_mass_g': 4700.0, 'sex': 'Female'}, {'species': 'Gentoo', 'island': 'Biscoe', 'bill_length_mm': 48.6, 'bill_depth_mm': 16.0, 'flipper_length_mm': 230.0, 'body_mass_g': 5800.0, 'sex': 'Male'}, {'species': 'Gentoo', 'island': 'Biscoe', 'bill_length_mm': 47.5, 'bill_depth_mm': 14.2, 'flipper_length_mm': 209.0, 'body_mass_g': 4600.0, 'sex': 'Female'}, {'species': 'Gentoo', 'island': 'Biscoe', 'bill_length_mm': 51.1, 'bill_depth_mm': 16.3, 'flipper_length_mm': 220.0, 'body_mass_g': 6000.0, 'sex': 'Male'}, {'species': 'Gentoo', 'island': 'Biscoe', 'bill_length_mm': 45.2, 'bill_depth_mm': 13.8, 'flipper_length_mm': 215.0, 'body_mass_g': 4750.0, 'sex': 'Female'}, {'species': 'Gentoo', 'island': 'Biscoe', 'bill_length_mm': 45.2, 'bill_depth_mm': 16.4, 'flipper_length_mm': 223.0, 'body_mass_g': 5950.0, 'sex': 'Male'}, {'species': 'Gentoo', 'island': 'Biscoe', 'bill_length_mm': 49.1, 'bill_depth_mm': 14.5, 'flipper_length_mm': 212.0, 'body_mass_g': 4625.0, 'sex': 'Female'}, {'species': 'Gentoo', 'island': 'Biscoe', 'bill_length_mm': 52.5, 'bill_depth_mm': 15.6, 'flipper_length_mm': 221.0, 'body_mass_g': 5450.0, 'sex': 'Male'}, {'species': 'Gentoo', 'island': 'Biscoe', 'bill_length_mm': 47.4, 'bill_depth_mm': 14.6, 'flipper_length_mm': 212.0, 'body_mass_g': 4725.0, 'sex': 'Female'}, {'species': 'Gentoo', 'island': 'Biscoe', 'bill_length_mm': 50.0, 'bill_depth_mm': 15.9, 'flipper_length_mm': 224.0, 'body_mass_g': 5350.0, 'sex': 'Male'}, {'species': 'Gentoo', 'island': 'Biscoe', 'bill_length_mm': 44.9, 'bill_depth_mm': 13.8, 'flipper_length_mm': 212.0, 'body_mass_g': 4750.0, 'sex': 'Female'}, {'species': 'Gentoo', 'island': 'Biscoe', 'bill_length_mm': 50.8, 'bill_depth_mm': 17.3, 'flipper_length_mm': 228.0, 'body_mass_g': 5600.0, 'sex': 'Male'}, {'species': 'Gentoo', 'island': 'Biscoe', 'bill_length_mm': 43.4, 'bill_depth_mm': 14.4, 'flipper_length_mm': 218.0, 'body_mass_g': 4600.0, 'sex': 'Female'}, {'species': 'Gentoo', 'island': 'Biscoe', 'bill_length_mm': 51.3, 'bill_depth_mm': 14.2, 'flipper_length_mm': 218.0, 'body_mass_g': 5300.0, 'sex': 'Male'}, {'species': 'Gentoo', 'island': 'Biscoe', 'bill_length_mm': 47.5, 'bill_depth_mm': 14.0, 'flipper_length_mm': 212.0, 'body_mass_g': 4875.0, 'sex': 'Female'}, {'species': 'Gentoo', 'island': 'Biscoe', 'bill_length_mm': 52.1, 'bill_depth_mm': 17.0, 'flipper_length_mm': 230.0, 'body_mass_g': 5550.0, 'sex': 'Male'}, {'species': 'Gentoo', 'island': 'Biscoe', 'bill_length_mm': 47.5, 'bill_depth_mm': 15.0, 'flipper_length_mm': 218.0, 'body_mass_g': 4950.0, 'sex': 'Female'}, {'species': 'Gentoo', 'island': 'Biscoe', 'bill_length_mm': 52.2, 'bill_depth_mm': 17.1, 'flipper_length_mm': 228.0, 'body_mass_g': 5400.0, 'sex': 'Male'}, {'species': 'Gentoo', 'island': 'Biscoe', 'bill_length_mm': 45.5, 'bill_depth_mm': 14.5, 'flipper_length_mm': 212.0, 'body_mass_g': 4750.0, 'sex': 'Female'}, {'species': 'Gentoo', 'island': 'Biscoe', 'bill_length_mm': 49.5, 'bill_depth_mm': 16.1, 'flipper_length_mm': 224.0, 'body_mass_g': 5650.0, 'sex': 'Male'}, {'species': 'Gentoo', 'island': 'Biscoe', 'bill_length_mm': 44.5, 'bill_depth_mm': 14.7, 'flipper_length_mm': 214.0, 'body_mass_g': 4850.0, 'sex': 'Female'}, {'species': 'Gentoo', 'island': 'Biscoe', 'bill_length_mm': 50.8, 'bill_depth_mm': 15.7, 'flipper_length_mm': 226.0, 'body_mass_g': 5200.0, 'sex': 'Male'}, {'species': 'Gentoo', 'island': 'Biscoe', 'bill_length_mm': 49.4, 'bill_depth_mm': 15.8, 'flipper_length_mm': 216.0, 'body_mass_g': 4925.0, 'sex': 'Male'}, {'species': 'Gentoo', 'island': 'Biscoe', 'bill_length_mm': 46.9, 'bill_depth_mm': 14.6, 'flipper_length_mm': 222.0, 'body_mass_g': 4875.0, 'sex': 'Female'}, {'species': 'Gentoo', 'island': 'Biscoe', 'bill_length_mm': 48.4, 'bill_depth_mm': 14.4, 'flipper_length_mm': 203.0, 'body_mass_g': 4625.0, 'sex': 'Female'}, {'species': 'Gentoo', 'island': 'Biscoe', 'bill_length_mm': 51.1, 'bill_depth_mm': 16.5, 'flipper_length_mm': 225.0, 'body_mass_g': 5250.0, 'sex': 'Male'}, {'species': 'Gentoo', 'island': 'Biscoe', 'bill_length_mm': 48.5, 'bill_depth_mm': 15.0, 'flipper_length_mm': 219.0, 'body_mass_g': 4850.0, 'sex': 'Female'}, {'species': 'Gentoo', 'island': 'Biscoe', 'bill_length_mm': 55.9, 'bill_depth_mm': 17.0, 'flipper_length_mm': 228.0, 'body_mass_g': 5600.0, 'sex': 'Male'}, {'species': 'Gentoo', 'island': 'Biscoe', 'bill_length_mm': 47.2, 'bill_depth_mm': 15.5, 'flipper_length_mm': 215.0, 'body_mass_g': 4975.0, 'sex': 'Female'}, {'species': 'Gentoo', 'island': 'Biscoe', 'bill_length_mm': 49.1, 'bill_depth_mm': 15.0, 'flipper_length_mm': 228.0, 'body_mass_g': 5500.0, 'sex': 'Male'}, {'species': 'Gentoo', 'island': 'Biscoe', 'bill_length_mm': 47.3, 'bill_depth_mm': 13.8, 'flipper_length_mm': 216.0, 'body_mass_g': 4725.0, 'sex': nan}, {'species': 'Gentoo', 'island': 'Biscoe', 'bill_length_mm': 46.8, 'bill_depth_mm': 16.1, 'flipper_length_mm': 215.0, 'body_mass_g': 5500.0, 'sex': 'Male'}, {'species': 'Gentoo', 'island': 'Biscoe', 'bill_length_mm': 41.7, 'bill_depth_mm': 14.7, 'flipper_length_mm': 210.0, 'body_mass_g': 4700.0, 'sex': 'Female'}, {'species': 'Gentoo', 'island': 'Biscoe', 'bill_length_mm': 53.4, 'bill_depth_mm': 15.8, 'flipper_length_mm': 219.0, 'body_mass_g': 5500.0, 'sex': 'Male'}, {'species': 'Gentoo', 'island': 'Biscoe', 'bill_length_mm': 43.3, 'bill_depth_mm': 14.0, 'flipper_length_mm': 208.0, 'body_mass_g': 4575.0, 'sex': 'Female'}, {'species': 'Gentoo', 'island': 'Biscoe', 'bill_length_mm': 48.1, 'bill_depth_mm': 15.1, 'flipper_length_mm': 209.0, 'body_mass_g': 5500.0, 'sex': 'Male'}, {'species': 'Gentoo', 'island': 'Biscoe', 'bill_length_mm': 50.5, 'bill_depth_mm': 15.2, 'flipper_length_mm': 216.0, 'body_mass_g': 5000.0, 'sex': 'Female'}, {'species': 'Gentoo', 'island': 'Biscoe', 'bill_length_mm': 49.8, 'bill_depth_mm': 15.9, 'flipper_length_mm': 229.0, 'body_mass_g': 5950.0, 'sex': 'Male'}, {'species': 'Gentoo', 'island': 'Biscoe', 'bill_length_mm': 43.5, 'bill_depth_mm': 15.2, 'flipper_length_mm': 213.0, 'body_mass_g': 4650.0, 'sex': 'Female'}, {'species': 'Gentoo', 'island': 'Biscoe', 'bill_length_mm': 51.5, 'bill_depth_mm': 16.3, 'flipper_length_mm': 230.0, 'body_mass_g': 5500.0, 'sex': 'Male'}, {'species': 'Gentoo', 'island': 'Biscoe', 'bill_length_mm': 46.2, 'bill_depth_mm': 14.1, 'flipper_length_mm': 217.0, 'body_mass_g': 4375.0, 'sex': 'Female'}, {'species': 'Gentoo', 'island': 'Biscoe', 'bill_length_mm': 55.1, 'bill_depth_mm': 16.0, 'flipper_length_mm': 230.0, 'body_mass_g': 5850.0, 'sex': 'Male'}, {'species': 'Gentoo', 'island': 'Biscoe', 'bill_length_mm': 44.5, 'bill_depth_mm': 15.7, 'flipper_length_mm': 217.0, 'body_mass_g': 4875.0, 'sex': nan}, {'species': 'Gentoo', 'island': 'Biscoe', 'bill_length_mm': 48.8, 'bill_depth_mm': 16.2, 'flipper_length_mm': 222.0, 'body_mass_g': 6000.0, 'sex': 'Male'}, {'species': 'Gentoo', 'island': 'Biscoe', 'bill_length_mm': 47.2, 'bill_depth_mm': 13.7, 'flipper_length_mm': 214.0, 'body_mass_g': 4925.0, 'sex': 'Female'}, {'species': 'Gentoo', 'island': 'Biscoe', 'bill_length_mm': nan, 'bill_depth_mm': nan, 'flipper_length_mm': nan, 'body_mass_g': nan, 'sex': nan}, {'species': 'Gentoo', 'island': 'Biscoe', 'bill_length_mm': 46.8, 'bill_depth_mm': 14.3, 'flipper_length_mm': 215.0, 'body_mass_g': 4850.0, 'sex': 'Female'}, {'species': 'Gentoo', 'island': 'Biscoe', 'bill_length_mm': 50.4, 'bill_depth_mm': 15.7, 'flipper_length_mm': 222.0, 'body_mass_g': 5750.0, 'sex': 'Male'}, {'species': 'Gentoo', 'island': 'Biscoe', 'bill_length_mm': 45.2, 'bill_depth_mm': 14.8, 'flipper_length_mm': 212.0, 'body_mass_g': 5200.0, 'sex': 'Female'}, {'species': 'Gentoo', 'island': 'Biscoe', 'bill_length_mm': 49.9, 'bill_depth_mm': 16.1, 'flipper_length_mm': 213.0, 'body_mass_g': 5400.0, 'sex': 'Male'}]\n"
     ]
    }
   ],
   "source": [
    "# Criar dicionário de dados\n",
    "\n",
    "dicionario = df.to_dict('records')\n",
    "print(dicionario)"
   ]
  },
  {
   "cell_type": "code",
   "execution_count": 4,
   "id": "805c57f6-5390-4b63-88ff-d38d7e08ef25",
   "metadata": {},
   "outputs": [
    {
     "name": "stdout",
     "output_type": "stream",
     "text": [
      "       bill_length_mm  bill_depth_mm  flipper_length_mm  body_mass_g\n",
      "count      342.000000     342.000000         342.000000   342.000000\n",
      "mean        43.921930      17.151170         200.915205  4201.754386\n",
      "std          5.459584       1.974793          14.061714   801.954536\n",
      "min         32.100000      13.100000         172.000000  2700.000000\n",
      "25%         39.225000      15.600000         190.000000  3550.000000\n",
      "50%         44.450000      17.300000         197.000000  4050.000000\n",
      "75%         48.500000      18.700000         213.000000  4750.000000\n",
      "max         59.600000      21.500000         231.000000  6300.000000\n"
     ]
    }
   ],
   "source": [
    "# Descrever os dados usando estatísticas de tendência central e dispersão\n",
    "\n",
    "descricao = df.describe()\n",
    "print(descricao)"
   ]
  },
  {
   "cell_type": "code",
   "execution_count": 14,
   "id": "97107ee4-879a-4968-8f79-5c3d0beec533",
   "metadata": {},
   "outputs": [
    {
     "ename": "TypeError",
     "evalue": "Could not convert ['AdelieAdelieAdelieAdelieAdelieAdelieAdelieAdelieAdelieAdelieAdelieAdelieAdelieAdelieAdelieAdelieAdelieAdelieAdelieAdelieAdelieAdelieAdelieAdelieAdelieAdelieAdelieAdelieAdelieAdelieAdelieAdelieAdelieAdelieAdelieAdelieAdelieAdelieAdelieAdelieAdelieAdelieAdelieAdelieAdelieAdelieAdelieAdelieAdelieAdelieAdelieAdelieAdelieAdelieAdelieAdelieAdelieAdelieAdelieAdelieAdelieAdelieAdelieAdelieAdelieAdelieAdelieAdelieAdelieAdelieAdelieAdelieAdelieAdelieAdelieAdelieAdelieAdelieAdelieAdelieAdelieAdelieAdelieAdelieAdelieAdelieAdelieAdelieAdelieAdelieAdelieAdelieAdelieAdelieAdelieAdelieAdelieAdelieAdelieAdelieAdelieAdelieAdelieAdelieAdelieAdelieAdelieAdelieAdelieAdelieAdelieAdelieAdelieAdelieAdelieAdelieAdelieAdelieAdelieAdelieAdelieAdelieAdelieAdelieAdelieAdelieAdelieAdelieAdelieAdelieAdelieAdelieAdelieAdelieAdelieAdelieAdelieAdelieAdelieAdelieAdelieAdelieAdelieAdelieAdelieAdelieAdelieAdelieAdelieAdelieAdelieAdelieChinstrapChinstrapChinstrapChinstrapChinstrapChinstrapChinstrapChinstrapChinstrapChinstrapChinstrapChinstrapChinstrapChinstrapChinstrapChinstrapChinstrapChinstrapChinstrapChinstrapChinstrapChinstrapChinstrapChinstrapChinstrapChinstrapChinstrapChinstrapChinstrapChinstrapChinstrapChinstrapChinstrapChinstrapChinstrapChinstrapChinstrapChinstrapChinstrapChinstrapChinstrapChinstrapChinstrapChinstrapChinstrapChinstrapChinstrapChinstrapChinstrapChinstrapChinstrapChinstrapChinstrapChinstrapChinstrapChinstrapChinstrapChinstrapChinstrapChinstrapChinstrapChinstrapChinstrapChinstrapChinstrapChinstrapChinstrapChinstrapGentooGentooGentooGentooGentooGentooGentooGentooGentooGentooGentooGentooGentooGentooGentooGentooGentooGentooGentooGentooGentooGentooGentooGentooGentooGentooGentooGentooGentooGentooGentooGentooGentooGentooGentooGentooGentooGentooGentooGentooGentooGentooGentooGentooGentooGentooGentooGentooGentooGentooGentooGentooGentooGentooGentooGentooGentooGentooGentooGentooGentooGentooGentooGentooGentooGentooGentooGentooGentooGentooGentooGentooGentooGentooGentooGentooGentooGentooGentooGentooGentooGentooGentooGentooGentooGentooGentooGentooGentooGentooGentooGentooGentooGentooGentooGentooGentooGentooGentooGentooGentooGentooGentooGentooGentooGentooGentooGentooGentooGentooGentooGentooGentooGentooGentooGentooGentooGentooGentooGentooGentooGentooGentooGentoo'\n 'TorgersenTorgersenTorgersenTorgersenTorgersenTorgersenTorgersenTorgersenTorgersenTorgersenTorgersenTorgersenTorgersenTorgersenTorgersenTorgersenTorgersenTorgersenTorgersenTorgersenBiscoeBiscoeBiscoeBiscoeBiscoeBiscoeBiscoeBiscoeBiscoeBiscoeDreamDreamDreamDreamDreamDreamDreamDreamDreamDreamDreamDreamDreamDreamDreamDreamDreamDreamDreamDreamBiscoeBiscoeBiscoeBiscoeBiscoeBiscoeBiscoeBiscoeBiscoeBiscoeBiscoeBiscoeBiscoeBiscoeBiscoeBiscoeBiscoeBiscoeTorgersenTorgersenTorgersenTorgersenTorgersenTorgersenTorgersenTorgersenTorgersenTorgersenTorgersenTorgersenTorgersenTorgersenTorgersenTorgersenDreamDreamDreamDreamDreamDreamDreamDreamDreamDreamDreamDreamDreamDreamDreamDreamBiscoeBiscoeBiscoeBiscoeBiscoeBiscoeBiscoeBiscoeBiscoeBiscoeBiscoeBiscoeBiscoeBiscoeBiscoeBiscoeTorgersenTorgersenTorgersenTorgersenTorgersenTorgersenTorgersenTorgersenTorgersenTorgersenTorgersenTorgersenTorgersenTorgersenTorgersenTorgersenDreamDreamDreamDreamDreamDreamDreamDreamDreamDreamDreamDreamDreamDreamDreamDreamDreamDreamDreamDreamDreamDreamDreamDreamDreamDreamDreamDreamDreamDreamDreamDreamDreamDreamDreamDreamDreamDreamDreamDreamDreamDreamDreamDreamDreamDreamDreamDreamDreamDreamDreamDreamDreamDreamDreamDreamDreamDreamDreamDreamDreamDreamDreamDreamDreamDreamDreamDreamDreamDreamDreamDreamDreamDreamDreamDreamDreamDreamDreamDreamDreamDreamDreamDreamDreamDreamDreamDreamBiscoeBiscoeBiscoeBiscoeBiscoeBiscoeBiscoeBiscoeBiscoeBiscoeBiscoeBiscoeBiscoeBiscoeBiscoeBiscoeBiscoeBiscoeBiscoeBiscoeBiscoeBiscoeBiscoeBiscoeBiscoeBiscoeBiscoeBiscoeBiscoeBiscoeBiscoeBiscoeBiscoeBiscoeBiscoeBiscoeBiscoeBiscoeBiscoeBiscoeBiscoeBiscoeBiscoeBiscoeBiscoeBiscoeBiscoeBiscoeBiscoeBiscoeBiscoeBiscoeBiscoeBiscoeBiscoeBiscoeBiscoeBiscoeBiscoeBiscoeBiscoeBiscoeBiscoeBiscoeBiscoeBiscoeBiscoeBiscoeBiscoeBiscoeBiscoeBiscoeBiscoeBiscoeBiscoeBiscoeBiscoeBiscoeBiscoeBiscoeBiscoeBiscoeBiscoeBiscoeBiscoeBiscoeBiscoeBiscoeBiscoeBiscoeBiscoeBiscoeBiscoeBiscoeBiscoeBiscoeBiscoeBiscoeBiscoeBiscoeBiscoeBiscoeBiscoeBiscoeBiscoeBiscoeBiscoeBiscoeBiscoeBiscoeBiscoeBiscoeBiscoeBiscoeBiscoeBiscoeBiscoeBiscoeBiscoeBiscoeBiscoeBiscoeBiscoeBiscoe'] to numeric",
     "output_type": "error",
     "traceback": [
      "\u001b[0;31m---------------------------------------------------------------------------\u001b[0m",
      "\u001b[0;31mTypeError\u001b[0m                                 Traceback (most recent call last)",
      "Cell \u001b[0;32mIn[14], line 4\u001b[0m\n\u001b[1;32m      1\u001b[0m \u001b[38;5;66;03m# Carregar estatísticas de forma separada para cada variável\u001b[39;00m\n\u001b[1;32m      2\u001b[0m \u001b[38;5;66;03m# No Colab o código deu certo. Aqui, não.\u001b[39;00m\n\u001b[0;32m----> 4\u001b[0m media \u001b[38;5;241m=\u001b[39m \u001b[43mdf\u001b[49m\u001b[38;5;241;43m.\u001b[39;49m\u001b[43mmean\u001b[49m\u001b[43m(\u001b[49m\u001b[43m)\u001b[49m\n\u001b[1;32m      5\u001b[0m mediana \u001b[38;5;241m=\u001b[39m df\u001b[38;5;241m.\u001b[39mmedian()\n\u001b[1;32m      6\u001b[0m desvio_padrao \u001b[38;5;241m=\u001b[39m df\u001b[38;5;241m.\u001b[39mstd()\n",
      "File \u001b[0;32m~/.pyenv/versions/3.10.4/lib/python3.10/site-packages/pandas/core/frame.py:11338\u001b[0m, in \u001b[0;36mDataFrame.mean\u001b[0;34m(self, axis, skipna, numeric_only, **kwargs)\u001b[0m\n\u001b[1;32m  11330\u001b[0m \u001b[38;5;129m@doc\u001b[39m(make_doc(\u001b[38;5;124m\"\u001b[39m\u001b[38;5;124mmean\u001b[39m\u001b[38;5;124m\"\u001b[39m, ndim\u001b[38;5;241m=\u001b[39m\u001b[38;5;241m2\u001b[39m))\n\u001b[1;32m  11331\u001b[0m \u001b[38;5;28;01mdef\u001b[39;00m \u001b[38;5;21mmean\u001b[39m(\n\u001b[1;32m  11332\u001b[0m     \u001b[38;5;28mself\u001b[39m,\n\u001b[0;32m   (...)\u001b[0m\n\u001b[1;32m  11336\u001b[0m     \u001b[38;5;241m*\u001b[39m\u001b[38;5;241m*\u001b[39mkwargs,\n\u001b[1;32m  11337\u001b[0m ):\n\u001b[0;32m> 11338\u001b[0m     result \u001b[38;5;241m=\u001b[39m \u001b[38;5;28;43msuper\u001b[39;49m\u001b[43m(\u001b[49m\u001b[43m)\u001b[49m\u001b[38;5;241;43m.\u001b[39;49m\u001b[43mmean\u001b[49m\u001b[43m(\u001b[49m\u001b[43maxis\u001b[49m\u001b[43m,\u001b[49m\u001b[43m \u001b[49m\u001b[43mskipna\u001b[49m\u001b[43m,\u001b[49m\u001b[43m \u001b[49m\u001b[43mnumeric_only\u001b[49m\u001b[43m,\u001b[49m\u001b[43m \u001b[49m\u001b[38;5;241;43m*\u001b[39;49m\u001b[38;5;241;43m*\u001b[39;49m\u001b[43mkwargs\u001b[49m\u001b[43m)\u001b[49m\n\u001b[1;32m  11339\u001b[0m     \u001b[38;5;28;01mif\u001b[39;00m \u001b[38;5;28misinstance\u001b[39m(result, Series):\n\u001b[1;32m  11340\u001b[0m         result \u001b[38;5;241m=\u001b[39m result\u001b[38;5;241m.\u001b[39m__finalize__(\u001b[38;5;28mself\u001b[39m, method\u001b[38;5;241m=\u001b[39m\u001b[38;5;124m\"\u001b[39m\u001b[38;5;124mmean\u001b[39m\u001b[38;5;124m\"\u001b[39m)\n",
      "File \u001b[0;32m~/.pyenv/versions/3.10.4/lib/python3.10/site-packages/pandas/core/generic.py:11969\u001b[0m, in \u001b[0;36mNDFrame.mean\u001b[0;34m(self, axis, skipna, numeric_only, **kwargs)\u001b[0m\n\u001b[1;32m  11962\u001b[0m \u001b[38;5;28;01mdef\u001b[39;00m \u001b[38;5;21mmean\u001b[39m(\n\u001b[1;32m  11963\u001b[0m     \u001b[38;5;28mself\u001b[39m,\n\u001b[1;32m  11964\u001b[0m     axis: Axis \u001b[38;5;241m|\u001b[39m \u001b[38;5;28;01mNone\u001b[39;00m \u001b[38;5;241m=\u001b[39m \u001b[38;5;241m0\u001b[39m,\n\u001b[0;32m   (...)\u001b[0m\n\u001b[1;32m  11967\u001b[0m     \u001b[38;5;241m*\u001b[39m\u001b[38;5;241m*\u001b[39mkwargs,\n\u001b[1;32m  11968\u001b[0m ) \u001b[38;5;241m-\u001b[39m\u001b[38;5;241m>\u001b[39m Series \u001b[38;5;241m|\u001b[39m \u001b[38;5;28mfloat\u001b[39m:\n\u001b[0;32m> 11969\u001b[0m     \u001b[38;5;28;01mreturn\u001b[39;00m \u001b[38;5;28;43mself\u001b[39;49m\u001b[38;5;241;43m.\u001b[39;49m\u001b[43m_stat_function\u001b[49m\u001b[43m(\u001b[49m\n\u001b[1;32m  11970\u001b[0m \u001b[43m        \u001b[49m\u001b[38;5;124;43m\"\u001b[39;49m\u001b[38;5;124;43mmean\u001b[39;49m\u001b[38;5;124;43m\"\u001b[39;49m\u001b[43m,\u001b[49m\u001b[43m \u001b[49m\u001b[43mnanops\u001b[49m\u001b[38;5;241;43m.\u001b[39;49m\u001b[43mnanmean\u001b[49m\u001b[43m,\u001b[49m\u001b[43m \u001b[49m\u001b[43maxis\u001b[49m\u001b[43m,\u001b[49m\u001b[43m \u001b[49m\u001b[43mskipna\u001b[49m\u001b[43m,\u001b[49m\u001b[43m \u001b[49m\u001b[43mnumeric_only\u001b[49m\u001b[43m,\u001b[49m\u001b[43m \u001b[49m\u001b[38;5;241;43m*\u001b[39;49m\u001b[38;5;241;43m*\u001b[39;49m\u001b[43mkwargs\u001b[49m\n\u001b[1;32m  11971\u001b[0m \u001b[43m    \u001b[49m\u001b[43m)\u001b[49m\n",
      "File \u001b[0;32m~/.pyenv/versions/3.10.4/lib/python3.10/site-packages/pandas/core/generic.py:11926\u001b[0m, in \u001b[0;36mNDFrame._stat_function\u001b[0;34m(self, name, func, axis, skipna, numeric_only, **kwargs)\u001b[0m\n\u001b[1;32m  11922\u001b[0m nv\u001b[38;5;241m.\u001b[39mvalidate_func(name, (), kwargs)\n\u001b[1;32m  11924\u001b[0m validate_bool_kwarg(skipna, \u001b[38;5;124m\"\u001b[39m\u001b[38;5;124mskipna\u001b[39m\u001b[38;5;124m\"\u001b[39m, none_allowed\u001b[38;5;241m=\u001b[39m\u001b[38;5;28;01mFalse\u001b[39;00m)\n\u001b[0;32m> 11926\u001b[0m \u001b[38;5;28;01mreturn\u001b[39;00m \u001b[38;5;28;43mself\u001b[39;49m\u001b[38;5;241;43m.\u001b[39;49m\u001b[43m_reduce\u001b[49m\u001b[43m(\u001b[49m\n\u001b[1;32m  11927\u001b[0m \u001b[43m    \u001b[49m\u001b[43mfunc\u001b[49m\u001b[43m,\u001b[49m\u001b[43m \u001b[49m\u001b[43mname\u001b[49m\u001b[38;5;241;43m=\u001b[39;49m\u001b[43mname\u001b[49m\u001b[43m,\u001b[49m\u001b[43m \u001b[49m\u001b[43maxis\u001b[49m\u001b[38;5;241;43m=\u001b[39;49m\u001b[43maxis\u001b[49m\u001b[43m,\u001b[49m\u001b[43m \u001b[49m\u001b[43mskipna\u001b[49m\u001b[38;5;241;43m=\u001b[39;49m\u001b[43mskipna\u001b[49m\u001b[43m,\u001b[49m\u001b[43m \u001b[49m\u001b[43mnumeric_only\u001b[49m\u001b[38;5;241;43m=\u001b[39;49m\u001b[43mnumeric_only\u001b[49m\n\u001b[1;32m  11928\u001b[0m \u001b[43m\u001b[49m\u001b[43m)\u001b[49m\n",
      "File \u001b[0;32m~/.pyenv/versions/3.10.4/lib/python3.10/site-packages/pandas/core/frame.py:11207\u001b[0m, in \u001b[0;36mDataFrame._reduce\u001b[0;34m(self, op, name, axis, skipna, numeric_only, filter_type, **kwds)\u001b[0m\n\u001b[1;32m  11203\u001b[0m     df \u001b[38;5;241m=\u001b[39m df\u001b[38;5;241m.\u001b[39mT\n\u001b[1;32m  11205\u001b[0m \u001b[38;5;66;03m# After possibly _get_data and transposing, we are now in the\u001b[39;00m\n\u001b[1;32m  11206\u001b[0m \u001b[38;5;66;03m#  simple case where we can use BlockManager.reduce\u001b[39;00m\n\u001b[0;32m> 11207\u001b[0m res \u001b[38;5;241m=\u001b[39m \u001b[43mdf\u001b[49m\u001b[38;5;241;43m.\u001b[39;49m\u001b[43m_mgr\u001b[49m\u001b[38;5;241;43m.\u001b[39;49m\u001b[43mreduce\u001b[49m\u001b[43m(\u001b[49m\u001b[43mblk_func\u001b[49m\u001b[43m)\u001b[49m\n\u001b[1;32m  11208\u001b[0m out \u001b[38;5;241m=\u001b[39m df\u001b[38;5;241m.\u001b[39m_constructor_from_mgr(res, axes\u001b[38;5;241m=\u001b[39mres\u001b[38;5;241m.\u001b[39maxes)\u001b[38;5;241m.\u001b[39miloc[\u001b[38;5;241m0\u001b[39m]\n\u001b[1;32m  11209\u001b[0m \u001b[38;5;28;01mif\u001b[39;00m out_dtype \u001b[38;5;129;01mis\u001b[39;00m \u001b[38;5;129;01mnot\u001b[39;00m \u001b[38;5;28;01mNone\u001b[39;00m \u001b[38;5;129;01mand\u001b[39;00m out\u001b[38;5;241m.\u001b[39mdtype \u001b[38;5;241m!=\u001b[39m \u001b[38;5;124m\"\u001b[39m\u001b[38;5;124mboolean\u001b[39m\u001b[38;5;124m\"\u001b[39m:\n",
      "File \u001b[0;32m~/.pyenv/versions/3.10.4/lib/python3.10/site-packages/pandas/core/internals/managers.py:1459\u001b[0m, in \u001b[0;36mBlockManager.reduce\u001b[0;34m(self, func)\u001b[0m\n\u001b[1;32m   1457\u001b[0m res_blocks: \u001b[38;5;28mlist\u001b[39m[Block] \u001b[38;5;241m=\u001b[39m []\n\u001b[1;32m   1458\u001b[0m \u001b[38;5;28;01mfor\u001b[39;00m blk \u001b[38;5;129;01min\u001b[39;00m \u001b[38;5;28mself\u001b[39m\u001b[38;5;241m.\u001b[39mblocks:\n\u001b[0;32m-> 1459\u001b[0m     nbs \u001b[38;5;241m=\u001b[39m \u001b[43mblk\u001b[49m\u001b[38;5;241;43m.\u001b[39;49m\u001b[43mreduce\u001b[49m\u001b[43m(\u001b[49m\u001b[43mfunc\u001b[49m\u001b[43m)\u001b[49m\n\u001b[1;32m   1460\u001b[0m     res_blocks\u001b[38;5;241m.\u001b[39mextend(nbs)\n\u001b[1;32m   1462\u001b[0m index \u001b[38;5;241m=\u001b[39m Index([\u001b[38;5;28;01mNone\u001b[39;00m])  \u001b[38;5;66;03m# placeholder\u001b[39;00m\n",
      "File \u001b[0;32m~/.pyenv/versions/3.10.4/lib/python3.10/site-packages/pandas/core/internals/blocks.py:377\u001b[0m, in \u001b[0;36mBlock.reduce\u001b[0;34m(self, func)\u001b[0m\n\u001b[1;32m    371\u001b[0m \u001b[38;5;129m@final\u001b[39m\n\u001b[1;32m    372\u001b[0m \u001b[38;5;28;01mdef\u001b[39;00m \u001b[38;5;21mreduce\u001b[39m(\u001b[38;5;28mself\u001b[39m, func) \u001b[38;5;241m-\u001b[39m\u001b[38;5;241m>\u001b[39m \u001b[38;5;28mlist\u001b[39m[Block]:\n\u001b[1;32m    373\u001b[0m     \u001b[38;5;66;03m# We will apply the function and reshape the result into a single-row\u001b[39;00m\n\u001b[1;32m    374\u001b[0m     \u001b[38;5;66;03m#  Block with the same mgr_locs; squeezing will be done at a higher level\u001b[39;00m\n\u001b[1;32m    375\u001b[0m     \u001b[38;5;28;01massert\u001b[39;00m \u001b[38;5;28mself\u001b[39m\u001b[38;5;241m.\u001b[39mndim \u001b[38;5;241m==\u001b[39m \u001b[38;5;241m2\u001b[39m\n\u001b[0;32m--> 377\u001b[0m     result \u001b[38;5;241m=\u001b[39m \u001b[43mfunc\u001b[49m\u001b[43m(\u001b[49m\u001b[38;5;28;43mself\u001b[39;49m\u001b[38;5;241;43m.\u001b[39;49m\u001b[43mvalues\u001b[49m\u001b[43m)\u001b[49m\n\u001b[1;32m    379\u001b[0m     \u001b[38;5;28;01mif\u001b[39;00m \u001b[38;5;28mself\u001b[39m\u001b[38;5;241m.\u001b[39mvalues\u001b[38;5;241m.\u001b[39mndim \u001b[38;5;241m==\u001b[39m \u001b[38;5;241m1\u001b[39m:\n\u001b[1;32m    380\u001b[0m         res_values \u001b[38;5;241m=\u001b[39m result\n",
      "File \u001b[0;32m~/.pyenv/versions/3.10.4/lib/python3.10/site-packages/pandas/core/frame.py:11139\u001b[0m, in \u001b[0;36mDataFrame._reduce.<locals>.blk_func\u001b[0;34m(values, axis)\u001b[0m\n\u001b[1;32m  11137\u001b[0m         \u001b[38;5;28;01mreturn\u001b[39;00m np\u001b[38;5;241m.\u001b[39marray([result])\n\u001b[1;32m  11138\u001b[0m \u001b[38;5;28;01melse\u001b[39;00m:\n\u001b[0;32m> 11139\u001b[0m     \u001b[38;5;28;01mreturn\u001b[39;00m \u001b[43mop\u001b[49m\u001b[43m(\u001b[49m\u001b[43mvalues\u001b[49m\u001b[43m,\u001b[49m\u001b[43m \u001b[49m\u001b[43maxis\u001b[49m\u001b[38;5;241;43m=\u001b[39;49m\u001b[43maxis\u001b[49m\u001b[43m,\u001b[49m\u001b[43m \u001b[49m\u001b[43mskipna\u001b[49m\u001b[38;5;241;43m=\u001b[39;49m\u001b[43mskipna\u001b[49m\u001b[43m,\u001b[49m\u001b[43m \u001b[49m\u001b[38;5;241;43m*\u001b[39;49m\u001b[38;5;241;43m*\u001b[39;49m\u001b[43mkwds\u001b[49m\u001b[43m)\u001b[49m\n",
      "File \u001b[0;32m~/.pyenv/versions/3.10.4/lib/python3.10/site-packages/pandas/core/nanops.py:147\u001b[0m, in \u001b[0;36mbottleneck_switch.__call__.<locals>.f\u001b[0;34m(values, axis, skipna, **kwds)\u001b[0m\n\u001b[1;32m    145\u001b[0m         result \u001b[38;5;241m=\u001b[39m alt(values, axis\u001b[38;5;241m=\u001b[39maxis, skipna\u001b[38;5;241m=\u001b[39mskipna, \u001b[38;5;241m*\u001b[39m\u001b[38;5;241m*\u001b[39mkwds)\n\u001b[1;32m    146\u001b[0m \u001b[38;5;28;01melse\u001b[39;00m:\n\u001b[0;32m--> 147\u001b[0m     result \u001b[38;5;241m=\u001b[39m \u001b[43malt\u001b[49m\u001b[43m(\u001b[49m\u001b[43mvalues\u001b[49m\u001b[43m,\u001b[49m\u001b[43m \u001b[49m\u001b[43maxis\u001b[49m\u001b[38;5;241;43m=\u001b[39;49m\u001b[43maxis\u001b[49m\u001b[43m,\u001b[49m\u001b[43m \u001b[49m\u001b[43mskipna\u001b[49m\u001b[38;5;241;43m=\u001b[39;49m\u001b[43mskipna\u001b[49m\u001b[43m,\u001b[49m\u001b[43m \u001b[49m\u001b[38;5;241;43m*\u001b[39;49m\u001b[38;5;241;43m*\u001b[39;49m\u001b[43mkwds\u001b[49m\u001b[43m)\u001b[49m\n\u001b[1;32m    149\u001b[0m \u001b[38;5;28;01mreturn\u001b[39;00m result\n",
      "File \u001b[0;32m~/.pyenv/versions/3.10.4/lib/python3.10/site-packages/pandas/core/nanops.py:404\u001b[0m, in \u001b[0;36m_datetimelike_compat.<locals>.new_func\u001b[0;34m(values, axis, skipna, mask, **kwargs)\u001b[0m\n\u001b[1;32m    401\u001b[0m \u001b[38;5;28;01mif\u001b[39;00m datetimelike \u001b[38;5;129;01mand\u001b[39;00m mask \u001b[38;5;129;01mis\u001b[39;00m \u001b[38;5;28;01mNone\u001b[39;00m:\n\u001b[1;32m    402\u001b[0m     mask \u001b[38;5;241m=\u001b[39m isna(values)\n\u001b[0;32m--> 404\u001b[0m result \u001b[38;5;241m=\u001b[39m \u001b[43mfunc\u001b[49m\u001b[43m(\u001b[49m\u001b[43mvalues\u001b[49m\u001b[43m,\u001b[49m\u001b[43m \u001b[49m\u001b[43maxis\u001b[49m\u001b[38;5;241;43m=\u001b[39;49m\u001b[43maxis\u001b[49m\u001b[43m,\u001b[49m\u001b[43m \u001b[49m\u001b[43mskipna\u001b[49m\u001b[38;5;241;43m=\u001b[39;49m\u001b[43mskipna\u001b[49m\u001b[43m,\u001b[49m\u001b[43m \u001b[49m\u001b[43mmask\u001b[49m\u001b[38;5;241;43m=\u001b[39;49m\u001b[43mmask\u001b[49m\u001b[43m,\u001b[49m\u001b[43m \u001b[49m\u001b[38;5;241;43m*\u001b[39;49m\u001b[38;5;241;43m*\u001b[39;49m\u001b[43mkwargs\u001b[49m\u001b[43m)\u001b[49m\n\u001b[1;32m    406\u001b[0m \u001b[38;5;28;01mif\u001b[39;00m datetimelike:\n\u001b[1;32m    407\u001b[0m     result \u001b[38;5;241m=\u001b[39m _wrap_results(result, orig_values\u001b[38;5;241m.\u001b[39mdtype, fill_value\u001b[38;5;241m=\u001b[39miNaT)\n",
      "File \u001b[0;32m~/.pyenv/versions/3.10.4/lib/python3.10/site-packages/pandas/core/nanops.py:720\u001b[0m, in \u001b[0;36mnanmean\u001b[0;34m(values, axis, skipna, mask)\u001b[0m\n\u001b[1;32m    718\u001b[0m count \u001b[38;5;241m=\u001b[39m _get_counts(values\u001b[38;5;241m.\u001b[39mshape, mask, axis, dtype\u001b[38;5;241m=\u001b[39mdtype_count)\n\u001b[1;32m    719\u001b[0m the_sum \u001b[38;5;241m=\u001b[39m values\u001b[38;5;241m.\u001b[39msum(axis, dtype\u001b[38;5;241m=\u001b[39mdtype_sum)\n\u001b[0;32m--> 720\u001b[0m the_sum \u001b[38;5;241m=\u001b[39m \u001b[43m_ensure_numeric\u001b[49m\u001b[43m(\u001b[49m\u001b[43mthe_sum\u001b[49m\u001b[43m)\u001b[49m\n\u001b[1;32m    722\u001b[0m \u001b[38;5;28;01mif\u001b[39;00m axis \u001b[38;5;129;01mis\u001b[39;00m \u001b[38;5;129;01mnot\u001b[39;00m \u001b[38;5;28;01mNone\u001b[39;00m \u001b[38;5;129;01mand\u001b[39;00m \u001b[38;5;28mgetattr\u001b[39m(the_sum, \u001b[38;5;124m\"\u001b[39m\u001b[38;5;124mndim\u001b[39m\u001b[38;5;124m\"\u001b[39m, \u001b[38;5;28;01mFalse\u001b[39;00m):\n\u001b[1;32m    723\u001b[0m     count \u001b[38;5;241m=\u001b[39m cast(np\u001b[38;5;241m.\u001b[39mndarray, count)\n",
      "File \u001b[0;32m~/.pyenv/versions/3.10.4/lib/python3.10/site-packages/pandas/core/nanops.py:1678\u001b[0m, in \u001b[0;36m_ensure_numeric\u001b[0;34m(x)\u001b[0m\n\u001b[1;32m   1675\u001b[0m inferred \u001b[38;5;241m=\u001b[39m lib\u001b[38;5;241m.\u001b[39minfer_dtype(x)\n\u001b[1;32m   1676\u001b[0m \u001b[38;5;28;01mif\u001b[39;00m inferred \u001b[38;5;129;01min\u001b[39;00m [\u001b[38;5;124m\"\u001b[39m\u001b[38;5;124mstring\u001b[39m\u001b[38;5;124m\"\u001b[39m, \u001b[38;5;124m\"\u001b[39m\u001b[38;5;124mmixed\u001b[39m\u001b[38;5;124m\"\u001b[39m]:\n\u001b[1;32m   1677\u001b[0m     \u001b[38;5;66;03m# GH#44008, GH#36703 avoid casting e.g. strings to numeric\u001b[39;00m\n\u001b[0;32m-> 1678\u001b[0m     \u001b[38;5;28;01mraise\u001b[39;00m \u001b[38;5;167;01mTypeError\u001b[39;00m(\u001b[38;5;124mf\u001b[39m\u001b[38;5;124m\"\u001b[39m\u001b[38;5;124mCould not convert \u001b[39m\u001b[38;5;132;01m{\u001b[39;00mx\u001b[38;5;132;01m}\u001b[39;00m\u001b[38;5;124m to numeric\u001b[39m\u001b[38;5;124m\"\u001b[39m)\n\u001b[1;32m   1679\u001b[0m \u001b[38;5;28;01mtry\u001b[39;00m:\n\u001b[1;32m   1680\u001b[0m     x \u001b[38;5;241m=\u001b[39m x\u001b[38;5;241m.\u001b[39mastype(np\u001b[38;5;241m.\u001b[39mcomplex128)\n",
      "\u001b[0;31mTypeError\u001b[0m: Could not convert ['AdelieAdelieAdelieAdelieAdelieAdelieAdelieAdelieAdelieAdelieAdelieAdelieAdelieAdelieAdelieAdelieAdelieAdelieAdelieAdelieAdelieAdelieAdelieAdelieAdelieAdelieAdelieAdelieAdelieAdelieAdelieAdelieAdelieAdelieAdelieAdelieAdelieAdelieAdelieAdelieAdelieAdelieAdelieAdelieAdelieAdelieAdelieAdelieAdelieAdelieAdelieAdelieAdelieAdelieAdelieAdelieAdelieAdelieAdelieAdelieAdelieAdelieAdelieAdelieAdelieAdelieAdelieAdelieAdelieAdelieAdelieAdelieAdelieAdelieAdelieAdelieAdelieAdelieAdelieAdelieAdelieAdelieAdelieAdelieAdelieAdelieAdelieAdelieAdelieAdelieAdelieAdelieAdelieAdelieAdelieAdelieAdelieAdelieAdelieAdelieAdelieAdelieAdelieAdelieAdelieAdelieAdelieAdelieAdelieAdelieAdelieAdelieAdelieAdelieAdelieAdelieAdelieAdelieAdelieAdelieAdelieAdelieAdelieAdelieAdelieAdelieAdelieAdelieAdelieAdelieAdelieAdelieAdelieAdelieAdelieAdelieAdelieAdelieAdelieAdelieAdelieAdelieAdelieAdelieAdelieAdelieAdelieAdelieAdelieAdelieAdelieAdelieChinstrapChinstrapChinstrapChinstrapChinstrapChinstrapChinstrapChinstrapChinstrapChinstrapChinstrapChinstrapChinstrapChinstrapChinstrapChinstrapChinstrapChinstrapChinstrapChinstrapChinstrapChinstrapChinstrapChinstrapChinstrapChinstrapChinstrapChinstrapChinstrapChinstrapChinstrapChinstrapChinstrapChinstrapChinstrapChinstrapChinstrapChinstrapChinstrapChinstrapChinstrapChinstrapChinstrapChinstrapChinstrapChinstrapChinstrapChinstrapChinstrapChinstrapChinstrapChinstrapChinstrapChinstrapChinstrapChinstrapChinstrapChinstrapChinstrapChinstrapChinstrapChinstrapChinstrapChinstrapChinstrapChinstrapChinstrapChinstrapGentooGentooGentooGentooGentooGentooGentooGentooGentooGentooGentooGentooGentooGentooGentooGentooGentooGentooGentooGentooGentooGentooGentooGentooGentooGentooGentooGentooGentooGentooGentooGentooGentooGentooGentooGentooGentooGentooGentooGentooGentooGentooGentooGentooGentooGentooGentooGentooGentooGentooGentooGentooGentooGentooGentooGentooGentooGentooGentooGentooGentooGentooGentooGentooGentooGentooGentooGentooGentooGentooGentooGentooGentooGentooGentooGentooGentooGentooGentooGentooGentooGentooGentooGentooGentooGentooGentooGentooGentooGentooGentooGentooGentooGentooGentooGentooGentooGentooGentooGentooGentooGentooGentooGentooGentooGentooGentooGentooGentooGentooGentooGentooGentooGentooGentooGentooGentooGentooGentooGentooGentooGentooGentooGentoo'\n 'TorgersenTorgersenTorgersenTorgersenTorgersenTorgersenTorgersenTorgersenTorgersenTorgersenTorgersenTorgersenTorgersenTorgersenTorgersenTorgersenTorgersenTorgersenTorgersenTorgersenBiscoeBiscoeBiscoeBiscoeBiscoeBiscoeBiscoeBiscoeBiscoeBiscoeDreamDreamDreamDreamDreamDreamDreamDreamDreamDreamDreamDreamDreamDreamDreamDreamDreamDreamDreamDreamBiscoeBiscoeBiscoeBiscoeBiscoeBiscoeBiscoeBiscoeBiscoeBiscoeBiscoeBiscoeBiscoeBiscoeBiscoeBiscoeBiscoeBiscoeTorgersenTorgersenTorgersenTorgersenTorgersenTorgersenTorgersenTorgersenTorgersenTorgersenTorgersenTorgersenTorgersenTorgersenTorgersenTorgersenDreamDreamDreamDreamDreamDreamDreamDreamDreamDreamDreamDreamDreamDreamDreamDreamBiscoeBiscoeBiscoeBiscoeBiscoeBiscoeBiscoeBiscoeBiscoeBiscoeBiscoeBiscoeBiscoeBiscoeBiscoeBiscoeTorgersenTorgersenTorgersenTorgersenTorgersenTorgersenTorgersenTorgersenTorgersenTorgersenTorgersenTorgersenTorgersenTorgersenTorgersenTorgersenDreamDreamDreamDreamDreamDreamDreamDreamDreamDreamDreamDreamDreamDreamDreamDreamDreamDreamDreamDreamDreamDreamDreamDreamDreamDreamDreamDreamDreamDreamDreamDreamDreamDreamDreamDreamDreamDreamDreamDreamDreamDreamDreamDreamDreamDreamDreamDreamDreamDreamDreamDreamDreamDreamDreamDreamDreamDreamDreamDreamDreamDreamDreamDreamDreamDreamDreamDreamDreamDreamDreamDreamDreamDreamDreamDreamDreamDreamDreamDreamDreamDreamDreamDreamDreamDreamDreamDreamBiscoeBiscoeBiscoeBiscoeBiscoeBiscoeBiscoeBiscoeBiscoeBiscoeBiscoeBiscoeBiscoeBiscoeBiscoeBiscoeBiscoeBiscoeBiscoeBiscoeBiscoeBiscoeBiscoeBiscoeBiscoeBiscoeBiscoeBiscoeBiscoeBiscoeBiscoeBiscoeBiscoeBiscoeBiscoeBiscoeBiscoeBiscoeBiscoeBiscoeBiscoeBiscoeBiscoeBiscoeBiscoeBiscoeBiscoeBiscoeBiscoeBiscoeBiscoeBiscoeBiscoeBiscoeBiscoeBiscoeBiscoeBiscoeBiscoeBiscoeBiscoeBiscoeBiscoeBiscoeBiscoeBiscoeBiscoeBiscoeBiscoeBiscoeBiscoeBiscoeBiscoeBiscoeBiscoeBiscoeBiscoeBiscoeBiscoeBiscoeBiscoeBiscoeBiscoeBiscoeBiscoeBiscoeBiscoeBiscoeBiscoeBiscoeBiscoeBiscoeBiscoeBiscoeBiscoeBiscoeBiscoeBiscoeBiscoeBiscoeBiscoeBiscoeBiscoeBiscoeBiscoeBiscoeBiscoeBiscoeBiscoeBiscoeBiscoeBiscoeBiscoeBiscoeBiscoeBiscoeBiscoeBiscoeBiscoeBiscoeBiscoeBiscoeBiscoeBiscoe'] to numeric"
     ]
    }
   ],
   "source": [
    "# Carregar estatísticas de forma separada para cada variável\n",
    "# No Colab o código deu certo. Aqui, não.\n",
    "\n",
    "media = df.mean()\n",
    "mediana = df.median()\n",
    "desvio_padrao = df.std()\n",
    "variancia = df.var()\n",
    "\n",
    "print('Média:', media)\n",
    "print('Mediana:', mediana)\n",
    "print('Desvio padrão:', desvio_padrao)\n",
    "print('Variância:', variancia)"
   ]
  },
  {
   "cell_type": "markdown",
   "id": "2c2b0429-abae-4111-9738-6a534d96bacd",
   "metadata": {},
   "source": [
    "# Dataset Gorjetas"
   ]
  },
  {
   "cell_type": "code",
   "execution_count": 22,
   "id": "9421e16f-6c9f-4709-abf4-e3eaa00e6d06",
   "metadata": {},
   "outputs": [
    {
     "data": {
      "text/html": [
       "<div>\n",
       "<style scoped>\n",
       "    .dataframe tbody tr th:only-of-type {\n",
       "        vertical-align: middle;\n",
       "    }\n",
       "\n",
       "    .dataframe tbody tr th {\n",
       "        vertical-align: top;\n",
       "    }\n",
       "\n",
       "    .dataframe thead th {\n",
       "        text-align: right;\n",
       "    }\n",
       "</style>\n",
       "<table border=\"1\" class=\"dataframe\">\n",
       "  <thead>\n",
       "    <tr style=\"text-align: right;\">\n",
       "      <th></th>\n",
       "      <th>total_bill</th>\n",
       "      <th>tip</th>\n",
       "      <th>sex</th>\n",
       "      <th>smoker</th>\n",
       "      <th>day</th>\n",
       "      <th>time</th>\n",
       "      <th>size</th>\n",
       "    </tr>\n",
       "  </thead>\n",
       "  <tbody>\n",
       "    <tr>\n",
       "      <th>0</th>\n",
       "      <td>16.99</td>\n",
       "      <td>1.01</td>\n",
       "      <td>Female</td>\n",
       "      <td>No</td>\n",
       "      <td>Sun</td>\n",
       "      <td>Dinner</td>\n",
       "      <td>2</td>\n",
       "    </tr>\n",
       "    <tr>\n",
       "      <th>1</th>\n",
       "      <td>10.34</td>\n",
       "      <td>1.66</td>\n",
       "      <td>Male</td>\n",
       "      <td>No</td>\n",
       "      <td>Sun</td>\n",
       "      <td>Dinner</td>\n",
       "      <td>3</td>\n",
       "    </tr>\n",
       "    <tr>\n",
       "      <th>2</th>\n",
       "      <td>21.01</td>\n",
       "      <td>3.50</td>\n",
       "      <td>Male</td>\n",
       "      <td>No</td>\n",
       "      <td>Sun</td>\n",
       "      <td>Dinner</td>\n",
       "      <td>3</td>\n",
       "    </tr>\n",
       "    <tr>\n",
       "      <th>3</th>\n",
       "      <td>23.68</td>\n",
       "      <td>3.31</td>\n",
       "      <td>Male</td>\n",
       "      <td>No</td>\n",
       "      <td>Sun</td>\n",
       "      <td>Dinner</td>\n",
       "      <td>2</td>\n",
       "    </tr>\n",
       "    <tr>\n",
       "      <th>4</th>\n",
       "      <td>24.59</td>\n",
       "      <td>3.61</td>\n",
       "      <td>Female</td>\n",
       "      <td>No</td>\n",
       "      <td>Sun</td>\n",
       "      <td>Dinner</td>\n",
       "      <td>4</td>\n",
       "    </tr>\n",
       "    <tr>\n",
       "      <th>...</th>\n",
       "      <td>...</td>\n",
       "      <td>...</td>\n",
       "      <td>...</td>\n",
       "      <td>...</td>\n",
       "      <td>...</td>\n",
       "      <td>...</td>\n",
       "      <td>...</td>\n",
       "    </tr>\n",
       "    <tr>\n",
       "      <th>239</th>\n",
       "      <td>29.03</td>\n",
       "      <td>5.92</td>\n",
       "      <td>Male</td>\n",
       "      <td>No</td>\n",
       "      <td>Sat</td>\n",
       "      <td>Dinner</td>\n",
       "      <td>3</td>\n",
       "    </tr>\n",
       "    <tr>\n",
       "      <th>240</th>\n",
       "      <td>27.18</td>\n",
       "      <td>2.00</td>\n",
       "      <td>Female</td>\n",
       "      <td>Yes</td>\n",
       "      <td>Sat</td>\n",
       "      <td>Dinner</td>\n",
       "      <td>2</td>\n",
       "    </tr>\n",
       "    <tr>\n",
       "      <th>241</th>\n",
       "      <td>22.67</td>\n",
       "      <td>2.00</td>\n",
       "      <td>Male</td>\n",
       "      <td>Yes</td>\n",
       "      <td>Sat</td>\n",
       "      <td>Dinner</td>\n",
       "      <td>2</td>\n",
       "    </tr>\n",
       "    <tr>\n",
       "      <th>242</th>\n",
       "      <td>17.82</td>\n",
       "      <td>1.75</td>\n",
       "      <td>Male</td>\n",
       "      <td>No</td>\n",
       "      <td>Sat</td>\n",
       "      <td>Dinner</td>\n",
       "      <td>2</td>\n",
       "    </tr>\n",
       "    <tr>\n",
       "      <th>243</th>\n",
       "      <td>18.78</td>\n",
       "      <td>3.00</td>\n",
       "      <td>Female</td>\n",
       "      <td>No</td>\n",
       "      <td>Thur</td>\n",
       "      <td>Dinner</td>\n",
       "      <td>2</td>\n",
       "    </tr>\n",
       "  </tbody>\n",
       "</table>\n",
       "<p>244 rows × 7 columns</p>\n",
       "</div>"
      ],
      "text/plain": [
       "     total_bill   tip     sex smoker   day    time  size\n",
       "0         16.99  1.01  Female     No   Sun  Dinner     2\n",
       "1         10.34  1.66    Male     No   Sun  Dinner     3\n",
       "2         21.01  3.50    Male     No   Sun  Dinner     3\n",
       "3         23.68  3.31    Male     No   Sun  Dinner     2\n",
       "4         24.59  3.61  Female     No   Sun  Dinner     4\n",
       "..          ...   ...     ...    ...   ...     ...   ...\n",
       "239       29.03  5.92    Male     No   Sat  Dinner     3\n",
       "240       27.18  2.00  Female    Yes   Sat  Dinner     2\n",
       "241       22.67  2.00    Male    Yes   Sat  Dinner     2\n",
       "242       17.82  1.75    Male     No   Sat  Dinner     2\n",
       "243       18.78  3.00  Female     No  Thur  Dinner     2\n",
       "\n",
       "[244 rows x 7 columns]"
      ]
     },
     "execution_count": 22,
     "metadata": {},
     "output_type": "execute_result"
    }
   ],
   "source": [
    "# Carregar conjunto de dados\n",
    "\n",
    "df_2 = sns.load_dataset('tips')\r\n",
    "df_2"
   ]
  },
  {
   "cell_type": "code",
   "execution_count": 17,
   "id": "5dd5a409-528f-4a95-9b71-8154f7c2db5d",
   "metadata": {},
   "outputs": [
    {
     "name": "stdout",
     "output_type": "stream",
     "text": [
      "[{'total_bill': 16.99, 'tip': 1.01, 'sex': 'Female', 'smoker': 'No', 'day': 'Sun', 'time': 'Dinner', 'size': 2}, {'total_bill': 10.34, 'tip': 1.66, 'sex': 'Male', 'smoker': 'No', 'day': 'Sun', 'time': 'Dinner', 'size': 3}, {'total_bill': 21.01, 'tip': 3.5, 'sex': 'Male', 'smoker': 'No', 'day': 'Sun', 'time': 'Dinner', 'size': 3}, {'total_bill': 23.68, 'tip': 3.31, 'sex': 'Male', 'smoker': 'No', 'day': 'Sun', 'time': 'Dinner', 'size': 2}, {'total_bill': 24.59, 'tip': 3.61, 'sex': 'Female', 'smoker': 'No', 'day': 'Sun', 'time': 'Dinner', 'size': 4}, {'total_bill': 25.29, 'tip': 4.71, 'sex': 'Male', 'smoker': 'No', 'day': 'Sun', 'time': 'Dinner', 'size': 4}, {'total_bill': 8.77, 'tip': 2.0, 'sex': 'Male', 'smoker': 'No', 'day': 'Sun', 'time': 'Dinner', 'size': 2}, {'total_bill': 26.88, 'tip': 3.12, 'sex': 'Male', 'smoker': 'No', 'day': 'Sun', 'time': 'Dinner', 'size': 4}, {'total_bill': 15.04, 'tip': 1.96, 'sex': 'Male', 'smoker': 'No', 'day': 'Sun', 'time': 'Dinner', 'size': 2}, {'total_bill': 14.78, 'tip': 3.23, 'sex': 'Male', 'smoker': 'No', 'day': 'Sun', 'time': 'Dinner', 'size': 2}, {'total_bill': 10.27, 'tip': 1.71, 'sex': 'Male', 'smoker': 'No', 'day': 'Sun', 'time': 'Dinner', 'size': 2}, {'total_bill': 35.26, 'tip': 5.0, 'sex': 'Female', 'smoker': 'No', 'day': 'Sun', 'time': 'Dinner', 'size': 4}, {'total_bill': 15.42, 'tip': 1.57, 'sex': 'Male', 'smoker': 'No', 'day': 'Sun', 'time': 'Dinner', 'size': 2}, {'total_bill': 18.43, 'tip': 3.0, 'sex': 'Male', 'smoker': 'No', 'day': 'Sun', 'time': 'Dinner', 'size': 4}, {'total_bill': 14.83, 'tip': 3.02, 'sex': 'Female', 'smoker': 'No', 'day': 'Sun', 'time': 'Dinner', 'size': 2}, {'total_bill': 21.58, 'tip': 3.92, 'sex': 'Male', 'smoker': 'No', 'day': 'Sun', 'time': 'Dinner', 'size': 2}, {'total_bill': 10.33, 'tip': 1.67, 'sex': 'Female', 'smoker': 'No', 'day': 'Sun', 'time': 'Dinner', 'size': 3}, {'total_bill': 16.29, 'tip': 3.71, 'sex': 'Male', 'smoker': 'No', 'day': 'Sun', 'time': 'Dinner', 'size': 3}, {'total_bill': 16.97, 'tip': 3.5, 'sex': 'Female', 'smoker': 'No', 'day': 'Sun', 'time': 'Dinner', 'size': 3}, {'total_bill': 20.65, 'tip': 3.35, 'sex': 'Male', 'smoker': 'No', 'day': 'Sat', 'time': 'Dinner', 'size': 3}, {'total_bill': 17.92, 'tip': 4.08, 'sex': 'Male', 'smoker': 'No', 'day': 'Sat', 'time': 'Dinner', 'size': 2}, {'total_bill': 20.29, 'tip': 2.75, 'sex': 'Female', 'smoker': 'No', 'day': 'Sat', 'time': 'Dinner', 'size': 2}, {'total_bill': 15.77, 'tip': 2.23, 'sex': 'Female', 'smoker': 'No', 'day': 'Sat', 'time': 'Dinner', 'size': 2}, {'total_bill': 39.42, 'tip': 7.58, 'sex': 'Male', 'smoker': 'No', 'day': 'Sat', 'time': 'Dinner', 'size': 4}, {'total_bill': 19.82, 'tip': 3.18, 'sex': 'Male', 'smoker': 'No', 'day': 'Sat', 'time': 'Dinner', 'size': 2}, {'total_bill': 17.81, 'tip': 2.34, 'sex': 'Male', 'smoker': 'No', 'day': 'Sat', 'time': 'Dinner', 'size': 4}, {'total_bill': 13.37, 'tip': 2.0, 'sex': 'Male', 'smoker': 'No', 'day': 'Sat', 'time': 'Dinner', 'size': 2}, {'total_bill': 12.69, 'tip': 2.0, 'sex': 'Male', 'smoker': 'No', 'day': 'Sat', 'time': 'Dinner', 'size': 2}, {'total_bill': 21.7, 'tip': 4.3, 'sex': 'Male', 'smoker': 'No', 'day': 'Sat', 'time': 'Dinner', 'size': 2}, {'total_bill': 19.65, 'tip': 3.0, 'sex': 'Female', 'smoker': 'No', 'day': 'Sat', 'time': 'Dinner', 'size': 2}, {'total_bill': 9.55, 'tip': 1.45, 'sex': 'Male', 'smoker': 'No', 'day': 'Sat', 'time': 'Dinner', 'size': 2}, {'total_bill': 18.35, 'tip': 2.5, 'sex': 'Male', 'smoker': 'No', 'day': 'Sat', 'time': 'Dinner', 'size': 4}, {'total_bill': 15.06, 'tip': 3.0, 'sex': 'Female', 'smoker': 'No', 'day': 'Sat', 'time': 'Dinner', 'size': 2}, {'total_bill': 20.69, 'tip': 2.45, 'sex': 'Female', 'smoker': 'No', 'day': 'Sat', 'time': 'Dinner', 'size': 4}, {'total_bill': 17.78, 'tip': 3.27, 'sex': 'Male', 'smoker': 'No', 'day': 'Sat', 'time': 'Dinner', 'size': 2}, {'total_bill': 24.06, 'tip': 3.6, 'sex': 'Male', 'smoker': 'No', 'day': 'Sat', 'time': 'Dinner', 'size': 3}, {'total_bill': 16.31, 'tip': 2.0, 'sex': 'Male', 'smoker': 'No', 'day': 'Sat', 'time': 'Dinner', 'size': 3}, {'total_bill': 16.93, 'tip': 3.07, 'sex': 'Female', 'smoker': 'No', 'day': 'Sat', 'time': 'Dinner', 'size': 3}, {'total_bill': 18.69, 'tip': 2.31, 'sex': 'Male', 'smoker': 'No', 'day': 'Sat', 'time': 'Dinner', 'size': 3}, {'total_bill': 31.27, 'tip': 5.0, 'sex': 'Male', 'smoker': 'No', 'day': 'Sat', 'time': 'Dinner', 'size': 3}, {'total_bill': 16.04, 'tip': 2.24, 'sex': 'Male', 'smoker': 'No', 'day': 'Sat', 'time': 'Dinner', 'size': 3}, {'total_bill': 17.46, 'tip': 2.54, 'sex': 'Male', 'smoker': 'No', 'day': 'Sun', 'time': 'Dinner', 'size': 2}, {'total_bill': 13.94, 'tip': 3.06, 'sex': 'Male', 'smoker': 'No', 'day': 'Sun', 'time': 'Dinner', 'size': 2}, {'total_bill': 9.68, 'tip': 1.32, 'sex': 'Male', 'smoker': 'No', 'day': 'Sun', 'time': 'Dinner', 'size': 2}, {'total_bill': 30.4, 'tip': 5.6, 'sex': 'Male', 'smoker': 'No', 'day': 'Sun', 'time': 'Dinner', 'size': 4}, {'total_bill': 18.29, 'tip': 3.0, 'sex': 'Male', 'smoker': 'No', 'day': 'Sun', 'time': 'Dinner', 'size': 2}, {'total_bill': 22.23, 'tip': 5.0, 'sex': 'Male', 'smoker': 'No', 'day': 'Sun', 'time': 'Dinner', 'size': 2}, {'total_bill': 32.4, 'tip': 6.0, 'sex': 'Male', 'smoker': 'No', 'day': 'Sun', 'time': 'Dinner', 'size': 4}, {'total_bill': 28.55, 'tip': 2.05, 'sex': 'Male', 'smoker': 'No', 'day': 'Sun', 'time': 'Dinner', 'size': 3}, {'total_bill': 18.04, 'tip': 3.0, 'sex': 'Male', 'smoker': 'No', 'day': 'Sun', 'time': 'Dinner', 'size': 2}, {'total_bill': 12.54, 'tip': 2.5, 'sex': 'Male', 'smoker': 'No', 'day': 'Sun', 'time': 'Dinner', 'size': 2}, {'total_bill': 10.29, 'tip': 2.6, 'sex': 'Female', 'smoker': 'No', 'day': 'Sun', 'time': 'Dinner', 'size': 2}, {'total_bill': 34.81, 'tip': 5.2, 'sex': 'Female', 'smoker': 'No', 'day': 'Sun', 'time': 'Dinner', 'size': 4}, {'total_bill': 9.94, 'tip': 1.56, 'sex': 'Male', 'smoker': 'No', 'day': 'Sun', 'time': 'Dinner', 'size': 2}, {'total_bill': 25.56, 'tip': 4.34, 'sex': 'Male', 'smoker': 'No', 'day': 'Sun', 'time': 'Dinner', 'size': 4}, {'total_bill': 19.49, 'tip': 3.51, 'sex': 'Male', 'smoker': 'No', 'day': 'Sun', 'time': 'Dinner', 'size': 2}, {'total_bill': 38.01, 'tip': 3.0, 'sex': 'Male', 'smoker': 'Yes', 'day': 'Sat', 'time': 'Dinner', 'size': 4}, {'total_bill': 26.41, 'tip': 1.5, 'sex': 'Female', 'smoker': 'No', 'day': 'Sat', 'time': 'Dinner', 'size': 2}, {'total_bill': 11.24, 'tip': 1.76, 'sex': 'Male', 'smoker': 'Yes', 'day': 'Sat', 'time': 'Dinner', 'size': 2}, {'total_bill': 48.27, 'tip': 6.73, 'sex': 'Male', 'smoker': 'No', 'day': 'Sat', 'time': 'Dinner', 'size': 4}, {'total_bill': 20.29, 'tip': 3.21, 'sex': 'Male', 'smoker': 'Yes', 'day': 'Sat', 'time': 'Dinner', 'size': 2}, {'total_bill': 13.81, 'tip': 2.0, 'sex': 'Male', 'smoker': 'Yes', 'day': 'Sat', 'time': 'Dinner', 'size': 2}, {'total_bill': 11.02, 'tip': 1.98, 'sex': 'Male', 'smoker': 'Yes', 'day': 'Sat', 'time': 'Dinner', 'size': 2}, {'total_bill': 18.29, 'tip': 3.76, 'sex': 'Male', 'smoker': 'Yes', 'day': 'Sat', 'time': 'Dinner', 'size': 4}, {'total_bill': 17.59, 'tip': 2.64, 'sex': 'Male', 'smoker': 'No', 'day': 'Sat', 'time': 'Dinner', 'size': 3}, {'total_bill': 20.08, 'tip': 3.15, 'sex': 'Male', 'smoker': 'No', 'day': 'Sat', 'time': 'Dinner', 'size': 3}, {'total_bill': 16.45, 'tip': 2.47, 'sex': 'Female', 'smoker': 'No', 'day': 'Sat', 'time': 'Dinner', 'size': 2}, {'total_bill': 3.07, 'tip': 1.0, 'sex': 'Female', 'smoker': 'Yes', 'day': 'Sat', 'time': 'Dinner', 'size': 1}, {'total_bill': 20.23, 'tip': 2.01, 'sex': 'Male', 'smoker': 'No', 'day': 'Sat', 'time': 'Dinner', 'size': 2}, {'total_bill': 15.01, 'tip': 2.09, 'sex': 'Male', 'smoker': 'Yes', 'day': 'Sat', 'time': 'Dinner', 'size': 2}, {'total_bill': 12.02, 'tip': 1.97, 'sex': 'Male', 'smoker': 'No', 'day': 'Sat', 'time': 'Dinner', 'size': 2}, {'total_bill': 17.07, 'tip': 3.0, 'sex': 'Female', 'smoker': 'No', 'day': 'Sat', 'time': 'Dinner', 'size': 3}, {'total_bill': 26.86, 'tip': 3.14, 'sex': 'Female', 'smoker': 'Yes', 'day': 'Sat', 'time': 'Dinner', 'size': 2}, {'total_bill': 25.28, 'tip': 5.0, 'sex': 'Female', 'smoker': 'Yes', 'day': 'Sat', 'time': 'Dinner', 'size': 2}, {'total_bill': 14.73, 'tip': 2.2, 'sex': 'Female', 'smoker': 'No', 'day': 'Sat', 'time': 'Dinner', 'size': 2}, {'total_bill': 10.51, 'tip': 1.25, 'sex': 'Male', 'smoker': 'No', 'day': 'Sat', 'time': 'Dinner', 'size': 2}, {'total_bill': 17.92, 'tip': 3.08, 'sex': 'Male', 'smoker': 'Yes', 'day': 'Sat', 'time': 'Dinner', 'size': 2}, {'total_bill': 27.2, 'tip': 4.0, 'sex': 'Male', 'smoker': 'No', 'day': 'Thur', 'time': 'Lunch', 'size': 4}, {'total_bill': 22.76, 'tip': 3.0, 'sex': 'Male', 'smoker': 'No', 'day': 'Thur', 'time': 'Lunch', 'size': 2}, {'total_bill': 17.29, 'tip': 2.71, 'sex': 'Male', 'smoker': 'No', 'day': 'Thur', 'time': 'Lunch', 'size': 2}, {'total_bill': 19.44, 'tip': 3.0, 'sex': 'Male', 'smoker': 'Yes', 'day': 'Thur', 'time': 'Lunch', 'size': 2}, {'total_bill': 16.66, 'tip': 3.4, 'sex': 'Male', 'smoker': 'No', 'day': 'Thur', 'time': 'Lunch', 'size': 2}, {'total_bill': 10.07, 'tip': 1.83, 'sex': 'Female', 'smoker': 'No', 'day': 'Thur', 'time': 'Lunch', 'size': 1}, {'total_bill': 32.68, 'tip': 5.0, 'sex': 'Male', 'smoker': 'Yes', 'day': 'Thur', 'time': 'Lunch', 'size': 2}, {'total_bill': 15.98, 'tip': 2.03, 'sex': 'Male', 'smoker': 'No', 'day': 'Thur', 'time': 'Lunch', 'size': 2}, {'total_bill': 34.83, 'tip': 5.17, 'sex': 'Female', 'smoker': 'No', 'day': 'Thur', 'time': 'Lunch', 'size': 4}, {'total_bill': 13.03, 'tip': 2.0, 'sex': 'Male', 'smoker': 'No', 'day': 'Thur', 'time': 'Lunch', 'size': 2}, {'total_bill': 18.28, 'tip': 4.0, 'sex': 'Male', 'smoker': 'No', 'day': 'Thur', 'time': 'Lunch', 'size': 2}, {'total_bill': 24.71, 'tip': 5.85, 'sex': 'Male', 'smoker': 'No', 'day': 'Thur', 'time': 'Lunch', 'size': 2}, {'total_bill': 21.16, 'tip': 3.0, 'sex': 'Male', 'smoker': 'No', 'day': 'Thur', 'time': 'Lunch', 'size': 2}, {'total_bill': 28.97, 'tip': 3.0, 'sex': 'Male', 'smoker': 'Yes', 'day': 'Fri', 'time': 'Dinner', 'size': 2}, {'total_bill': 22.49, 'tip': 3.5, 'sex': 'Male', 'smoker': 'No', 'day': 'Fri', 'time': 'Dinner', 'size': 2}, {'total_bill': 5.75, 'tip': 1.0, 'sex': 'Female', 'smoker': 'Yes', 'day': 'Fri', 'time': 'Dinner', 'size': 2}, {'total_bill': 16.32, 'tip': 4.3, 'sex': 'Female', 'smoker': 'Yes', 'day': 'Fri', 'time': 'Dinner', 'size': 2}, {'total_bill': 22.75, 'tip': 3.25, 'sex': 'Female', 'smoker': 'No', 'day': 'Fri', 'time': 'Dinner', 'size': 2}, {'total_bill': 40.17, 'tip': 4.73, 'sex': 'Male', 'smoker': 'Yes', 'day': 'Fri', 'time': 'Dinner', 'size': 4}, {'total_bill': 27.28, 'tip': 4.0, 'sex': 'Male', 'smoker': 'Yes', 'day': 'Fri', 'time': 'Dinner', 'size': 2}, {'total_bill': 12.03, 'tip': 1.5, 'sex': 'Male', 'smoker': 'Yes', 'day': 'Fri', 'time': 'Dinner', 'size': 2}, {'total_bill': 21.01, 'tip': 3.0, 'sex': 'Male', 'smoker': 'Yes', 'day': 'Fri', 'time': 'Dinner', 'size': 2}, {'total_bill': 12.46, 'tip': 1.5, 'sex': 'Male', 'smoker': 'No', 'day': 'Fri', 'time': 'Dinner', 'size': 2}, {'total_bill': 11.35, 'tip': 2.5, 'sex': 'Female', 'smoker': 'Yes', 'day': 'Fri', 'time': 'Dinner', 'size': 2}, {'total_bill': 15.38, 'tip': 3.0, 'sex': 'Female', 'smoker': 'Yes', 'day': 'Fri', 'time': 'Dinner', 'size': 2}, {'total_bill': 44.3, 'tip': 2.5, 'sex': 'Female', 'smoker': 'Yes', 'day': 'Sat', 'time': 'Dinner', 'size': 3}, {'total_bill': 22.42, 'tip': 3.48, 'sex': 'Female', 'smoker': 'Yes', 'day': 'Sat', 'time': 'Dinner', 'size': 2}, {'total_bill': 20.92, 'tip': 4.08, 'sex': 'Female', 'smoker': 'No', 'day': 'Sat', 'time': 'Dinner', 'size': 2}, {'total_bill': 15.36, 'tip': 1.64, 'sex': 'Male', 'smoker': 'Yes', 'day': 'Sat', 'time': 'Dinner', 'size': 2}, {'total_bill': 20.49, 'tip': 4.06, 'sex': 'Male', 'smoker': 'Yes', 'day': 'Sat', 'time': 'Dinner', 'size': 2}, {'total_bill': 25.21, 'tip': 4.29, 'sex': 'Male', 'smoker': 'Yes', 'day': 'Sat', 'time': 'Dinner', 'size': 2}, {'total_bill': 18.24, 'tip': 3.76, 'sex': 'Male', 'smoker': 'No', 'day': 'Sat', 'time': 'Dinner', 'size': 2}, {'total_bill': 14.31, 'tip': 4.0, 'sex': 'Female', 'smoker': 'Yes', 'day': 'Sat', 'time': 'Dinner', 'size': 2}, {'total_bill': 14.0, 'tip': 3.0, 'sex': 'Male', 'smoker': 'No', 'day': 'Sat', 'time': 'Dinner', 'size': 2}, {'total_bill': 7.25, 'tip': 1.0, 'sex': 'Female', 'smoker': 'No', 'day': 'Sat', 'time': 'Dinner', 'size': 1}, {'total_bill': 38.07, 'tip': 4.0, 'sex': 'Male', 'smoker': 'No', 'day': 'Sun', 'time': 'Dinner', 'size': 3}, {'total_bill': 23.95, 'tip': 2.55, 'sex': 'Male', 'smoker': 'No', 'day': 'Sun', 'time': 'Dinner', 'size': 2}, {'total_bill': 25.71, 'tip': 4.0, 'sex': 'Female', 'smoker': 'No', 'day': 'Sun', 'time': 'Dinner', 'size': 3}, {'total_bill': 17.31, 'tip': 3.5, 'sex': 'Female', 'smoker': 'No', 'day': 'Sun', 'time': 'Dinner', 'size': 2}, {'total_bill': 29.93, 'tip': 5.07, 'sex': 'Male', 'smoker': 'No', 'day': 'Sun', 'time': 'Dinner', 'size': 4}, {'total_bill': 10.65, 'tip': 1.5, 'sex': 'Female', 'smoker': 'No', 'day': 'Thur', 'time': 'Lunch', 'size': 2}, {'total_bill': 12.43, 'tip': 1.8, 'sex': 'Female', 'smoker': 'No', 'day': 'Thur', 'time': 'Lunch', 'size': 2}, {'total_bill': 24.08, 'tip': 2.92, 'sex': 'Female', 'smoker': 'No', 'day': 'Thur', 'time': 'Lunch', 'size': 4}, {'total_bill': 11.69, 'tip': 2.31, 'sex': 'Male', 'smoker': 'No', 'day': 'Thur', 'time': 'Lunch', 'size': 2}, {'total_bill': 13.42, 'tip': 1.68, 'sex': 'Female', 'smoker': 'No', 'day': 'Thur', 'time': 'Lunch', 'size': 2}, {'total_bill': 14.26, 'tip': 2.5, 'sex': 'Male', 'smoker': 'No', 'day': 'Thur', 'time': 'Lunch', 'size': 2}, {'total_bill': 15.95, 'tip': 2.0, 'sex': 'Male', 'smoker': 'No', 'day': 'Thur', 'time': 'Lunch', 'size': 2}, {'total_bill': 12.48, 'tip': 2.52, 'sex': 'Female', 'smoker': 'No', 'day': 'Thur', 'time': 'Lunch', 'size': 2}, {'total_bill': 29.8, 'tip': 4.2, 'sex': 'Female', 'smoker': 'No', 'day': 'Thur', 'time': 'Lunch', 'size': 6}, {'total_bill': 8.52, 'tip': 1.48, 'sex': 'Male', 'smoker': 'No', 'day': 'Thur', 'time': 'Lunch', 'size': 2}, {'total_bill': 14.52, 'tip': 2.0, 'sex': 'Female', 'smoker': 'No', 'day': 'Thur', 'time': 'Lunch', 'size': 2}, {'total_bill': 11.38, 'tip': 2.0, 'sex': 'Female', 'smoker': 'No', 'day': 'Thur', 'time': 'Lunch', 'size': 2}, {'total_bill': 22.82, 'tip': 2.18, 'sex': 'Male', 'smoker': 'No', 'day': 'Thur', 'time': 'Lunch', 'size': 3}, {'total_bill': 19.08, 'tip': 1.5, 'sex': 'Male', 'smoker': 'No', 'day': 'Thur', 'time': 'Lunch', 'size': 2}, {'total_bill': 20.27, 'tip': 2.83, 'sex': 'Female', 'smoker': 'No', 'day': 'Thur', 'time': 'Lunch', 'size': 2}, {'total_bill': 11.17, 'tip': 1.5, 'sex': 'Female', 'smoker': 'No', 'day': 'Thur', 'time': 'Lunch', 'size': 2}, {'total_bill': 12.26, 'tip': 2.0, 'sex': 'Female', 'smoker': 'No', 'day': 'Thur', 'time': 'Lunch', 'size': 2}, {'total_bill': 18.26, 'tip': 3.25, 'sex': 'Female', 'smoker': 'No', 'day': 'Thur', 'time': 'Lunch', 'size': 2}, {'total_bill': 8.51, 'tip': 1.25, 'sex': 'Female', 'smoker': 'No', 'day': 'Thur', 'time': 'Lunch', 'size': 2}, {'total_bill': 10.33, 'tip': 2.0, 'sex': 'Female', 'smoker': 'No', 'day': 'Thur', 'time': 'Lunch', 'size': 2}, {'total_bill': 14.15, 'tip': 2.0, 'sex': 'Female', 'smoker': 'No', 'day': 'Thur', 'time': 'Lunch', 'size': 2}, {'total_bill': 16.0, 'tip': 2.0, 'sex': 'Male', 'smoker': 'Yes', 'day': 'Thur', 'time': 'Lunch', 'size': 2}, {'total_bill': 13.16, 'tip': 2.75, 'sex': 'Female', 'smoker': 'No', 'day': 'Thur', 'time': 'Lunch', 'size': 2}, {'total_bill': 17.47, 'tip': 3.5, 'sex': 'Female', 'smoker': 'No', 'day': 'Thur', 'time': 'Lunch', 'size': 2}, {'total_bill': 34.3, 'tip': 6.7, 'sex': 'Male', 'smoker': 'No', 'day': 'Thur', 'time': 'Lunch', 'size': 6}, {'total_bill': 41.19, 'tip': 5.0, 'sex': 'Male', 'smoker': 'No', 'day': 'Thur', 'time': 'Lunch', 'size': 5}, {'total_bill': 27.05, 'tip': 5.0, 'sex': 'Female', 'smoker': 'No', 'day': 'Thur', 'time': 'Lunch', 'size': 6}, {'total_bill': 16.43, 'tip': 2.3, 'sex': 'Female', 'smoker': 'No', 'day': 'Thur', 'time': 'Lunch', 'size': 2}, {'total_bill': 8.35, 'tip': 1.5, 'sex': 'Female', 'smoker': 'No', 'day': 'Thur', 'time': 'Lunch', 'size': 2}, {'total_bill': 18.64, 'tip': 1.36, 'sex': 'Female', 'smoker': 'No', 'day': 'Thur', 'time': 'Lunch', 'size': 3}, {'total_bill': 11.87, 'tip': 1.63, 'sex': 'Female', 'smoker': 'No', 'day': 'Thur', 'time': 'Lunch', 'size': 2}, {'total_bill': 9.78, 'tip': 1.73, 'sex': 'Male', 'smoker': 'No', 'day': 'Thur', 'time': 'Lunch', 'size': 2}, {'total_bill': 7.51, 'tip': 2.0, 'sex': 'Male', 'smoker': 'No', 'day': 'Thur', 'time': 'Lunch', 'size': 2}, {'total_bill': 14.07, 'tip': 2.5, 'sex': 'Male', 'smoker': 'No', 'day': 'Sun', 'time': 'Dinner', 'size': 2}, {'total_bill': 13.13, 'tip': 2.0, 'sex': 'Male', 'smoker': 'No', 'day': 'Sun', 'time': 'Dinner', 'size': 2}, {'total_bill': 17.26, 'tip': 2.74, 'sex': 'Male', 'smoker': 'No', 'day': 'Sun', 'time': 'Dinner', 'size': 3}, {'total_bill': 24.55, 'tip': 2.0, 'sex': 'Male', 'smoker': 'No', 'day': 'Sun', 'time': 'Dinner', 'size': 4}, {'total_bill': 19.77, 'tip': 2.0, 'sex': 'Male', 'smoker': 'No', 'day': 'Sun', 'time': 'Dinner', 'size': 4}, {'total_bill': 29.85, 'tip': 5.14, 'sex': 'Female', 'smoker': 'No', 'day': 'Sun', 'time': 'Dinner', 'size': 5}, {'total_bill': 48.17, 'tip': 5.0, 'sex': 'Male', 'smoker': 'No', 'day': 'Sun', 'time': 'Dinner', 'size': 6}, {'total_bill': 25.0, 'tip': 3.75, 'sex': 'Female', 'smoker': 'No', 'day': 'Sun', 'time': 'Dinner', 'size': 4}, {'total_bill': 13.39, 'tip': 2.61, 'sex': 'Female', 'smoker': 'No', 'day': 'Sun', 'time': 'Dinner', 'size': 2}, {'total_bill': 16.49, 'tip': 2.0, 'sex': 'Male', 'smoker': 'No', 'day': 'Sun', 'time': 'Dinner', 'size': 4}, {'total_bill': 21.5, 'tip': 3.5, 'sex': 'Male', 'smoker': 'No', 'day': 'Sun', 'time': 'Dinner', 'size': 4}, {'total_bill': 12.66, 'tip': 2.5, 'sex': 'Male', 'smoker': 'No', 'day': 'Sun', 'time': 'Dinner', 'size': 2}, {'total_bill': 16.21, 'tip': 2.0, 'sex': 'Female', 'smoker': 'No', 'day': 'Sun', 'time': 'Dinner', 'size': 3}, {'total_bill': 13.81, 'tip': 2.0, 'sex': 'Male', 'smoker': 'No', 'day': 'Sun', 'time': 'Dinner', 'size': 2}, {'total_bill': 17.51, 'tip': 3.0, 'sex': 'Female', 'smoker': 'Yes', 'day': 'Sun', 'time': 'Dinner', 'size': 2}, {'total_bill': 24.52, 'tip': 3.48, 'sex': 'Male', 'smoker': 'No', 'day': 'Sun', 'time': 'Dinner', 'size': 3}, {'total_bill': 20.76, 'tip': 2.24, 'sex': 'Male', 'smoker': 'No', 'day': 'Sun', 'time': 'Dinner', 'size': 2}, {'total_bill': 31.71, 'tip': 4.5, 'sex': 'Male', 'smoker': 'No', 'day': 'Sun', 'time': 'Dinner', 'size': 4}, {'total_bill': 10.59, 'tip': 1.61, 'sex': 'Female', 'smoker': 'Yes', 'day': 'Sat', 'time': 'Dinner', 'size': 2}, {'total_bill': 10.63, 'tip': 2.0, 'sex': 'Female', 'smoker': 'Yes', 'day': 'Sat', 'time': 'Dinner', 'size': 2}, {'total_bill': 50.81, 'tip': 10.0, 'sex': 'Male', 'smoker': 'Yes', 'day': 'Sat', 'time': 'Dinner', 'size': 3}, {'total_bill': 15.81, 'tip': 3.16, 'sex': 'Male', 'smoker': 'Yes', 'day': 'Sat', 'time': 'Dinner', 'size': 2}, {'total_bill': 7.25, 'tip': 5.15, 'sex': 'Male', 'smoker': 'Yes', 'day': 'Sun', 'time': 'Dinner', 'size': 2}, {'total_bill': 31.85, 'tip': 3.18, 'sex': 'Male', 'smoker': 'Yes', 'day': 'Sun', 'time': 'Dinner', 'size': 2}, {'total_bill': 16.82, 'tip': 4.0, 'sex': 'Male', 'smoker': 'Yes', 'day': 'Sun', 'time': 'Dinner', 'size': 2}, {'total_bill': 32.9, 'tip': 3.11, 'sex': 'Male', 'smoker': 'Yes', 'day': 'Sun', 'time': 'Dinner', 'size': 2}, {'total_bill': 17.89, 'tip': 2.0, 'sex': 'Male', 'smoker': 'Yes', 'day': 'Sun', 'time': 'Dinner', 'size': 2}, {'total_bill': 14.48, 'tip': 2.0, 'sex': 'Male', 'smoker': 'Yes', 'day': 'Sun', 'time': 'Dinner', 'size': 2}, {'total_bill': 9.6, 'tip': 4.0, 'sex': 'Female', 'smoker': 'Yes', 'day': 'Sun', 'time': 'Dinner', 'size': 2}, {'total_bill': 34.63, 'tip': 3.55, 'sex': 'Male', 'smoker': 'Yes', 'day': 'Sun', 'time': 'Dinner', 'size': 2}, {'total_bill': 34.65, 'tip': 3.68, 'sex': 'Male', 'smoker': 'Yes', 'day': 'Sun', 'time': 'Dinner', 'size': 4}, {'total_bill': 23.33, 'tip': 5.65, 'sex': 'Male', 'smoker': 'Yes', 'day': 'Sun', 'time': 'Dinner', 'size': 2}, {'total_bill': 45.35, 'tip': 3.5, 'sex': 'Male', 'smoker': 'Yes', 'day': 'Sun', 'time': 'Dinner', 'size': 3}, {'total_bill': 23.17, 'tip': 6.5, 'sex': 'Male', 'smoker': 'Yes', 'day': 'Sun', 'time': 'Dinner', 'size': 4}, {'total_bill': 40.55, 'tip': 3.0, 'sex': 'Male', 'smoker': 'Yes', 'day': 'Sun', 'time': 'Dinner', 'size': 2}, {'total_bill': 20.69, 'tip': 5.0, 'sex': 'Male', 'smoker': 'No', 'day': 'Sun', 'time': 'Dinner', 'size': 5}, {'total_bill': 20.9, 'tip': 3.5, 'sex': 'Female', 'smoker': 'Yes', 'day': 'Sun', 'time': 'Dinner', 'size': 3}, {'total_bill': 30.46, 'tip': 2.0, 'sex': 'Male', 'smoker': 'Yes', 'day': 'Sun', 'time': 'Dinner', 'size': 5}, {'total_bill': 18.15, 'tip': 3.5, 'sex': 'Female', 'smoker': 'Yes', 'day': 'Sun', 'time': 'Dinner', 'size': 3}, {'total_bill': 23.1, 'tip': 4.0, 'sex': 'Male', 'smoker': 'Yes', 'day': 'Sun', 'time': 'Dinner', 'size': 3}, {'total_bill': 15.69, 'tip': 1.5, 'sex': 'Male', 'smoker': 'Yes', 'day': 'Sun', 'time': 'Dinner', 'size': 2}, {'total_bill': 19.81, 'tip': 4.19, 'sex': 'Female', 'smoker': 'Yes', 'day': 'Thur', 'time': 'Lunch', 'size': 2}, {'total_bill': 28.44, 'tip': 2.56, 'sex': 'Male', 'smoker': 'Yes', 'day': 'Thur', 'time': 'Lunch', 'size': 2}, {'total_bill': 15.48, 'tip': 2.02, 'sex': 'Male', 'smoker': 'Yes', 'day': 'Thur', 'time': 'Lunch', 'size': 2}, {'total_bill': 16.58, 'tip': 4.0, 'sex': 'Male', 'smoker': 'Yes', 'day': 'Thur', 'time': 'Lunch', 'size': 2}, {'total_bill': 7.56, 'tip': 1.44, 'sex': 'Male', 'smoker': 'No', 'day': 'Thur', 'time': 'Lunch', 'size': 2}, {'total_bill': 10.34, 'tip': 2.0, 'sex': 'Male', 'smoker': 'Yes', 'day': 'Thur', 'time': 'Lunch', 'size': 2}, {'total_bill': 43.11, 'tip': 5.0, 'sex': 'Female', 'smoker': 'Yes', 'day': 'Thur', 'time': 'Lunch', 'size': 4}, {'total_bill': 13.0, 'tip': 2.0, 'sex': 'Female', 'smoker': 'Yes', 'day': 'Thur', 'time': 'Lunch', 'size': 2}, {'total_bill': 13.51, 'tip': 2.0, 'sex': 'Male', 'smoker': 'Yes', 'day': 'Thur', 'time': 'Lunch', 'size': 2}, {'total_bill': 18.71, 'tip': 4.0, 'sex': 'Male', 'smoker': 'Yes', 'day': 'Thur', 'time': 'Lunch', 'size': 3}, {'total_bill': 12.74, 'tip': 2.01, 'sex': 'Female', 'smoker': 'Yes', 'day': 'Thur', 'time': 'Lunch', 'size': 2}, {'total_bill': 13.0, 'tip': 2.0, 'sex': 'Female', 'smoker': 'Yes', 'day': 'Thur', 'time': 'Lunch', 'size': 2}, {'total_bill': 16.4, 'tip': 2.5, 'sex': 'Female', 'smoker': 'Yes', 'day': 'Thur', 'time': 'Lunch', 'size': 2}, {'total_bill': 20.53, 'tip': 4.0, 'sex': 'Male', 'smoker': 'Yes', 'day': 'Thur', 'time': 'Lunch', 'size': 4}, {'total_bill': 16.47, 'tip': 3.23, 'sex': 'Female', 'smoker': 'Yes', 'day': 'Thur', 'time': 'Lunch', 'size': 3}, {'total_bill': 26.59, 'tip': 3.41, 'sex': 'Male', 'smoker': 'Yes', 'day': 'Sat', 'time': 'Dinner', 'size': 3}, {'total_bill': 38.73, 'tip': 3.0, 'sex': 'Male', 'smoker': 'Yes', 'day': 'Sat', 'time': 'Dinner', 'size': 4}, {'total_bill': 24.27, 'tip': 2.03, 'sex': 'Male', 'smoker': 'Yes', 'day': 'Sat', 'time': 'Dinner', 'size': 2}, {'total_bill': 12.76, 'tip': 2.23, 'sex': 'Female', 'smoker': 'Yes', 'day': 'Sat', 'time': 'Dinner', 'size': 2}, {'total_bill': 30.06, 'tip': 2.0, 'sex': 'Male', 'smoker': 'Yes', 'day': 'Sat', 'time': 'Dinner', 'size': 3}, {'total_bill': 25.89, 'tip': 5.16, 'sex': 'Male', 'smoker': 'Yes', 'day': 'Sat', 'time': 'Dinner', 'size': 4}, {'total_bill': 48.33, 'tip': 9.0, 'sex': 'Male', 'smoker': 'No', 'day': 'Sat', 'time': 'Dinner', 'size': 4}, {'total_bill': 13.27, 'tip': 2.5, 'sex': 'Female', 'smoker': 'Yes', 'day': 'Sat', 'time': 'Dinner', 'size': 2}, {'total_bill': 28.17, 'tip': 6.5, 'sex': 'Female', 'smoker': 'Yes', 'day': 'Sat', 'time': 'Dinner', 'size': 3}, {'total_bill': 12.9, 'tip': 1.1, 'sex': 'Female', 'smoker': 'Yes', 'day': 'Sat', 'time': 'Dinner', 'size': 2}, {'total_bill': 28.15, 'tip': 3.0, 'sex': 'Male', 'smoker': 'Yes', 'day': 'Sat', 'time': 'Dinner', 'size': 5}, {'total_bill': 11.59, 'tip': 1.5, 'sex': 'Male', 'smoker': 'Yes', 'day': 'Sat', 'time': 'Dinner', 'size': 2}, {'total_bill': 7.74, 'tip': 1.44, 'sex': 'Male', 'smoker': 'Yes', 'day': 'Sat', 'time': 'Dinner', 'size': 2}, {'total_bill': 30.14, 'tip': 3.09, 'sex': 'Female', 'smoker': 'Yes', 'day': 'Sat', 'time': 'Dinner', 'size': 4}, {'total_bill': 12.16, 'tip': 2.2, 'sex': 'Male', 'smoker': 'Yes', 'day': 'Fri', 'time': 'Lunch', 'size': 2}, {'total_bill': 13.42, 'tip': 3.48, 'sex': 'Female', 'smoker': 'Yes', 'day': 'Fri', 'time': 'Lunch', 'size': 2}, {'total_bill': 8.58, 'tip': 1.92, 'sex': 'Male', 'smoker': 'Yes', 'day': 'Fri', 'time': 'Lunch', 'size': 1}, {'total_bill': 15.98, 'tip': 3.0, 'sex': 'Female', 'smoker': 'No', 'day': 'Fri', 'time': 'Lunch', 'size': 3}, {'total_bill': 13.42, 'tip': 1.58, 'sex': 'Male', 'smoker': 'Yes', 'day': 'Fri', 'time': 'Lunch', 'size': 2}, {'total_bill': 16.27, 'tip': 2.5, 'sex': 'Female', 'smoker': 'Yes', 'day': 'Fri', 'time': 'Lunch', 'size': 2}, {'total_bill': 10.09, 'tip': 2.0, 'sex': 'Female', 'smoker': 'Yes', 'day': 'Fri', 'time': 'Lunch', 'size': 2}, {'total_bill': 20.45, 'tip': 3.0, 'sex': 'Male', 'smoker': 'No', 'day': 'Sat', 'time': 'Dinner', 'size': 4}, {'total_bill': 13.28, 'tip': 2.72, 'sex': 'Male', 'smoker': 'No', 'day': 'Sat', 'time': 'Dinner', 'size': 2}, {'total_bill': 22.12, 'tip': 2.88, 'sex': 'Female', 'smoker': 'Yes', 'day': 'Sat', 'time': 'Dinner', 'size': 2}, {'total_bill': 24.01, 'tip': 2.0, 'sex': 'Male', 'smoker': 'Yes', 'day': 'Sat', 'time': 'Dinner', 'size': 4}, {'total_bill': 15.69, 'tip': 3.0, 'sex': 'Male', 'smoker': 'Yes', 'day': 'Sat', 'time': 'Dinner', 'size': 3}, {'total_bill': 11.61, 'tip': 3.39, 'sex': 'Male', 'smoker': 'No', 'day': 'Sat', 'time': 'Dinner', 'size': 2}, {'total_bill': 10.77, 'tip': 1.47, 'sex': 'Male', 'smoker': 'No', 'day': 'Sat', 'time': 'Dinner', 'size': 2}, {'total_bill': 15.53, 'tip': 3.0, 'sex': 'Male', 'smoker': 'Yes', 'day': 'Sat', 'time': 'Dinner', 'size': 2}, {'total_bill': 10.07, 'tip': 1.25, 'sex': 'Male', 'smoker': 'No', 'day': 'Sat', 'time': 'Dinner', 'size': 2}, {'total_bill': 12.6, 'tip': 1.0, 'sex': 'Male', 'smoker': 'Yes', 'day': 'Sat', 'time': 'Dinner', 'size': 2}, {'total_bill': 32.83, 'tip': 1.17, 'sex': 'Male', 'smoker': 'Yes', 'day': 'Sat', 'time': 'Dinner', 'size': 2}, {'total_bill': 35.83, 'tip': 4.67, 'sex': 'Female', 'smoker': 'No', 'day': 'Sat', 'time': 'Dinner', 'size': 3}, {'total_bill': 29.03, 'tip': 5.92, 'sex': 'Male', 'smoker': 'No', 'day': 'Sat', 'time': 'Dinner', 'size': 3}, {'total_bill': 27.18, 'tip': 2.0, 'sex': 'Female', 'smoker': 'Yes', 'day': 'Sat', 'time': 'Dinner', 'size': 2}, {'total_bill': 22.67, 'tip': 2.0, 'sex': 'Male', 'smoker': 'Yes', 'day': 'Sat', 'time': 'Dinner', 'size': 2}, {'total_bill': 17.82, 'tip': 1.75, 'sex': 'Male', 'smoker': 'No', 'day': 'Sat', 'time': 'Dinner', 'size': 2}, {'total_bill': 18.78, 'tip': 3.0, 'sex': 'Female', 'smoker': 'No', 'day': 'Thur', 'time': 'Dinner', 'size': 2}]\n"
     ]
    }
   ],
   "source": [
    "# Criar dicionário de dados\n",
    "\n",
    "dicionario = df_2.to_dict('records')\n",
    "print(dicionario)"
   ]
  },
  {
   "cell_type": "code",
   "execution_count": 18,
   "id": "e48d49cc-a6c8-4600-8e38-2591773eb06b",
   "metadata": {},
   "outputs": [
    {
     "name": "stdout",
     "output_type": "stream",
     "text": [
      "       total_bill         tip        size\n",
      "count  244.000000  244.000000  244.000000\n",
      "mean    19.785943    2.998279    2.569672\n",
      "std      8.902412    1.383638    0.951100\n",
      "min      3.070000    1.000000    1.000000\n",
      "25%     13.347500    2.000000    2.000000\n",
      "50%     17.795000    2.900000    2.000000\n",
      "75%     24.127500    3.562500    3.000000\n",
      "max     50.810000   10.000000    6.000000\n"
     ]
    }
   ],
   "source": [
    "# Descrever os dados usando estatísticas de tendência central e dispersão\n",
    "\n",
    "descricao = df_2.describe()\n",
    "print(descricao)"
   ]
  },
  {
   "cell_type": "code",
   "execution_count": 19,
   "id": "c4fdbead-d926-49fc-90a1-4924801b7b0f",
   "metadata": {},
   "outputs": [
    {
     "ename": "TypeError",
     "evalue": "'Categorical' with dtype category does not support reduction 'mean'",
     "output_type": "error",
     "traceback": [
      "\u001b[0;31m---------------------------------------------------------------------------\u001b[0m",
      "\u001b[0;31mTypeError\u001b[0m                                 Traceback (most recent call last)",
      "Cell \u001b[0;32mIn[19], line 3\u001b[0m\n\u001b[1;32m      1\u001b[0m \u001b[38;5;66;03m# Carregar estatísticas de forma separada para cada variável\u001b[39;00m\n\u001b[0;32m----> 3\u001b[0m media \u001b[38;5;241m=\u001b[39m \u001b[43mdf_2\u001b[49m\u001b[38;5;241;43m.\u001b[39;49m\u001b[43mmean\u001b[49m\u001b[43m(\u001b[49m\u001b[43m)\u001b[49m\n\u001b[1;32m      4\u001b[0m mediana \u001b[38;5;241m=\u001b[39m df_2\u001b[38;5;241m.\u001b[39mmedian()\n\u001b[1;32m      5\u001b[0m desvio_padrao \u001b[38;5;241m=\u001b[39m df_2\u001b[38;5;241m.\u001b[39mstd()\n",
      "File \u001b[0;32m~/.pyenv/versions/3.10.4/lib/python3.10/site-packages/pandas/core/frame.py:11338\u001b[0m, in \u001b[0;36mDataFrame.mean\u001b[0;34m(self, axis, skipna, numeric_only, **kwargs)\u001b[0m\n\u001b[1;32m  11330\u001b[0m \u001b[38;5;129m@doc\u001b[39m(make_doc(\u001b[38;5;124m\"\u001b[39m\u001b[38;5;124mmean\u001b[39m\u001b[38;5;124m\"\u001b[39m, ndim\u001b[38;5;241m=\u001b[39m\u001b[38;5;241m2\u001b[39m))\n\u001b[1;32m  11331\u001b[0m \u001b[38;5;28;01mdef\u001b[39;00m \u001b[38;5;21mmean\u001b[39m(\n\u001b[1;32m  11332\u001b[0m     \u001b[38;5;28mself\u001b[39m,\n\u001b[0;32m   (...)\u001b[0m\n\u001b[1;32m  11336\u001b[0m     \u001b[38;5;241m*\u001b[39m\u001b[38;5;241m*\u001b[39mkwargs,\n\u001b[1;32m  11337\u001b[0m ):\n\u001b[0;32m> 11338\u001b[0m     result \u001b[38;5;241m=\u001b[39m \u001b[38;5;28;43msuper\u001b[39;49m\u001b[43m(\u001b[49m\u001b[43m)\u001b[49m\u001b[38;5;241;43m.\u001b[39;49m\u001b[43mmean\u001b[49m\u001b[43m(\u001b[49m\u001b[43maxis\u001b[49m\u001b[43m,\u001b[49m\u001b[43m \u001b[49m\u001b[43mskipna\u001b[49m\u001b[43m,\u001b[49m\u001b[43m \u001b[49m\u001b[43mnumeric_only\u001b[49m\u001b[43m,\u001b[49m\u001b[43m \u001b[49m\u001b[38;5;241;43m*\u001b[39;49m\u001b[38;5;241;43m*\u001b[39;49m\u001b[43mkwargs\u001b[49m\u001b[43m)\u001b[49m\n\u001b[1;32m  11339\u001b[0m     \u001b[38;5;28;01mif\u001b[39;00m \u001b[38;5;28misinstance\u001b[39m(result, Series):\n\u001b[1;32m  11340\u001b[0m         result \u001b[38;5;241m=\u001b[39m result\u001b[38;5;241m.\u001b[39m__finalize__(\u001b[38;5;28mself\u001b[39m, method\u001b[38;5;241m=\u001b[39m\u001b[38;5;124m\"\u001b[39m\u001b[38;5;124mmean\u001b[39m\u001b[38;5;124m\"\u001b[39m)\n",
      "File \u001b[0;32m~/.pyenv/versions/3.10.4/lib/python3.10/site-packages/pandas/core/generic.py:11969\u001b[0m, in \u001b[0;36mNDFrame.mean\u001b[0;34m(self, axis, skipna, numeric_only, **kwargs)\u001b[0m\n\u001b[1;32m  11962\u001b[0m \u001b[38;5;28;01mdef\u001b[39;00m \u001b[38;5;21mmean\u001b[39m(\n\u001b[1;32m  11963\u001b[0m     \u001b[38;5;28mself\u001b[39m,\n\u001b[1;32m  11964\u001b[0m     axis: Axis \u001b[38;5;241m|\u001b[39m \u001b[38;5;28;01mNone\u001b[39;00m \u001b[38;5;241m=\u001b[39m \u001b[38;5;241m0\u001b[39m,\n\u001b[0;32m   (...)\u001b[0m\n\u001b[1;32m  11967\u001b[0m     \u001b[38;5;241m*\u001b[39m\u001b[38;5;241m*\u001b[39mkwargs,\n\u001b[1;32m  11968\u001b[0m ) \u001b[38;5;241m-\u001b[39m\u001b[38;5;241m>\u001b[39m Series \u001b[38;5;241m|\u001b[39m \u001b[38;5;28mfloat\u001b[39m:\n\u001b[0;32m> 11969\u001b[0m     \u001b[38;5;28;01mreturn\u001b[39;00m \u001b[38;5;28;43mself\u001b[39;49m\u001b[38;5;241;43m.\u001b[39;49m\u001b[43m_stat_function\u001b[49m\u001b[43m(\u001b[49m\n\u001b[1;32m  11970\u001b[0m \u001b[43m        \u001b[49m\u001b[38;5;124;43m\"\u001b[39;49m\u001b[38;5;124;43mmean\u001b[39;49m\u001b[38;5;124;43m\"\u001b[39;49m\u001b[43m,\u001b[49m\u001b[43m \u001b[49m\u001b[43mnanops\u001b[49m\u001b[38;5;241;43m.\u001b[39;49m\u001b[43mnanmean\u001b[49m\u001b[43m,\u001b[49m\u001b[43m \u001b[49m\u001b[43maxis\u001b[49m\u001b[43m,\u001b[49m\u001b[43m \u001b[49m\u001b[43mskipna\u001b[49m\u001b[43m,\u001b[49m\u001b[43m \u001b[49m\u001b[43mnumeric_only\u001b[49m\u001b[43m,\u001b[49m\u001b[43m \u001b[49m\u001b[38;5;241;43m*\u001b[39;49m\u001b[38;5;241;43m*\u001b[39;49m\u001b[43mkwargs\u001b[49m\n\u001b[1;32m  11971\u001b[0m \u001b[43m    \u001b[49m\u001b[43m)\u001b[49m\n",
      "File \u001b[0;32m~/.pyenv/versions/3.10.4/lib/python3.10/site-packages/pandas/core/generic.py:11926\u001b[0m, in \u001b[0;36mNDFrame._stat_function\u001b[0;34m(self, name, func, axis, skipna, numeric_only, **kwargs)\u001b[0m\n\u001b[1;32m  11922\u001b[0m nv\u001b[38;5;241m.\u001b[39mvalidate_func(name, (), kwargs)\n\u001b[1;32m  11924\u001b[0m validate_bool_kwarg(skipna, \u001b[38;5;124m\"\u001b[39m\u001b[38;5;124mskipna\u001b[39m\u001b[38;5;124m\"\u001b[39m, none_allowed\u001b[38;5;241m=\u001b[39m\u001b[38;5;28;01mFalse\u001b[39;00m)\n\u001b[0;32m> 11926\u001b[0m \u001b[38;5;28;01mreturn\u001b[39;00m \u001b[38;5;28;43mself\u001b[39;49m\u001b[38;5;241;43m.\u001b[39;49m\u001b[43m_reduce\u001b[49m\u001b[43m(\u001b[49m\n\u001b[1;32m  11927\u001b[0m \u001b[43m    \u001b[49m\u001b[43mfunc\u001b[49m\u001b[43m,\u001b[49m\u001b[43m \u001b[49m\u001b[43mname\u001b[49m\u001b[38;5;241;43m=\u001b[39;49m\u001b[43mname\u001b[49m\u001b[43m,\u001b[49m\u001b[43m \u001b[49m\u001b[43maxis\u001b[49m\u001b[38;5;241;43m=\u001b[39;49m\u001b[43maxis\u001b[49m\u001b[43m,\u001b[49m\u001b[43m \u001b[49m\u001b[43mskipna\u001b[49m\u001b[38;5;241;43m=\u001b[39;49m\u001b[43mskipna\u001b[49m\u001b[43m,\u001b[49m\u001b[43m \u001b[49m\u001b[43mnumeric_only\u001b[49m\u001b[38;5;241;43m=\u001b[39;49m\u001b[43mnumeric_only\u001b[49m\n\u001b[1;32m  11928\u001b[0m \u001b[43m\u001b[49m\u001b[43m)\u001b[49m\n",
      "File \u001b[0;32m~/.pyenv/versions/3.10.4/lib/python3.10/site-packages/pandas/core/frame.py:11207\u001b[0m, in \u001b[0;36mDataFrame._reduce\u001b[0;34m(self, op, name, axis, skipna, numeric_only, filter_type, **kwds)\u001b[0m\n\u001b[1;32m  11203\u001b[0m     df \u001b[38;5;241m=\u001b[39m df\u001b[38;5;241m.\u001b[39mT\n\u001b[1;32m  11205\u001b[0m \u001b[38;5;66;03m# After possibly _get_data and transposing, we are now in the\u001b[39;00m\n\u001b[1;32m  11206\u001b[0m \u001b[38;5;66;03m#  simple case where we can use BlockManager.reduce\u001b[39;00m\n\u001b[0;32m> 11207\u001b[0m res \u001b[38;5;241m=\u001b[39m \u001b[43mdf\u001b[49m\u001b[38;5;241;43m.\u001b[39;49m\u001b[43m_mgr\u001b[49m\u001b[38;5;241;43m.\u001b[39;49m\u001b[43mreduce\u001b[49m\u001b[43m(\u001b[49m\u001b[43mblk_func\u001b[49m\u001b[43m)\u001b[49m\n\u001b[1;32m  11208\u001b[0m out \u001b[38;5;241m=\u001b[39m df\u001b[38;5;241m.\u001b[39m_constructor_from_mgr(res, axes\u001b[38;5;241m=\u001b[39mres\u001b[38;5;241m.\u001b[39maxes)\u001b[38;5;241m.\u001b[39miloc[\u001b[38;5;241m0\u001b[39m]\n\u001b[1;32m  11209\u001b[0m \u001b[38;5;28;01mif\u001b[39;00m out_dtype \u001b[38;5;129;01mis\u001b[39;00m \u001b[38;5;129;01mnot\u001b[39;00m \u001b[38;5;28;01mNone\u001b[39;00m \u001b[38;5;129;01mand\u001b[39;00m out\u001b[38;5;241m.\u001b[39mdtype \u001b[38;5;241m!=\u001b[39m \u001b[38;5;124m\"\u001b[39m\u001b[38;5;124mboolean\u001b[39m\u001b[38;5;124m\"\u001b[39m:\n",
      "File \u001b[0;32m~/.pyenv/versions/3.10.4/lib/python3.10/site-packages/pandas/core/internals/managers.py:1459\u001b[0m, in \u001b[0;36mBlockManager.reduce\u001b[0;34m(self, func)\u001b[0m\n\u001b[1;32m   1457\u001b[0m res_blocks: \u001b[38;5;28mlist\u001b[39m[Block] \u001b[38;5;241m=\u001b[39m []\n\u001b[1;32m   1458\u001b[0m \u001b[38;5;28;01mfor\u001b[39;00m blk \u001b[38;5;129;01min\u001b[39;00m \u001b[38;5;28mself\u001b[39m\u001b[38;5;241m.\u001b[39mblocks:\n\u001b[0;32m-> 1459\u001b[0m     nbs \u001b[38;5;241m=\u001b[39m \u001b[43mblk\u001b[49m\u001b[38;5;241;43m.\u001b[39;49m\u001b[43mreduce\u001b[49m\u001b[43m(\u001b[49m\u001b[43mfunc\u001b[49m\u001b[43m)\u001b[49m\n\u001b[1;32m   1460\u001b[0m     res_blocks\u001b[38;5;241m.\u001b[39mextend(nbs)\n\u001b[1;32m   1462\u001b[0m index \u001b[38;5;241m=\u001b[39m Index([\u001b[38;5;28;01mNone\u001b[39;00m])  \u001b[38;5;66;03m# placeholder\u001b[39;00m\n",
      "File \u001b[0;32m~/.pyenv/versions/3.10.4/lib/python3.10/site-packages/pandas/core/internals/blocks.py:377\u001b[0m, in \u001b[0;36mBlock.reduce\u001b[0;34m(self, func)\u001b[0m\n\u001b[1;32m    371\u001b[0m \u001b[38;5;129m@final\u001b[39m\n\u001b[1;32m    372\u001b[0m \u001b[38;5;28;01mdef\u001b[39;00m \u001b[38;5;21mreduce\u001b[39m(\u001b[38;5;28mself\u001b[39m, func) \u001b[38;5;241m-\u001b[39m\u001b[38;5;241m>\u001b[39m \u001b[38;5;28mlist\u001b[39m[Block]:\n\u001b[1;32m    373\u001b[0m     \u001b[38;5;66;03m# We will apply the function and reshape the result into a single-row\u001b[39;00m\n\u001b[1;32m    374\u001b[0m     \u001b[38;5;66;03m#  Block with the same mgr_locs; squeezing will be done at a higher level\u001b[39;00m\n\u001b[1;32m    375\u001b[0m     \u001b[38;5;28;01massert\u001b[39;00m \u001b[38;5;28mself\u001b[39m\u001b[38;5;241m.\u001b[39mndim \u001b[38;5;241m==\u001b[39m \u001b[38;5;241m2\u001b[39m\n\u001b[0;32m--> 377\u001b[0m     result \u001b[38;5;241m=\u001b[39m \u001b[43mfunc\u001b[49m\u001b[43m(\u001b[49m\u001b[38;5;28;43mself\u001b[39;49m\u001b[38;5;241;43m.\u001b[39;49m\u001b[43mvalues\u001b[49m\u001b[43m)\u001b[49m\n\u001b[1;32m    379\u001b[0m     \u001b[38;5;28;01mif\u001b[39;00m \u001b[38;5;28mself\u001b[39m\u001b[38;5;241m.\u001b[39mvalues\u001b[38;5;241m.\u001b[39mndim \u001b[38;5;241m==\u001b[39m \u001b[38;5;241m1\u001b[39m:\n\u001b[1;32m    380\u001b[0m         res_values \u001b[38;5;241m=\u001b[39m result\n",
      "File \u001b[0;32m~/.pyenv/versions/3.10.4/lib/python3.10/site-packages/pandas/core/frame.py:11128\u001b[0m, in \u001b[0;36mDataFrame._reduce.<locals>.blk_func\u001b[0;34m(values, axis)\u001b[0m\n\u001b[1;32m  11126\u001b[0m     dtype_has_keepdims[values\u001b[38;5;241m.\u001b[39mdtype] \u001b[38;5;241m=\u001b[39m has_keepdims\n\u001b[1;32m  11127\u001b[0m \u001b[38;5;28;01mif\u001b[39;00m has_keepdims:\n\u001b[0;32m> 11128\u001b[0m     \u001b[38;5;28;01mreturn\u001b[39;00m \u001b[43mvalues\u001b[49m\u001b[38;5;241;43m.\u001b[39;49m\u001b[43m_reduce\u001b[49m\u001b[43m(\u001b[49m\u001b[43mname\u001b[49m\u001b[43m,\u001b[49m\u001b[43m \u001b[49m\u001b[43mskipna\u001b[49m\u001b[38;5;241;43m=\u001b[39;49m\u001b[43mskipna\u001b[49m\u001b[43m,\u001b[49m\u001b[43m \u001b[49m\u001b[43mkeepdims\u001b[49m\u001b[38;5;241;43m=\u001b[39;49m\u001b[38;5;28;43;01mTrue\u001b[39;49;00m\u001b[43m,\u001b[49m\u001b[43m \u001b[49m\u001b[38;5;241;43m*\u001b[39;49m\u001b[38;5;241;43m*\u001b[39;49m\u001b[43mkwds\u001b[49m\u001b[43m)\u001b[49m\n\u001b[1;32m  11129\u001b[0m \u001b[38;5;28;01melse\u001b[39;00m:\n\u001b[1;32m  11130\u001b[0m     warnings\u001b[38;5;241m.\u001b[39mwarn(\n\u001b[1;32m  11131\u001b[0m         \u001b[38;5;124mf\u001b[39m\u001b[38;5;124m\"\u001b[39m\u001b[38;5;132;01m{\u001b[39;00m\u001b[38;5;28mtype\u001b[39m(values)\u001b[38;5;132;01m}\u001b[39;00m\u001b[38;5;124m._reduce will require a `keepdims` parameter \u001b[39m\u001b[38;5;124m\"\u001b[39m\n\u001b[1;32m  11132\u001b[0m         \u001b[38;5;124m\"\u001b[39m\u001b[38;5;124min the future\u001b[39m\u001b[38;5;124m\"\u001b[39m,\n\u001b[1;32m  11133\u001b[0m         \u001b[38;5;167;01mFutureWarning\u001b[39;00m,\n\u001b[1;32m  11134\u001b[0m         stacklevel\u001b[38;5;241m=\u001b[39mfind_stack_level(),\n\u001b[1;32m  11135\u001b[0m     )\n",
      "File \u001b[0;32m~/.pyenv/versions/3.10.4/lib/python3.10/site-packages/pandas/core/arrays/categorical.py:2325\u001b[0m, in \u001b[0;36mCategorical._reduce\u001b[0;34m(self, name, skipna, keepdims, **kwargs)\u001b[0m\n\u001b[1;32m   2322\u001b[0m \u001b[38;5;28;01mdef\u001b[39;00m \u001b[38;5;21m_reduce\u001b[39m(\n\u001b[1;32m   2323\u001b[0m     \u001b[38;5;28mself\u001b[39m, name: \u001b[38;5;28mstr\u001b[39m, \u001b[38;5;241m*\u001b[39m, skipna: \u001b[38;5;28mbool\u001b[39m \u001b[38;5;241m=\u001b[39m \u001b[38;5;28;01mTrue\u001b[39;00m, keepdims: \u001b[38;5;28mbool\u001b[39m \u001b[38;5;241m=\u001b[39m \u001b[38;5;28;01mFalse\u001b[39;00m, \u001b[38;5;241m*\u001b[39m\u001b[38;5;241m*\u001b[39mkwargs\n\u001b[1;32m   2324\u001b[0m ):\n\u001b[0;32m-> 2325\u001b[0m     result \u001b[38;5;241m=\u001b[39m \u001b[38;5;28;43msuper\u001b[39;49m\u001b[43m(\u001b[49m\u001b[43m)\u001b[49m\u001b[38;5;241;43m.\u001b[39;49m\u001b[43m_reduce\u001b[49m\u001b[43m(\u001b[49m\u001b[43mname\u001b[49m\u001b[43m,\u001b[49m\u001b[43m \u001b[49m\u001b[43mskipna\u001b[49m\u001b[38;5;241;43m=\u001b[39;49m\u001b[43mskipna\u001b[49m\u001b[43m,\u001b[49m\u001b[43m \u001b[49m\u001b[43mkeepdims\u001b[49m\u001b[38;5;241;43m=\u001b[39;49m\u001b[43mkeepdims\u001b[49m\u001b[43m,\u001b[49m\u001b[43m \u001b[49m\u001b[38;5;241;43m*\u001b[39;49m\u001b[38;5;241;43m*\u001b[39;49m\u001b[43mkwargs\u001b[49m\u001b[43m)\u001b[49m\n\u001b[1;32m   2326\u001b[0m     \u001b[38;5;28;01mif\u001b[39;00m name \u001b[38;5;129;01min\u001b[39;00m [\u001b[38;5;124m\"\u001b[39m\u001b[38;5;124margmax\u001b[39m\u001b[38;5;124m\"\u001b[39m, \u001b[38;5;124m\"\u001b[39m\u001b[38;5;124margmin\u001b[39m\u001b[38;5;124m\"\u001b[39m]:\n\u001b[1;32m   2327\u001b[0m         \u001b[38;5;66;03m# don't wrap in Categorical!\u001b[39;00m\n\u001b[1;32m   2328\u001b[0m         \u001b[38;5;28;01mreturn\u001b[39;00m result\n",
      "File \u001b[0;32m~/.pyenv/versions/3.10.4/lib/python3.10/site-packages/pandas/core/arrays/base.py:1857\u001b[0m, in \u001b[0;36mExtensionArray._reduce\u001b[0;34m(self, name, skipna, keepdims, **kwargs)\u001b[0m\n\u001b[1;32m   1855\u001b[0m meth \u001b[38;5;241m=\u001b[39m \u001b[38;5;28mgetattr\u001b[39m(\u001b[38;5;28mself\u001b[39m, name, \u001b[38;5;28;01mNone\u001b[39;00m)\n\u001b[1;32m   1856\u001b[0m \u001b[38;5;28;01mif\u001b[39;00m meth \u001b[38;5;129;01mis\u001b[39;00m \u001b[38;5;28;01mNone\u001b[39;00m:\n\u001b[0;32m-> 1857\u001b[0m     \u001b[38;5;28;01mraise\u001b[39;00m \u001b[38;5;167;01mTypeError\u001b[39;00m(\n\u001b[1;32m   1858\u001b[0m         \u001b[38;5;124mf\u001b[39m\u001b[38;5;124m\"\u001b[39m\u001b[38;5;124m'\u001b[39m\u001b[38;5;132;01m{\u001b[39;00m\u001b[38;5;28mtype\u001b[39m(\u001b[38;5;28mself\u001b[39m)\u001b[38;5;241m.\u001b[39m\u001b[38;5;18m__name__\u001b[39m\u001b[38;5;132;01m}\u001b[39;00m\u001b[38;5;124m'\u001b[39m\u001b[38;5;124m with dtype \u001b[39m\u001b[38;5;132;01m{\u001b[39;00m\u001b[38;5;28mself\u001b[39m\u001b[38;5;241m.\u001b[39mdtype\u001b[38;5;132;01m}\u001b[39;00m\u001b[38;5;124m \u001b[39m\u001b[38;5;124m\"\u001b[39m\n\u001b[1;32m   1859\u001b[0m         \u001b[38;5;124mf\u001b[39m\u001b[38;5;124m\"\u001b[39m\u001b[38;5;124mdoes not support reduction \u001b[39m\u001b[38;5;124m'\u001b[39m\u001b[38;5;132;01m{\u001b[39;00mname\u001b[38;5;132;01m}\u001b[39;00m\u001b[38;5;124m'\u001b[39m\u001b[38;5;124m\"\u001b[39m\n\u001b[1;32m   1860\u001b[0m     )\n\u001b[1;32m   1861\u001b[0m result \u001b[38;5;241m=\u001b[39m meth(skipna\u001b[38;5;241m=\u001b[39mskipna, \u001b[38;5;241m*\u001b[39m\u001b[38;5;241m*\u001b[39mkwargs)\n\u001b[1;32m   1862\u001b[0m \u001b[38;5;28;01mif\u001b[39;00m keepdims:\n",
      "\u001b[0;31mTypeError\u001b[0m: 'Categorical' with dtype category does not support reduction 'mean'"
     ]
    }
   ],
   "source": [
    "# Carregar estatísticas de forma separada para cada variável\n",
    "\n",
    "media = df_2.mean()\n",
    "mediana = df_2.median()\n",
    "desvio_padrao = df_2.std()\n",
    "variancia = df_2.var()\n",
    "\n",
    "print('Média:', media)\n",
    "print('Mediana:', mediana)\n",
    "print('Desvio padrão:', desvio_padrao)\n",
    "print('Variância:', variancia)"
   ]
  },
  {
   "cell_type": "markdown",
   "id": "b472ec20-3043-4764-bb34-9df7f3dc3de8",
   "metadata": {},
   "source": [
    "# Dataset Titanic"
   ]
  },
  {
   "cell_type": "code",
   "execution_count": null,
   "id": "922195fd-fe45-49d3-8a45-f7b40ff935a1",
   "metadata": {},
   "outputs": [],
   "source": [
    "# Carregando conjunto de dados\n",
    "\n",
    "df_3 = sns.load_dataset('titanic')\n",
    "df_3"
   ]
  },
  {
   "cell_type": "code",
   "execution_count": null,
   "id": "3eb8009c-767f-445e-a109-2bd04d83cf7e",
   "metadata": {},
   "outputs": [],
   "source": [
    "# Criar dicionário de dados\n",
    "\n",
    "dicionario = df_3.to_dict('records')\n",
    "print(dicionario)"
   ]
  },
  {
   "cell_type": "code",
   "execution_count": null,
   "id": "831d546d-c9f9-4f25-867b-411b26cb0316",
   "metadata": {},
   "outputs": [],
   "source": [
    "# Descrever os dados usando estatísticas de tendência central e dispersão\n",
    "\n",
    "descricao = df_3.describe()\n",
    "print(descricao)"
   ]
  },
  {
   "cell_type": "code",
   "execution_count": null,
   "id": "26be320e-f2ec-4dee-9c60-4a28a77ae423",
   "metadata": {},
   "outputs": [],
   "source": [
    "# Carregar estatísticas de forma separada para cada variável\n",
    "\n",
    "media = df_3.mean()\n",
    "mediana = df_3.median()\n",
    "desvio_padrao = df_3.std()\n",
    "variancia = df_3.var()\n",
    "\n",
    "print('Média:', media)\n",
    "print('Mediana:', mediana)\n",
    "print('Desvio padrão:', desvio_padrao)\n",
    "print('Variância:', variancia)"
   ]
  },
  {
   "cell_type": "markdown",
   "id": "d66859ae-b470-4f99-b778-cc4d33afbf99",
   "metadata": {},
   "source": [
    "# Dataset Quarteto Anscombe"
   ]
  },
  {
   "cell_type": "code",
   "execution_count": null,
   "id": "244ca17f-0170-4331-8958-c59c23a4f80e",
   "metadata": {},
   "outputs": [],
   "source": [
    "# Carregando conjunto de dados\n",
    "\n",
    "df_4 = sns.load_dataset('anscombe')\n",
    "df_4"
   ]
  },
  {
   "cell_type": "code",
   "execution_count": null,
   "id": "1bcb3426-4afb-40c8-96f3-ef8a8dc08265",
   "metadata": {},
   "outputs": [],
   "source": [
    "# Criar dicionário de dados\n",
    "\n",
    "dicionario = df_4.to_dict('records')\n",
    "print(dicionario)"
   ]
  },
  {
   "cell_type": "code",
   "execution_count": null,
   "id": "a1f0eb17-d44c-4b3f-90ef-5ff78fc9cbe7",
   "metadata": {},
   "outputs": [],
   "source": [
    "# Descrever os dados usando estatísticas de tendência central e dispersão\n",
    "\n",
    "descricao = df_4.describe()\n",
    "print(descricao)"
   ]
  },
  {
   "cell_type": "code",
   "execution_count": null,
   "id": "5e828f8d-4846-4302-b626-a3c85698a65d",
   "metadata": {},
   "outputs": [],
   "source": [
    "# Carregar estatísticas de forma separada para cada variável\n",
    "\n",
    "media = df_4.mean()\n",
    "mediana = df_4.median()\n",
    "desvio_padrao = df_4.std()\n",
    "variancia = df_4.var()\n",
    "\n",
    "print('Média:', media)\n",
    "print('Mediana:', mediana)\n",
    "print('Desvio padrão:', desvio_padrao)\n",
    "print('Variância:', variancia)"
   ]
  },
  {
   "cell_type": "code",
   "execution_count": null,
   "id": "07e71808-0d39-4cbf-8ccd-bb778822909f",
   "metadata": {},
   "outputs": [],
   "source": []
  }
 ],
 "metadata": {
  "kernelspec": {
   "display_name": "Python 3 (ipykernel)",
   "language": "python",
   "name": "python3"
  },
  "language_info": {
   "codemirror_mode": {
    "name": "ipython",
    "version": 3
   },
   "file_extension": ".py",
   "mimetype": "text/x-python",
   "name": "python",
   "nbconvert_exporter": "python",
   "pygments_lexer": "ipython3",
   "version": "3.10.4"
  }
 },
 "nbformat": 4,
 "nbformat_minor": 5
}
